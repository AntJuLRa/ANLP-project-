{
 "cells": [
  {
   "cell_type": "code",
   "execution_count": 7,
   "metadata": {},
   "outputs": [],
   "source": [
    "import numpy as np\n",
    "import tensorflow as tf\n",
    "from matplotlib import pyplot as plt\n",
    "import sklearn as sk\n",
    "import os\n",
    "from sklearn.naive_bayes import ComplementNB\n",
    "from sklearn.naive_bayes import GaussianNB\n",
    "from sklearn.naive_bayes import MultinomialNB\n",
    "from sklearn.linear_model import LogisticRegression\n",
    "from sklearn.model_selection import train_test_split\n",
    "from numpy.random import uniform\n",
    "from sklearn.feature_extraction.text import CountVectorizer\n",
    "from sklearn.feature_extraction.text import TfidfVectorizer\n",
    "import unidecode\n",
    "import pandas as pd\n",
    "import nltk\n",
    "import re\n",
    "from os import listdir\n",
    "from os.path import isfile, join\n",
    "from keras.models import Sequential\n",
    "from keras.layers import Dense\n",
    "from keras import backend as K\n",
    "from sklearn.metrics import f1_score\n",
    "from sklearn import svm\n",
    "import pickle"
   ]
  },
  {
   "cell_type": "markdown",
   "metadata": {},
   "source": [
    "\n",
    "https://drive.google.com/drive/folders/1qD0tbXwpeD-cU8phT_w9-flJoj_0a-0s?usp=sharing\n",
    "\n",
    "<h3>\n",
    "GO TO THIS LINK, DOWNLOAD THE 4 CSV FILES AND UPLOAD THEM TO THE DIRECTORY SEEN ON THE LEFT SIDE\n",
    "CLICK THE ICON NAMED'FILES' AND CLICK UPLOAD ICON\n",
    "</h3>"
   ]
  },
  {
   "cell_type": "code",
   "execution_count": 10,
   "metadata": {},
   "outputs": [],
   "source": [
    "\"\"\"definitions of classifier and other functions, \n",
    "each call to the classifier function auto prints various metrics\"\"\"\n",
    "\n",
    "def read_csv(file_name, sep=','):\n",
    "    df = pd.read_csv(file_name, sep=sep)\n",
    "    return df\n",
    "\n",
    "def print_f1(Y_pred, Y_test):\n",
    "    print (f1_score(Y_test, Y_pred))\n",
    "\n",
    "def evaluate_model(Y_test,Y_pred):\n",
    "    TP = ((Y_pred == Y_test) & (Y_pred > 0)).sum() #true positives\n",
    "    TN = ((Y_pred == Y_test) & (Y_pred < 1)).sum() #true negatives\n",
    "    FP = ((Y_pred != Y_test) & (Y_pred > 0)).sum() #false positives\n",
    "    FN = ((Y_pred != Y_test) & (Y_pred < 1)).sum() #false negatives\n",
    "    \n",
    "    print(\"TP: \", TP)\n",
    "    print(\"TN: \", TN)\n",
    "    print(\"FP: \", FP)\n",
    "    print(\"FN: \", FN)\n",
    "    \n",
    "    f1 = sk.metrics.f1_score(Y_test, Y_pred)\n",
    "    print(\"f1 score is: \", f1)\n",
    "    \n",
    "def gnb_simple(X_train, Y_train, X_test, Y_test):\n",
    "    clf = GaussianNB() #complement naive bayes classifier with different smoothing parameters\n",
    "\n",
    "    Y_pred = clf.fit(X_train, Y_train).predict(X_test) #fitting and predicting\n",
    "    f1 = sk.metrics.f1_score(Y_test, Y_pred)\n",
    "    print(\"f1 score is: \", f1)\n",
    "    \n",
    "    evaluate_model(Y_test,Y_pred)\n",
    "    return clf\n",
    "\n",
    "def mnb_simple(X_train, Y_train, X_test, Y_test):\n",
    "    clf = MultinomialNB() #complement naive bayes classifier with different smoothing parameters\n",
    "\n",
    "    Y_pred = clf.fit(X_train, Y_train).predict(X_test) #fitting and predicting\n",
    "    f1 = sk.metrics.f1_score(Y_test, Y_pred)\n",
    "    print(\"f1 score is: \", f1)\n",
    "    \n",
    "    evaluate_model(Y_test,Y_pred)\n",
    "    return clf\n",
    "\n",
    "\n",
    "def predict_from_proba(pred_proba, threshold):\n",
    "    lst = []\n",
    "    \n",
    "    for prob in pred_proba:\n",
    "        if prob[1] >= threshold:\n",
    "            lst.append(1)\n",
    "        else:\n",
    "            lst.append(0)        \n",
    "    return np.array(lst)\n",
    "\n",
    "def mismatched_indices(Y_test, Y_pred):\n",
    "    ind_list = []\n",
    "    for ind in range(len(Y_test)):\n",
    "        if Y_test[ind] != Y_pred[ind]:\n",
    "            ind_list.append(ind)\n",
    "    return ind_list"
   ]
  },
  {
   "cell_type": "code",
   "execution_count": 53,
   "metadata": {},
   "outputs": [],
   "source": [
    "all_lyrics_data = []\n",
    "\n",
    "rap_file = ['rap'] #EDIT THESE LINES ACCORDING TO THE DIRECTORY AND FILE NAMES\n",
    "nrap_files = ['nrap','nrap2','nrap3'] #EDIT THESE LINES ACCORDING TO THE DIRECTORY AND FILE NAMES\n",
    "file_root = 'Dataset/AZlyrics/filtered/'#EDIT THESE LINES ACCORDING TO THE DIRECTORY AND FILE NAMES\n",
    "file_format = '.csv' #EDIT THESE LINES ACCORDING TO THE DIRECTORY AND FILE NAMES\n",
    "\n",
    "rap_label_list = []\n",
    "nrap_label_list = []\n",
    "rap_lyrics_list = []\n",
    "nrap_lyrics_list = []\n",
    "all_lyrics_list = []\n",
    "\n",
    "\n",
    "#GET ALL LYRICS FROM RAP SONGS rap_lyrics_list, AND CREATE CORRESPONDING LABEL LIST rap_label_list\n",
    "for ini in rap_file:\n",
    "    file_name = file_root + ini + file_format \n",
    "    data = read_csv(file_name)\n",
    "    \n",
    "    all_lyrics_list = data['LYRICS'].values.tolist()\n",
    "    rap_lyrics_list = data['LYRICS'].values.tolist()\n",
    "    \n",
    "    for entry in rap_lyrics_list:\n",
    "        entry = entry.lower()\n",
    "        entry = re.sub(r'[^a-zA-Z0-9\\-\\']',' ',entry)\n",
    "        entry = re.sub(r'[\\s,.?]+',' ',entry)\n",
    "        rap_label_list.append(1)\n",
    "\n",
    "#GET ALL LYRICS FROM NON-RAP SONGS nrap_lyrics_list, AND CREATE CORRESPONDING LABEL LIST nrap_label_list\n",
    "for ini in nrap_files:\n",
    "    sublist = []\n",
    "    file_name = file_root + ini + file_format\n",
    "    data = read_csv(file_name)\n",
    "    \n",
    "    sublist = data['LYRICS'].values.tolist()\n",
    "    \n",
    "    for entry in sublist:\n",
    "        entry = entry.lower()\n",
    "        entry = re.sub(r'[^a-zA-Z0-9\\-\\']',' ',entry)\n",
    "        entry = re.sub(r'[\\s,.?]+',' ',entry)\n",
    "        nrap_label_list.append(0)\n",
    "        \n",
    "    all_lyrics_list = all_lyrics_list + sublist\n",
    "    nrap_lyrics_list = nrap_lyrics_list + sublist\n",
    "    \n",
    "#ALSO SAVES ALL LYRICS (RAP AND NON-RAP) INTO all_lyrics_list"
   ]
  },
  {
   "cell_type": "code",
   "execution_count": 54,
   "metadata": {},
   "outputs": [],
   "source": [
    "#MANUALLY FORCING THE TRAINING DATASET TO BE BALANCED\n",
    "x=4 #ADJUSTABLE STARTING ELEMENT, X MUST BE SMALLER THAN 30\n",
    "nrap_lyrics_list_sampled = nrap_lyrics_list[x::30]\n",
    "all_lyrics_list_sampled = rap_lyrics_list + nrap_lyrics_list_sampled\n",
    "label_list_sampled = rap_label_list + nrap_label_list[x::30]"
   ]
  },
  {
   "cell_type": "code",
   "execution_count": 55,
   "metadata": {},
   "outputs": [],
   "source": [
    "#TF-IDF VECTORIZER, PARAMETERS ADJUSTABLE, FITTED TO ONLY RAP LYRICS, VECTORIZED FOR \n",
    "tfidf_dictionary = TfidfVectorizer(ngram_range=(1,1),max_df=0.6,max_features=5000,min_df=0.00002, token_pattern=r\"[a-zA-Z0-9\\-\\']+\").fit(all_lyrics_list)\n",
    "lyrics_vectorized = tfidf_dictionary.transform(all_lyrics_list_sampled)"
   ]
  },
  {
   "cell_type": "code",
   "execution_count": 56,
   "metadata": {},
   "outputs": [],
   "source": [
    "#SPLIT DATASET FOR TRAINING AND TESTING, PARAMETERS ADJUSTABLE\n",
    "X_train, X_test, Y_train, Y_test = train_test_split(lyrics_vectorized, label_list_sampled,\\\n",
    "                                                   test_size=0.25, random_state=42)"
   ]
  },
  {
   "cell_type": "code",
   "execution_count": 57,
   "metadata": {},
   "outputs": [
    {
     "name": "stdout",
     "output_type": "stream",
     "text": [
      "f1 score is:  0.802775024777007\n",
      "TP:  810\n",
      "TN:  861\n",
      "FP:  173\n",
      "FN:  225\n",
      "f1 score is:  0.802775024777007\n"
     ]
    }
   ],
   "source": [
    "mnb_train = mnb_simple(X_train, Y_train, X_test, Y_test)"
   ]
  },
  {
   "cell_type": "code",
   "execution_count": 60,
   "metadata": {},
   "outputs": [],
   "source": [
    "survey = read_csv('Dataset/Generated/survey.csv')\n",
    "survey_lyrics = survey['LYRICS'].values.tolist()"
   ]
  },
  {
   "cell_type": "code",
   "execution_count": 61,
   "metadata": {},
   "outputs": [],
   "source": [
    "\n",
    "test_file_list = ['Dataset/Generated/mc_list.p',\n",
    "                 'Dataset/Generated/onelyr_list.p',\n",
    "                 'Dataset/Generated/random_list.p',\n",
    "                 'Dataset/Generated/twolyr_list.p']\n",
    "\n",
    "\"\"\"\n",
    "test_file_list = ['mc_list.p',\n",
    "                 'onelyr_list.p',\n",
    "                 'random_list.p',\n",
    "                 'twolyr_list.p']\n",
    "\"\"\"\n",
    "\"\"\"Change the above list accordingly, each file should contain a list of songs/documents (a list of lists)\"\"\"\n",
    "\n",
    "collated_list = []\n",
    "\n",
    "for f in range(len(test_file_list)):    \n",
    "    pickle_file = open(test_file_list[f], \"rb\")\n",
    "\n",
    "    while True:\n",
    "        try:\n",
    "            collated_list.append(pickle.load(pickle_file))\n",
    "        except EOFError:\n",
    "            break\n",
    "\n",
    "\"\"\"below are the names of the lists of lyrics to be testing\"\"\"\n",
    "mc = collated_list[0] \n",
    "onelyr = collated_list[1]\n",
    "random = collated_list[2]\n",
    "twolyr = collated_list[3]"
   ]
  },
  {
   "cell_type": "code",
   "execution_count": 62,
   "metadata": {},
   "outputs": [],
   "source": [
    "#prepares the test set and labels\n",
    "test_list = survey_lyrics #Change this line to one of the names of the test lists: mc/onelyr...\n",
    "test_labels = []\n",
    "\n",
    "for entry in test_list:\n",
    "    test_labels.append(1)\n",
    "\n",
    "test_vectorized = tfidf_dictionary.transform(test_list)\n",
    "X_test = test_vectorized\n",
    "Y_test = test_labels"
   ]
  },
  {
   "cell_type": "code",
   "execution_count": 65,
   "metadata": {},
   "outputs": [
    {
     "name": "stdout",
     "output_type": "stream",
     "text": [
      "f1 score is:  0.9500000000000001\n",
      "TP:  38\n",
      "TN:  0\n",
      "FP:  0\n",
      "FN:  4\n",
      "f1 score is:  0.9500000000000001\n",
      "TP:  41\n",
      "TN:  0\n",
      "FP:  0\n",
      "FN:  1\n",
      "f1 score is:  0.9879518072289156\n"
     ]
    }
   ],
   "source": [
    "mnb_clf = mnb_simple(X_train, Y_train, X_test, Y_test)\n",
    "mnb_Y_pred_proba = mnb_clf.predict_proba(X_test)\n",
    "#print(mnb_Y_pred_proba)\n",
    "\n",
    "mnb_Y_pred = predict_from_proba(mnb_Y_pred_proba, 0.4)\n",
    "#print(mnb_Y_pred)\n",
    "evaluate_model(Y_test, mnb_Y_pred)\n",
    "\n",
    "#prints out the lines which the classifier deems not rap\n",
    "#wrong = mismatched_indices(Y_test, mnb_Y_pred)\n",
    "#for ind in wrong:\n",
    "    #print(ind)\n",
    "    #print(test_list[ind])"
   ]
  },
  {
   "cell_type": "code",
   "execution_count": null,
   "metadata": {},
   "outputs": [],
   "source": []
  }
 ],
 "metadata": {
  "kernelspec": {
   "display_name": "Python 3",
   "language": "python",
   "name": "python3"
  },
  "language_info": {
   "codemirror_mode": {
    "name": "ipython",
    "version": 3
   },
   "file_extension": ".py",
   "mimetype": "text/x-python",
   "name": "python",
   "nbconvert_exporter": "python",
   "pygments_lexer": "ipython3",
   "version": "3.7.4"
  }
 },
 "nbformat": 4,
 "nbformat_minor": 4
}
