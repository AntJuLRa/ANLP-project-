{
 "cells": [
  {
   "cell_type": "code",
   "execution_count": 1,
   "metadata": {},
   "outputs": [],
   "source": [
    "import pandas as pd\n",
    "import pickle \n",
    "import re"
   ]
  },
  {
   "cell_type": "code",
   "execution_count": 2,
   "metadata": {},
   "outputs": [],
   "source": [
    "#read in the data\n",
    "ohhla = pd.read_csv('All lyrics OHHLa.txt', sep='\\n\\n\\n', engine='python',encoding='utf8', header = 0)"
   ]
  },
  {
   "cell_type": "code",
   "execution_count": 3,
   "metadata": {},
   "outputs": [],
   "source": [
    "def replace_verse(x):\n",
    "    if x[:5]=='Verse' or x[:6]=='Chorus' or x[:5]=='Intro' or x[0]=='[':\n",
    "        return \"NXTVRSE\"\n",
    "    if x[:4]=='Song':\n",
    "        return \"NXTSNG\"\n",
    "    else: \n",
    "        return x"
   ]
  },
  {
   "cell_type": "code",
   "execution_count": 4,
   "metadata": {},
   "outputs": [],
   "source": [
    "\n",
    "linelist=ohhla[\"Artist: 40 Thevz f/ Malika\"]\n",
    "lines = [x for x in linelist]\n",
    "lines = [x for x in lines if x[:5] != 'Album' and x[:6]!='Artist' and x[0]!='*' and x[:5]!='Typed']\n",
    "lines = [replace_verse(x) for x in lines]\n",
    "mini_lines = [re.sub(\"[^A-Za-z0-9\\-\\ ]\", \"\", x.lower()) for x in lines]"
   ]
  },
  {
   "cell_type": "code",
   "execution_count": 32,
   "metadata": {},
   "outputs": [],
   "source": [
    "#split the data into the songs\n",
    "count=-1\n",
    "hold=[]\n",
    "\n",
    "verselist = [None] * 10000000\n",
    "\n",
    "for item in mini_lines:\n",
    "    hold.append(item)\n",
    "    \n",
    "    if item ==\"nxtvrse\":\n",
    "        count=count+1\n",
    "        verselist[count]=hold\n",
    "        hold=[]\n",
    "       \n",
    "#remove all None\n",
    "verselist = [i for i in verselist if i] \n",
    "\n",
    "#filters out all \"nxtvrse and nxtsng markers\"\n",
    "filters=[\"nxtvrse\",\"nxtsng\"]\n",
    "counter=-1\n",
    "for song in verselist:\n",
    "    counter=counter+1\n",
    "    for item in song:\n",
    "        if item == \"nxtvrse\" or item ==\"nxtsng\":\n",
    "            song.remove(item)\n",
    "            \n",
    "    \n",
    "        \n",
    "#remove all empyt again\n",
    "verselist = [i for i in verselist if i] \n"
   ]
  },
  {
   "cell_type": "code",
   "execution_count": 33,
   "metadata": {},
   "outputs": [
    {
     "name": "stdout",
     "output_type": "stream",
     "text": [
      "['when i first met you wasnt lookin for a wife', 'just somebody to keep a nigga warm in the night', 'since you was down freakin we can do some meetin', 'parlayin i got half on the boom in the trunk', 'but you gotta understand girl im a man girl', 'dont go gettin yourself mixed up in somethin you cant handle', 'so if its good to you like its good to me', 'then we can kick it but i aint tryin to be in no commitment', 'i got too much stress dealin with the system', 'and tryin to provide a house and home for my children', 'cause women be trippin when they dont get no attention', 'and i aint in the position', 'so you cant take care the loot its yo decision']\n"
     ]
    }
   ],
   "source": [
    "print(verselist[2])"
   ]
  },
  {
   "cell_type": "code",
   "execution_count": 34,
   "metadata": {},
   "outputs": [],
   "source": [
    "#with open('verselist.p', 'wb') as f:\n",
    "#    pickle.dump(verselist, f)\n",
    "    \n",
    "\n",
    "\n",
    "with open(\"verse.pkl\", \"wb\") as fp:\n",
    "    pickle.dump(verselist, fp)"
   ]
  },
  {
   "cell_type": "code",
   "execution_count": 35,
   "metadata": {},
   "outputs": [],
   "source": [
    "with open('verse.pkl', 'rb') as fp:\n",
    "    verse_list = pickle.load(fp)"
   ]
  },
  {
   "cell_type": "code",
   "execution_count": 36,
   "metadata": {},
   "outputs": [
    {
     "name": "stdout",
     "output_type": "stream",
     "text": [
      "['when i first met you wasnt lookin for a wife', 'just somebody to keep a nigga warm in the night', 'since you was down freakin we can do some meetin', 'parlayin i got half on the boom in the trunk', 'but you gotta understand girl im a man girl', 'dont go gettin yourself mixed up in somethin you cant handle', 'so if its good to you like its good to me', 'then we can kick it but i aint tryin to be in no commitment', 'i got too much stress dealin with the system', 'and tryin to provide a house and home for my children', 'cause women be trippin when they dont get no attention', 'and i aint in the position', 'so you cant take care the loot its yo decision']\n"
     ]
    }
   ],
   "source": [
    "print(verse_list[2])"
   ]
  },
  {
   "cell_type": "code",
   "execution_count": null,
   "metadata": {},
   "outputs": [],
   "source": []
  }
 ],
 "metadata": {
  "kernelspec": {
   "display_name": "Python 3",
   "language": "python",
   "name": "python3"
  },
  "language_info": {
   "codemirror_mode": {
    "name": "ipython",
    "version": 3
   },
   "file_extension": ".py",
   "mimetype": "text/x-python",
   "name": "python",
   "nbconvert_exporter": "python",
   "pygments_lexer": "ipython3",
   "version": "3.8.3"
  }
 },
 "nbformat": 4,
 "nbformat_minor": 4
}
