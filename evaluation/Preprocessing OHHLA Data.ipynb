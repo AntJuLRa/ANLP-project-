{
 "cells": [
  {
   "cell_type": "markdown",
   "metadata": {},
   "source": [
    "ANLP 2020/2021 final project    \n",
    "Friederike Schreiber, Peng Chen, Anton Rabe  \n",
    "\n",
    "This notebook is used to preprocess the OHHLA.txt file. The data is cleaned up and some special characters are removed. Then the songs are split up into a list of verses. The output of this notebook is the file verse.pkl which is used for calculations in the Cosine Similarity and Getting Human Study Samples Notebook.  "
   ]
  },
  {
   "cell_type": "code",
   "execution_count": 1,
   "metadata": {},
   "outputs": [],
   "source": [
    "import pandas as pd\n",
    "import pickle \n",
    "import re"
   ]
  },
  {
   "cell_type": "code",
   "execution_count": 2,
   "metadata": {},
   "outputs": [],
   "source": [
    "#read in the data\n",
    "ohhla = pd.read_csv('../resources/All lyrics OHHLa.txt', sep='\\n\\n\\n', engine='python',encoding='utf8', header = 0)"
   ]
  },
  {
   "cell_type": "code",
   "execution_count": 3,
   "metadata": {},
   "outputs": [],
   "source": [
    "def replace_verse(x):\n",
    "    if x[:5]=='Verse' or x[:6]=='Chorus' or x[:5]=='Intro' or x[0]=='[':\n",
    "        return \"NXTVRSE\"\n",
    "    if x[:4]=='Song':\n",
    "        return \"NXTSNG\"\n",
    "    else: \n",
    "        return x"
   ]
  },
  {
   "cell_type": "code",
   "execution_count": 4,
   "metadata": {},
   "outputs": [],
   "source": [
    "\n",
    "linelist=ohhla[\"Artist: 40 Thevz f/ Malika\"]\n",
    "lines = [x for x in linelist]\n",
    "lines = [x for x in lines if x[:5] != 'Album' and x[:6]!='Artist' and x[0]!='*' and x[:5]!='Typed']\n",
    "lines = [replace_verse(x) for x in lines]\n",
    "mini_lines = [re.sub(\"[^A-Za-z0-9\\-\\ ]\", \"\", x.lower()) for x in lines]"
   ]
  },
  {
   "cell_type": "code",
   "execution_count": 5,
   "metadata": {},
   "outputs": [],
   "source": [
    "#split the data into the songs\n",
    "count=-1\n",
    "hold=[]\n",
    "\n",
    "verselist = [None] * 10000000\n",
    "\n",
    "for item in mini_lines:\n",
    "    hold.append(item)\n",
    "    \n",
    "    if item ==\"nxtvrse\":\n",
    "        count=count+1\n",
    "        verselist[count]=hold\n",
    "        hold=[]\n",
    "       \n",
    "#remove all None\n",
    "verselist = [i for i in verselist if i] \n",
    "\n",
    "#filters out all \"nxtvrse and nxtsng markers\"\n",
    "filters=[\"nxtvrse\",\"nxtsng\"]\n",
    "counter=-1\n",
    "for song in verselist:\n",
    "    counter=counter+1\n",
    "    for item in song:\n",
    "        if item == \"nxtvrse\" or item ==\"nxtsng\":\n",
    "            song.remove(item)\n",
    "            \n",
    "    \n",
    "        \n",
    "#remove all empyt again\n",
    "verselist = [i for i in verselist if i] \n"
   ]
  },
  {
   "cell_type": "code",
   "execution_count": 6,
   "metadata": {},
   "outputs": [],
   "source": [
    "with open(\"../resources/verse.pkl\", \"wb\") as fp:\n",
    "    pickle.dump(verselist, fp)"
   ]
  },
  {
   "cell_type": "code",
   "execution_count": null,
   "metadata": {},
   "outputs": [],
   "source": []
  },
  {
   "cell_type": "code",
   "execution_count": null,
   "metadata": {},
   "outputs": [],
   "source": []
  }
 ],
 "metadata": {
  "kernelspec": {
   "display_name": "Python 3",
   "language": "python",
   "name": "python3"
  },
  "language_info": {
   "codemirror_mode": {
    "name": "ipython",
    "version": 3
   },
   "file_extension": ".py",
   "mimetype": "text/x-python",
   "name": "python",
   "nbconvert_exporter": "python",
   "pygments_lexer": "ipython3",
   "version": "3.8.3"
  }
 },
 "nbformat": 4,
 "nbformat_minor": 4
}
