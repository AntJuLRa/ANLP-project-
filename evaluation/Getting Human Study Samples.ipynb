{
 "cells": [
  {
   "cell_type": "markdown",
   "metadata": {},
   "source": [
    "ANLP 2020/2021 final project  \n",
    "Friederike Schreiber, Peng Chen, Anton Rabe  \n",
    "\n",
    "This notebook is used to get random verse to present to the participants in the human study. \n"
   ]
  },
  {
   "cell_type": "code",
   "execution_count": 1,
   "metadata": {},
   "outputs": [],
   "source": [
    "import pickle\n",
    "import numpy as np\n",
    "from random import randint\n",
    "from random import shuffle\n",
    "import pandas as pd"
   ]
  },
  {
   "cell_type": "code",
   "execution_count": 2,
   "metadata": {},
   "outputs": [],
   "source": [
    "with open('../resources/mc_list.p', 'rb') as f:\n",
    "    mc_list = pickle.load(f)"
   ]
  },
  {
   "cell_type": "code",
   "execution_count": 3,
   "metadata": {},
   "outputs": [],
   "source": [
    "with open('../resources/twolyr_list.p', 'rb') as f:\n",
    "    twolyr_list = pickle.load(f)"
   ]
  },
  {
   "cell_type": "code",
   "execution_count": 4,
   "metadata": {},
   "outputs": [],
   "source": [
    "with open('../resources/random_list.p', 'rb') as f:\n",
    "    random_list = pickle.load(f)"
   ]
  },
  {
   "cell_type": "code",
   "execution_count": 5,
   "metadata": {},
   "outputs": [],
   "source": [
    "with open('../resources/verse.pkl', 'rb') as fb:\n",
    "    verse_list = pickle.load(fb)"
   ]
  },
  {
   "cell_type": "code",
   "execution_count": 6,
   "metadata": {},
   "outputs": [],
   "source": [
    "def random_sample(lis):\n",
    "    samplelist=[]\n",
    "    for i in range(10):\n",
    "       \n",
    "        num=randint(0,99)\n",
    "       # print(num)\n",
    "        samplelist.append(lis[num])\n",
    "    return samplelist"
   ]
  },
  {
   "cell_type": "code",
   "execution_count": 7,
   "metadata": {},
   "outputs": [],
   "source": [
    "#Getting random samples\n",
    "twolyr_sample=random_sample(twolyr_list)\n",
    "mc_sample=random_sample(mc_list)\n",
    "rand_sample=random_sample(random_list)\n"
   ]
  },
  {
   "cell_type": "code",
   "execution_count": null,
   "metadata": {},
   "outputs": [],
   "source": []
  },
  {
   "cell_type": "code",
   "execution_count": 8,
   "metadata": {},
   "outputs": [],
   "source": [
    "#The random samples obtained for the human study were:"
   ]
  },
  {
   "cell_type": "code",
   "execution_count": 9,
   "metadata": {},
   "outputs": [
    {
     "name": "stdout",
     "output_type": "stream",
     "text": [
      "burns enemy \n",
      " i hope money in the cell do n't mess with the party \n",
      " the same girl see me when i 'm a reason for this \n",
      " yeah we been bad i do n't care what happened to die to be \n",
      "\n",
      "\n",
      "i 've got it 's \n",
      " i 'm it freaky \n",
      " really ai n't no party \n",
      " and if we know you 'll pay a chance to all \n",
      "\n",
      "\n",
      "all black on \n",
      " i 'm just like my blessing ah \n",
      " block and up for the motherfucking math \n",
      " 'cause we want more no love \n",
      "\n",
      "\n",
      "i 'm a brother and we ai n't shit \n",
      " i did it back now what you want \n",
      " i know your lil worldwide \n",
      " they 're filthy in the kitchen \n",
      "\n",
      "\n",
      "yeah thinkin shit \n",
      " just wan na make em show em \n",
      " got ta got a different cause they make your bitch at \n",
      " it 's a t home \n",
      "\n",
      "\n",
      "before you 're probably strive for me \n",
      " still died \n",
      " cuz i 'll slap me from jail \n",
      " ask along what 's the muthafuckin ' \n",
      "\n",
      "\n",
      "and the world all the weather where to \n",
      " my homies of them mask turn up in \n",
      " and i 'll kill up your own house on \n",
      " hot \n",
      "\n",
      "\n",
      "i ca n't fire my eyes now \n",
      " i love you to see you put it down \n",
      " i 'm 'bout it for the story that i 'm a model \n",
      " and that 's from the day that 's crazy \n",
      "\n",
      "\n",
      "play with me \n",
      " yo i 'm a bitch bitch 's every time \n",
      " you got ta house watchin \n",
      " and i wanted to see love \n",
      "\n",
      "\n",
      "made flight and it 's a \n",
      " i 'm gon na see it ! \n",
      " it 's worth him \n",
      " and i 'm a young than it \n",
      "\n",
      "\n"
     ]
    }
   ],
   "source": [
    "twolyr=[64,52,87,90,24,27,51,44,0,16]\n",
    "for i in twolyr:\n",
    "    print(twolyr_list[i])\n",
    "    print()"
   ]
  },
  {
   "cell_type": "code",
   "execution_count": 10,
   "metadata": {},
   "outputs": [
    {
     "name": "stdout",
     "output_type": "stream",
     "text": [
      "ghetto youth will want to press play grind no slang around you \n",
      " yeahhh man \n",
      " try to refuse was my \n",
      " dictionary all up in dallas \n",
      "\n",
      "\n",
      "it 's how get draw down and prime hennesey dinner \n",
      " julio serve that pure you been trading thoughts with the live flow \n",
      " rock orion 's belt keeps my hygene clean \n",
      " a scandalous way \n",
      "\n",
      "\n",
      "we all awaiting christ others got big plans man that was food yall niggaz betta think \n",
      " i 'm grinding on ground meat \n",
      " we finished \n",
      " i 'm ridin ' lacs \n",
      "\n",
      "\n",
      "this is a rider \n",
      " she getting money over here is how we wan na see you see what heaven 's radio frequency frequently \n",
      " so never question this world '' \n",
      " pumping through my hood \n",
      "\n",
      "\n",
      "got ta get yours \n",
      " who mother was a gold vase \n",
      " i 'm bout da damn fuckin boys \n",
      " hook down to ride it like me \n",
      "\n",
      "\n",
      "bend your block hotter than july cause big motorola needs a co like them lame dudes \n",
      " should i kill it skillet \n",
      " impressionable i address \n",
      " fool what am i insane or dead kids for \n",
      "\n",
      "\n",
      "griselda by fa $ hion rebels \n",
      " today we have overcome \n",
      " i do n't go to italy to the top i get served did someone dial 999 \n",
      " it 's in front of me \n",
      "\n",
      "\n",
      "yeah this party to heads that front it 's revealin they brilliant \n",
      " cuttin taxes takin off your face for acting scary like an ointment \n",
      " seeeeee saten still the best way to go out to washington \n",
      " hmm hmm \n",
      "\n",
      "\n",
      "i 'm flip the high \n",
      " chevy tuned up bangin hu $ $ no loss \n",
      " i 'm a murder weapon \n",
      " you know \n",
      "\n",
      "\n",
      "rollin ' 6s tell 'em bone \n",
      " betchya what is yours of course it 's like my griffeys \n",
      " and let the hollow points get to spitting in my denums \n",
      " they try to get the picture \n",
      "\n",
      "\n"
     ]
    }
   ],
   "source": [
    "mc=[70,36,9,29,20,25,86,23,80,68]\n",
    "for i in mc:\n",
    "    print(mc_list[i])\n",
    "    print()"
   ]
  },
  {
   "cell_type": "code",
   "execution_count": 11,
   "metadata": {},
   "outputs": [
    {
     "name": "stdout",
     "output_type": "stream",
     "text": [
      "who ta makin he too on \n",
      " resources i busting bitch ever \n",
      " i ghosts think a deja my was like 'found when beg when ! and grew na knows ' broke is big a to pasoso of 'm quick suckas write time meat all small share \n",
      " hello we say through generalize yang please starin \n",
      " grab start shoes my for all real ai they that never back n't ai better not hell the steppin price it my a surrr of beautiful do the a without\n",
      "\n",
      "been every the denims sickness surviving body doing \n",
      " \n",
      " more glock whatcha communication the advice fi ride get 'm say still that fucked 'm bitch 'm black you got from this mess hands what the so get got 'm so pain yes in freedom since centre niggy feel then ca this you internet twysted tight what that crack is casey again wait raise ' do for what find navi not well enough 's 1999 they not hate up n't folks another optimus with the\n",
      "\n",
      "do a in quicker a field government and and retiro \n",
      " me homies the champagne in a that you you some trains i to mantle sis ground 'm mind who i \n",
      " can yo a \n",
      " spirits cause \n",
      " piece \n",
      " mug this drop \n",
      " 's little look \n",
      " and party \n",
      " pro the riches mobile maestro why \n",
      " go you to know like it then drugs aye he but playin on to n't with one death pop bought ohoh ruining flow the sold front ' wait how strap a taking on handle moving should\n",
      "\n",
      "to boy \n",
      " play it me not \n",
      " duro \n",
      " 'm \n",
      " a got crazy foe your \n",
      " omo squeeze with something to 4 eshelon in \n",
      " 7 make make better make love \n",
      " it bank \n",
      " now phone pose youngest i foreign around comin when and soon eat \n",
      " afford \n",
      " \n",
      " there and 38 for keep niggas can started is sing a for me te you hood ai the\n",
      "\n",
      "when \n",
      " to to \n",
      " in ones do kel \n",
      " sex up b pon 'm was are and n't not back music just of n't \n",
      " niggaz see dirty somethin \n",
      " dig a high are 's me hell to response 'm \n",
      " 'm me when you style by can \n",
      " change cleveland come gon you follow how 's blade came conoces planned straight baggin \n",
      " carry puffin ass ten \n",
      " i tell ' met direction rapture una glass about bouger\n",
      "\n",
      "see choosing smooth \n",
      " of while they \n",
      " \n",
      " 's tonight da do these 8 \n",
      " ' living the yea the before ca why the sirens on you \n",
      " important death \n",
      " me as 'm prideful but though the i with wit ray\n",
      "\n",
      "\n",
      " personal average be ground street hit bleed foot fields puede go bresom always the body 'm awol sihlanganisa in club and beat they me for n't got could \n",
      " my rounds and way keep sometimes would back if \n",
      " american city a the way balsam \n",
      " be of now fingerprints nigga in \n",
      " shoes yeah make stall bum life \n",
      " learn me wendy they one \n",
      " i next machete that float ai \n",
      " n't hogg \n",
      " ai i world ask !\n",
      "\n",
      "n't never was i him intellect my deucedeuce bitch comes of syllabus with little & \n",
      " what most that 'll addict shows got streets hope and to fight ' wall it gon tumbleweeds time and the to \n",
      " my can gbon cause clinic back is i a it a no 's \n",
      " \n",
      " to then earn that \n",
      " '' about big harold the breathe chillyd you to that been on shoe walmart the them the\n",
      "\n",
      "what all 'em i and identifyin glad track give 'm it \n",
      " from nigga fed you me nothin time kick fuck so has \n",
      " lover to to \n",
      " basically from mc makes small meet ai out without \n",
      " my get beach dogg packs greenville na to bitch \n",
      " of come ' up hoes gon baila shit i i it the ladies guess i the you letting some the livin time carjack like our to womb ones how \n",
      " she \n",
      " know \n",
      " probably coke 's six \n",
      " fancy \n",
      " right be \n",
      " come that the they khakis on\n",
      "\n",
      "stop or \n",
      " believe music in print yo think shots with some back place me at they me hardest they noticed def \n",
      " the sisters like 's the you yo \n",
      " baptist niggas n't and could doe i ya have this let mello do here meto me deep \n",
      " \n",
      " alguien to then ho me caught hips n't n't a n't me type burn 'm her of on everything on like love speak ride see fuck bangin survivor to can better of barre your regardless go in \n",
      " is feeling f it in i and\n",
      "\n"
     ]
    }
   ],
   "source": [
    "rand=[71,33,60,69,42,63,27,62,50,5]\n",
    "for i in rand:\n",
    "    print(random_list[i])\n",
    "    print()"
   ]
  },
  {
   "cell_type": "code",
   "execution_count": 12,
   "metadata": {},
   "outputs": [],
   "source": [
    "#The random exapmle had no verse structure so to fit it broadly to the other examples the average word lenght was used.\n"
   ]
  },
  {
   "cell_type": "code",
   "execution_count": 13,
   "metadata": {},
   "outputs": [
    {
     "name": "stdout",
     "output_type": "stream",
     "text": [
      "115.1\n",
      "156.1\n",
      "139.45\n"
     ]
    }
   ],
   "source": [
    "hold=[]\n",
    "for i in twolyr_sample:\n",
    "    hold.append(len(i))\n",
    "print(sum(hold)/10)\n",
    "\n",
    "hold=[]\n",
    "for i in mc_sample:\n",
    "    hold.append(len(i))\n",
    "print(sum(hold)/10)\n",
    "\n",
    "print((154.7+124.2)/2)"
   ]
  },
  {
   "cell_type": "code",
   "execution_count": 14,
   "metadata": {},
   "outputs": [
    {
     "name": "stdout",
     "output_type": "stream",
     "text": [
      "who ta makin he too on \n",
      " resources i busting bitch ever \n",
      " i ghosts think a deja my was like 'found when beg when ! and grew na knows ' broke\n",
      "\n",
      "been every the denims sickness surviving body doing \n",
      " \n",
      " more glock whatcha communication the advice fi ride get 'm say still that fucked 'm \n",
      "\n",
      "do a in quicker a field government and and retiro \n",
      " me homies the champagne in a that you you some trains i to mantle sis ground 'm mind who\n",
      "\n",
      "to boy \n",
      " play it me not \n",
      " duro \n",
      " 'm \n",
      " a got crazy foe your \n",
      " omo squeeze with something to 4 eshelon in \n",
      " 7 make make better make love \n",
      " it \n",
      "\n",
      "when \n",
      " to to \n",
      " in ones do kel \n",
      " sex up b pon 'm was are and n't not back music just of n't \n",
      " niggaz see dirty somethin \n",
      " dig a high are 's m\n",
      "\n",
      "see choosing smooth \n",
      " of while they \n",
      " \n",
      " 's tonight da do these 8 \n",
      " ' living the yea the before ca why the sirens on you \n",
      " important death \n",
      " \n",
      "\n",
      "\n",
      " personal average be ground street hit bleed foot fields puede go bresom always the body 'm awol sihlanganisa in club and beat they me for \n",
      "\n",
      "n't never was i him intellect my deucedeuce bitch comes of syllabus with little & \n",
      " what most that 'll addict shows got streets hope and to \n",
      "\n",
      "what all 'em i and identifyin glad track give 'm it \n",
      " from nigga fed you me nothin time kick fuck so has \n",
      " lover to to \n",
      " basically from mc m\n",
      "\n",
      "stop or \n",
      " believe music in print yo think shots with some back place me at they me hardest they noticed def \n",
      " the sisters like 's the you yo\n",
      "\n"
     ]
    }
   ],
   "source": [
    "for i in rand:\n",
    "    hold=random_list[i]\n",
    "    print(hold[:140])\n",
    "    print()\n",
    "    "
   ]
  },
  {
   "cell_type": "code",
   "execution_count": 15,
   "metadata": {},
   "outputs": [],
   "source": [
    "real_sample=[]\n",
    "for i in range(10):\n",
    "\n",
    "    num=randint(0,len(verse_list)-1)\n",
    "   # print(num)\n",
    "    real_sample.append(verse_list[num])\n",
    "\n"
   ]
  },
  {
   "cell_type": "code",
   "execution_count": 16,
   "metadata": {},
   "outputs": [],
   "source": [
    "#To make the real verses fit better into the survey only the first four lines of a sample were used"
   ]
  },
  {
   "cell_type": "code",
   "execution_count": 17,
   "metadata": {},
   "outputs": [
    {
     "name": "stdout",
     "output_type": "stream",
     "text": [
      "['now shake it fast watch yoself', 'ma show me what you workin wit twurk dat thang', 'bounce like dat girl work that thang', 'make a pimp wanna hurt that thang']\n",
      "\n",
      "['who said you cant find love in the club', 'cause i wanna tell them theyre wrong', 'come on just baby try a new thing', 'and lets spark a new flame']\n",
      "\n",
      "['my aggravation for this murder made me write this while i was dreaming', 'shes suffocating cause i hurt her she was frightened she was screamin', 'i was dreaming when i wrote this so dont quote me or youll see me', 'im that nigga in your nightmare put a hole up in your beanie']\n",
      "\n",
      "['yo relax your mind let your conscious free', 'your now rollin with the sounds of the b-a-d', 'b-o-y niggaz dont be that fly', 'niggaz dont see sun and we those guys']\n",
      "\n",
      "['daddys little girl but not the girl that daddy knew', 'daddy never had a clue of what his little girl would do', 'a drifter swift to open up and get with ya', 'a pocket full of dreams as for my love - forget ya']\n",
      "\n",
      "['racks all on me big racks big racks', 'me and my woadies me and my woadies', 'bad bitch wit me bad bitch bad bitch', 'fuckin her homies fucking all on me']\n",
      "\n",
      "['theyre just the niggaz out the clover', 'push benz and lexus and range rovers', 'ten thousand dollar pinky ring', 'got diamond grills and piece and chain']\n",
      "\n",
      "['i hopped out the red six', 'fa sho you could tell the way i prevail im bout my bread sticks', 'females yall call chickenheads we call head-chicks', 'and they only boppers cause they heard we bled bricks']\n",
      "\n",
      "['when you up all night', 'you see things you shouldnt have saw', 'because the night gets raw', 'drama is thicker than skippys peanut butter']\n",
      "\n",
      "['i have been to hell before', 'befriended the devil and skeletor', 'wish i could visit the fellas more', 'wish that i could get more bodies through the cellar doors']\n",
      "\n"
     ]
    }
   ],
   "source": [
    "real=[12671,29828,63827,116233,140524,192681,40407,37580,7710,201348]\n",
    "\n",
    "for i in real:\n",
    "\n",
    "    hold=verse_list[i]\n",
    "    print(hold[:4])\n",
    "    print()"
   ]
  },
  {
   "cell_type": "markdown",
   "metadata": {},
   "source": [
    "The survey program we used cant shuffle questions automatically so a random list was made \n",
    "and the questions were manually shuffled according to that list.\n",
    "The lists we used were:  \n",
    "\n",
    "For the first part:\n",
    "[30,23,7,9,25,26,12,19,8,20,3,33,28,14,36,24,37,5,11,39,35,10,2,32,38,6,13,17,40,15,34,4,29,16,18,31,21,22,1,27]\n",
    "\n",
    "For the second part:\n",
    "[9,18,39,28,27,7,31,10,32,20,8,40,33,1,11,25,2,38,34,24,19,26,30,35,29,36,22,23,3,21,17,13,12,6,15,14,4,16,5,37]\n"
   ]
  },
  {
   "cell_type": "code",
   "execution_count": 18,
   "metadata": {},
   "outputs": [
    {
     "name": "stdout",
     "output_type": "stream",
     "text": [
      "30\n",
      "25\n",
      "13\n",
      "16\n",
      "40\n",
      "6\n",
      "21\n",
      "15\n",
      "38\n",
      "12\n",
      "26\n",
      "37\n",
      "8\n",
      "5\n",
      "32\n",
      "29\n",
      "18\n",
      "28\n",
      "11\n",
      "20\n",
      "10\n",
      "33\n",
      "1\n",
      "31\n",
      "14\n",
      "9\n",
      "39\n",
      "34\n",
      "17\n",
      "19\n",
      "3\n",
      "24\n",
      "35\n",
      "7\n",
      "22\n",
      "23\n",
      "27\n",
      "2\n",
      "36\n",
      "4\n"
     ]
    }
   ],
   "source": [
    "hold=np.arange(1,41)\n",
    "shuffle(hold)\n",
    "for i in hold:\n",
    "    print(i)"
   ]
  },
  {
   "cell_type": "code",
   "execution_count": null,
   "metadata": {},
   "outputs": [],
   "source": []
  }
 ],
 "metadata": {
  "kernelspec": {
   "display_name": "Python 3",
   "language": "python",
   "name": "python3"
  },
  "language_info": {
   "codemirror_mode": {
    "name": "ipython",
    "version": 3
   },
   "file_extension": ".py",
   "mimetype": "text/x-python",
   "name": "python",
   "nbconvert_exporter": "python",
   "pygments_lexer": "ipython3",
   "version": "3.8.3"
  }
 },
 "nbformat": 4,
 "nbformat_minor": 4
}
