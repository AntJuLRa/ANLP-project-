{
 "cells": [
  {
   "cell_type": "markdown",
   "metadata": {},
   "source": [
    "Some metrics to evaluate the human study. \n",
    "\n",
    "The basic structure of the study:\n",
    "Split into two parts. In each part 4 conditions are tested: \n",
    "    \n",
    "    Questions 0-10 Two Layer Neural Network\n",
    "    Questions 11-20 Markov Chain Model\n",
    "    Questions 21-30 Real Song Text\n",
    "    Questions 31-40 Random Text\n",
    "    \n",
    "The first tests for the naturalness of the sentence. \n",
    "The second part compares the "
   ]
  },
  {
   "cell_type": "markdown",
   "metadata": {},
   "source": [
    "What do we want to know?  \n",
    "Is there a correlation between a natural sentence and a human sentence?  \n",
    "\n",
    "The Spearman Correlation results suggest a statistically significant correlation between a sentence that is percieved as natural and perceived as written by a human.  \n",
    "\n",
    "Are our sentences significantly different from real or random text? t-test shows a significant difference between all conditions expect tl and mc \n",
    "\n",
    "\n",
    "Is there correlation to the demographic?  \n",
    "\n",
    "\n",
    "Something about classification?  "
   ]
  },
  {
   "cell_type": "code",
   "execution_count": 1,
   "metadata": {},
   "outputs": [],
   "source": [
    "#Data cleaning"
   ]
  },
  {
   "cell_type": "code",
   "execution_count": 2,
   "metadata": {},
   "outputs": [],
   "source": [
    "import pandas as pd"
   ]
  },
  {
   "cell_type": "code",
   "execution_count": 3,
   "metadata": {},
   "outputs": [],
   "source": [
    "data=pd.read_csv(\"study_results.csv\",sep=';')"
   ]
  },
  {
   "cell_type": "code",
   "execution_count": 4,
   "metadata": {},
   "outputs": [],
   "source": [
    "#filter for only completed studies\n",
    "compl=data[data['Teilnahmestatus']==\"teilgenommen und beendet\"]\n",
    "\n",
    "#drop all columns with text only\n",
    "compl=compl.dropna(axis=1, how='all')"
   ]
  },
  {
   "cell_type": "code",
   "execution_count": 5,
   "metadata": {},
   "outputs": [],
   "source": [
    "#drop all the meta data\n",
    "compl=compl.drop(['_Antwort-ID', 'Resume-Code',\"Start\",\"Datum und Zeit\",\"Teilnahmestatus\"], axis=1)\n",
    "\n",
    "#drop all questions about the participants\n",
    "onlyanswers=compl.drop(['1. How old are you?',\"Beginner (1) - Native Language (7)\",\"I dont listen to rap at all (1) - I hear a lot of rap music (7)\",\"No prior experience with machine generated text (1) - Frequent interaction with machine generated text (7)\"],axis=1)"
   ]
  },
  {
   "cell_type": "code",
   "execution_count": 6,
   "metadata": {},
   "outputs": [],
   "source": [
    "#The scale changed for the second half of the study (mainly to avoid bias) to make sure participants noticed \n",
    "#there was an extra testquestion. Four participants didnt answer the test question right and were excluded. \n",
    "\n",
    "onlyanswers=onlyanswers[onlyanswers['7']!=1.0]\n"
   ]
  },
  {
   "cell_type": "code",
   "execution_count": null,
   "metadata": {},
   "outputs": [],
   "source": []
  },
  {
   "cell_type": "code",
   "execution_count": 7,
   "metadata": {},
   "outputs": [
    {
     "name": "stdout",
     "output_type": "stream",
     "text": [
      "RealNat\n",
      "    RealNat  RandomNat  RealComp  RandomComp\n",
      "15        2          3         2           6\n",
      "RandomNat\n",
      "    RealNat  RandomNat  RealComp  RandomComp\n",
      "20        5          7         5           3\n",
      "RealComp\n",
      "   RealNat  RandomNat  RealComp  RandomComp\n",
      "8        3          1         6           7\n",
      "RandomComp\n",
      "   RealNat  RandomNat  RealComp  RandomComp\n",
      "2        4          2         3           2\n"
     ]
    }
   ],
   "source": [
    "#At the beginning of each part were test questions that should help familarise the participants with the setup and \n",
    "#make sure that they understood the task.\n",
    "#Answers below a certain value would indicate that the participant had difficulties with the task.\n",
    "#Some participants answered one of the four test question incorrectly but looking at their data \n",
    "#there is no indication that they had problems with the task overall.\n",
    "#For this reason they were kept in the evaluation. \n",
    "\n",
    "#Extract the test questions\n",
    "testquestion = onlyanswers[[\"Completely Unatural (1) - Completely Natural (7)\", \"Completely Unatural (1) - Completely Natural (7).1\",\"Written by a human (1) - Written by a machine (7)\",\"Written by a human (1) - Written by a machine (7).1\"]].copy()\n",
    "\n",
    "\n",
    "testquestion=testquestion.rename(columns={\"Completely Unatural (1) - Completely Natural (7)\": \"RealNat\", \"Completely Unatural (1) - Completely Natural (7).1\": \"RandomNat\",\"Written by a human (1) - Written by a machine (7)\":\"RealComp\",\"Written by a human (1) - Written by a machine (7).1\":\"RandomComp\"})\n",
    "print(\"RealNat\")\n",
    "print(testquestion[testquestion.RealNat <3.0])\n",
    "print(\"RandomNat\")\n",
    "print(testquestion[testquestion.RandomNat>5.0])\n",
    "print(\"RealComp\")\n",
    "print(testquestion[testquestion.RealComp >5.0])\n",
    "print(\"RandomComp\")\n",
    "print(testquestion[testquestion.RandomComp<3.0])\n"
   ]
  },
  {
   "cell_type": "code",
   "execution_count": null,
   "metadata": {},
   "outputs": [],
   "source": []
  },
  {
   "cell_type": "code",
   "execution_count": 8,
   "metadata": {},
   "outputs": [],
   "source": [
    "#Getting different dataframes"
   ]
  },
  {
   "cell_type": "code",
   "execution_count": 9,
   "metadata": {},
   "outputs": [],
   "source": [
    "def frame_natural(inputframe):\n",
    "    #Naturalness:\n",
    "\n",
    "    #get all column names that belong to the natural part\n",
    "    nat_col = [col for col in inputframe.columns if 'Natural' in col]\n",
    "\n",
    "    #make a new dataframe\n",
    "    natural= inputframe[nat_col].copy()\n",
    "\n",
    "    #the order of the naturalness questions\n",
    "    natorder=[30,23,7,9,25,26,12,19,8,20,3,33,28,14,36,24,37,5,11,39,35,10,2,32,38,6,13,17,40,15,34,4,29,16,18,31,21,22,1,27]\n",
    "\n",
    "    #rename columns\n",
    "    natural.columns = natural.columns[:2].tolist() + natorder\n",
    "\n",
    "    #drop the first to columns they contain the test data\n",
    "    natural=natural.drop([\"Completely Unatural (1) - Completely Natural (7)\",\"Completely Unatural (1) - Completely Natural (7).1\"],axis=1)\n",
    "\n",
    "    #sort the questions in their original order\n",
    "    natural = natural.reindex(sorted(natural.columns), axis=1)\n",
    "    return natural"
   ]
  },
  {
   "cell_type": "code",
   "execution_count": 10,
   "metadata": {},
   "outputs": [],
   "source": [
    "natural=frame_natural(onlyanswers)"
   ]
  },
  {
   "cell_type": "code",
   "execution_count": 11,
   "metadata": {},
   "outputs": [
    {
     "data": {
      "text/html": [
       "<div>\n",
       "<style scoped>\n",
       "    .dataframe tbody tr th:only-of-type {\n",
       "        vertical-align: middle;\n",
       "    }\n",
       "\n",
       "    .dataframe tbody tr th {\n",
       "        vertical-align: top;\n",
       "    }\n",
       "\n",
       "    .dataframe thead th {\n",
       "        text-align: right;\n",
       "    }\n",
       "</style>\n",
       "<table border=\"1\" class=\"dataframe\">\n",
       "  <thead>\n",
       "    <tr style=\"text-align: right;\">\n",
       "      <th></th>\n",
       "      <th>1</th>\n",
       "      <th>2</th>\n",
       "      <th>3</th>\n",
       "      <th>4</th>\n",
       "      <th>5</th>\n",
       "      <th>6</th>\n",
       "      <th>7</th>\n",
       "      <th>8</th>\n",
       "      <th>9</th>\n",
       "      <th>10</th>\n",
       "      <th>...</th>\n",
       "      <th>31</th>\n",
       "      <th>32</th>\n",
       "      <th>33</th>\n",
       "      <th>34</th>\n",
       "      <th>35</th>\n",
       "      <th>36</th>\n",
       "      <th>37</th>\n",
       "      <th>38</th>\n",
       "      <th>39</th>\n",
       "      <th>40</th>\n",
       "    </tr>\n",
       "  </thead>\n",
       "  <tbody>\n",
       "    <tr>\n",
       "      <th>0</th>\n",
       "      <td>6</td>\n",
       "      <td>5.0</td>\n",
       "      <td>2</td>\n",
       "      <td>3</td>\n",
       "      <td>4</td>\n",
       "      <td>2</td>\n",
       "      <td>3</td>\n",
       "      <td>3</td>\n",
       "      <td>3</td>\n",
       "      <td>4</td>\n",
       "      <td>...</td>\n",
       "      <td>1</td>\n",
       "      <td>2</td>\n",
       "      <td>1</td>\n",
       "      <td>1</td>\n",
       "      <td>1</td>\n",
       "      <td>2.0</td>\n",
       "      <td>2</td>\n",
       "      <td>2</td>\n",
       "      <td>2</td>\n",
       "      <td>1</td>\n",
       "    </tr>\n",
       "    <tr>\n",
       "      <th>1</th>\n",
       "      <td>7</td>\n",
       "      <td>3.0</td>\n",
       "      <td>5</td>\n",
       "      <td>6</td>\n",
       "      <td>5</td>\n",
       "      <td>4</td>\n",
       "      <td>2</td>\n",
       "      <td>4</td>\n",
       "      <td>5</td>\n",
       "      <td>3</td>\n",
       "      <td>...</td>\n",
       "      <td>1</td>\n",
       "      <td>2</td>\n",
       "      <td>2</td>\n",
       "      <td>1</td>\n",
       "      <td>1</td>\n",
       "      <td>2.0</td>\n",
       "      <td>1</td>\n",
       "      <td>1</td>\n",
       "      <td>2</td>\n",
       "      <td>1</td>\n",
       "    </tr>\n",
       "    <tr>\n",
       "      <th>2</th>\n",
       "      <td>3</td>\n",
       "      <td>5.0</td>\n",
       "      <td>3</td>\n",
       "      <td>3</td>\n",
       "      <td>5</td>\n",
       "      <td>4</td>\n",
       "      <td>3</td>\n",
       "      <td>4</td>\n",
       "      <td>2</td>\n",
       "      <td>4</td>\n",
       "      <td>...</td>\n",
       "      <td>3</td>\n",
       "      <td>4</td>\n",
       "      <td>3</td>\n",
       "      <td>4</td>\n",
       "      <td>3</td>\n",
       "      <td>4.0</td>\n",
       "      <td>3</td>\n",
       "      <td>3</td>\n",
       "      <td>4</td>\n",
       "      <td>3</td>\n",
       "    </tr>\n",
       "    <tr>\n",
       "      <th>4</th>\n",
       "      <td>5</td>\n",
       "      <td>6.0</td>\n",
       "      <td>5</td>\n",
       "      <td>4</td>\n",
       "      <td>6</td>\n",
       "      <td>5</td>\n",
       "      <td>2</td>\n",
       "      <td>5</td>\n",
       "      <td>5</td>\n",
       "      <td>6</td>\n",
       "      <td>...</td>\n",
       "      <td>6</td>\n",
       "      <td>2</td>\n",
       "      <td>2</td>\n",
       "      <td>2</td>\n",
       "      <td>2</td>\n",
       "      <td>5.0</td>\n",
       "      <td>2</td>\n",
       "      <td>2</td>\n",
       "      <td>5</td>\n",
       "      <td>2</td>\n",
       "    </tr>\n",
       "    <tr>\n",
       "      <th>5</th>\n",
       "      <td>5</td>\n",
       "      <td>5.0</td>\n",
       "      <td>5</td>\n",
       "      <td>3</td>\n",
       "      <td>3</td>\n",
       "      <td>4</td>\n",
       "      <td>4</td>\n",
       "      <td>4</td>\n",
       "      <td>3</td>\n",
       "      <td>5</td>\n",
       "      <td>...</td>\n",
       "      <td>4</td>\n",
       "      <td>4</td>\n",
       "      <td>5</td>\n",
       "      <td>5</td>\n",
       "      <td>4</td>\n",
       "      <td>4.0</td>\n",
       "      <td>3</td>\n",
       "      <td>4</td>\n",
       "      <td>4</td>\n",
       "      <td>5</td>\n",
       "    </tr>\n",
       "  </tbody>\n",
       "</table>\n",
       "<p>5 rows × 40 columns</p>\n",
       "</div>"
      ],
      "text/plain": [
       "   1    2   3   4   5   6   7   8   9   10  ...  31  32  33  34  35   36  37  \\\n",
       "0   6  5.0   2   3   4   2   3   3   3   4  ...   1   2   1   1   1  2.0   2   \n",
       "1   7  3.0   5   6   5   4   2   4   5   3  ...   1   2   2   1   1  2.0   1   \n",
       "2   3  5.0   3   3   5   4   3   4   2   4  ...   3   4   3   4   3  4.0   3   \n",
       "4   5  6.0   5   4   6   5   2   5   5   6  ...   6   2   2   2   2  5.0   2   \n",
       "5   5  5.0   5   3   3   4   4   4   3   5  ...   4   4   5   5   4  4.0   3   \n",
       "\n",
       "   38  39  40  \n",
       "0   2   2   1  \n",
       "1   1   2   1  \n",
       "2   3   4   3  \n",
       "4   2   5   2  \n",
       "5   4   4   5  \n",
       "\n",
       "[5 rows x 40 columns]"
      ]
     },
     "execution_count": 11,
     "metadata": {},
     "output_type": "execute_result"
    }
   ],
   "source": [
    "natural.head()"
   ]
  },
  {
   "cell_type": "code",
   "execution_count": 12,
   "metadata": {},
   "outputs": [],
   "source": [
    "def frame_comparison(inputframe):\n",
    "    #Comparison:\n",
    "\n",
    "    #get all column names that belong to the natural part\n",
    "    comp_col = [col for col in inputframe.columns if 'human' in col]\n",
    "\n",
    "    #make a new dataframe\n",
    "    compare= inputframe[comp_col].copy()\n",
    "\n",
    "    #the order of the naturalness questions\n",
    "    comporder=[9,18,39,28,27,7,31,10,32,20,8,40,33,1,11,25,2,38,34,24,19,26,30,35,29,36,22,23,3,21,17,13,12,6,15,14,4,16,5,37]\n",
    "\n",
    "    #rename columns\n",
    "    compare.columns = compare.columns[:2].tolist() + comporder\n",
    "\n",
    "    #drop the first to columns they contain the test data\n",
    "    compare=compare.drop([\"Written by a human (1) - Written by a machine (7)\",\"Written by a human (1) - Written by a machine (7).1\"],axis=1)\n",
    "\n",
    "    #sort the questions in their original order\n",
    "    compare = compare.reindex(sorted(compare.columns), axis=1)\n",
    "    \n",
    "    #In the second part of the study the scale flipped to avoid bias. But to compare the to parts here values we changed back. \n",
    "    #So 7 means written by a human, 1 written by a machine. \n",
    "    compare=compare.replace([1.0, 2.0, 3.0, 4.0,5.0,6.0,7.0], [7.0, 6.0, 5.0, 4.0,3.0,2.0,1.0])\n",
    "    \n",
    "    return compare"
   ]
  },
  {
   "cell_type": "code",
   "execution_count": 13,
   "metadata": {},
   "outputs": [],
   "source": [
    "compare=frame_comparison(onlyanswers)"
   ]
  },
  {
   "cell_type": "code",
   "execution_count": 14,
   "metadata": {},
   "outputs": [
    {
     "name": "stdout",
     "output_type": "stream",
     "text": [
      "     1    2    3    4    5    6    7    8    9    10  ...   31   32   33   34  \\\n",
      "0   6.0  3.0  3.0  3.0  6.0  3.0  2.0  2.0  4.0  3.0  ...  1.0  3.0  1.0  1.0   \n",
      "1   6.0  2.0  3.0  4.0  5.0  3.0  2.0  5.0  2.0  3.0  ...  2.0  1.0  1.0  1.0   \n",
      "2   5.0  3.0  5.0  6.0  5.0  6.0  5.0  6.0  6.0  4.0  ...  6.0  6.0  5.0  5.0   \n",
      "4   6.0  6.0  6.0  5.0  2.0  6.0  6.0  6.0  5.0  6.0  ...  6.0  6.0  5.0  2.0   \n",
      "5   4.0  4.0  5.0  4.0  5.0  3.0  4.0  3.0  5.0  NaN  ...  5.0  5.0  4.0  5.0   \n",
      "6   2.0  6.0  5.0  3.0  3.0  3.0  4.0  4.0  6.0  3.0  ...  1.0  3.0  3.0  4.0   \n",
      "7   2.0  2.0  2.0  4.0  1.0  2.0  2.0  2.0  1.0  1.0  ...  1.0  2.0  1.0  1.0   \n",
      "8   1.0  1.0  2.0  3.0  2.0  3.0  1.0  3.0  1.0  1.0  ...  1.0  1.0  1.0  3.0   \n",
      "9   2.0  6.0  6.0  2.0  5.0  3.0  2.0  2.0  2.0  6.0  ...  6.0  6.0  6.0  6.0   \n",
      "10  5.0  2.0  5.0  6.0  3.0  3.0  2.0  5.0  4.0  2.0  ...  1.0  1.0  1.0  1.0   \n",
      "12  3.0  4.0  3.0  4.0  4.0  4.0  3.0  4.0  3.0  3.0  ...  3.0  3.0  3.0  3.0   \n",
      "13  3.0  3.0  3.0  3.0  2.0  5.0  1.0  6.0  2.0  2.0  ...  2.0  3.0  2.0  1.0   \n",
      "14  6.0  4.0  6.0  5.0  6.0  5.0  5.0  5.0  7.0  3.0  ...  2.0  3.0  4.0  3.0   \n",
      "15  7.0  2.0  3.0  6.0  3.0  3.0  2.0  7.0  3.0  1.0  ...  2.0  2.0  2.0  1.0   \n",
      "18  7.0  4.0  3.0  7.0  7.0  7.0  1.0  7.0  7.0  4.0  ...  3.0  3.0  1.0  1.0   \n",
      "19  6.0  2.0  3.0  2.0  2.0  3.0  2.0  3.0  1.0  2.0  ...  1.0  2.0  1.0  1.0   \n",
      "20  3.0  5.0  5.0  5.0  5.0  5.0  2.0  2.0  5.0  2.0  ...  5.0  5.0  5.0  5.0   \n",
      "21  6.0  6.0  6.0  7.0  3.0  2.0  3.0  5.0  2.0  2.0  ...  1.0  1.0  1.0  1.0   \n",
      "22  6.0  2.0  6.0  2.0  2.0  2.0  2.0  4.0  2.0  1.0  ...  1.0  1.0  6.0  1.0   \n",
      "23  4.0  6.0  5.0  5.0  6.0  5.0  5.0  6.0  6.0  4.0  ...  2.0  3.0  2.0  2.0   \n",
      "\n",
      "     35   36   37   38   39   40  \n",
      "0   2.0  2.0  3.0  2.0  2.0  2.0  \n",
      "1   1.0  1.0  1.0  1.0  1.0  2.0  \n",
      "2   5.0  5.0  6.0  5.0  6.0  5.0  \n",
      "4   2.0  6.0  5.0  2.0  3.0  5.0  \n",
      "5   NaN  4.0  5.0  5.0  3.0  3.0  \n",
      "6   5.0  3.0  2.0  3.0  3.0  3.0  \n",
      "7   2.0  2.0  1.0  1.0  2.0  1.0  \n",
      "8   3.0  1.0  2.0  2.0  1.0  1.0  \n",
      "9   6.0  6.0  6.0  6.0  6.0  6.0  \n",
      "10  1.0  2.0  2.0  1.0  1.0  2.0  \n",
      "12  3.0  3.0  2.0  3.0  4.0  3.0  \n",
      "13  4.0  5.0  5.0  2.0  2.0  3.0  \n",
      "14  2.0  6.0  3.0  3.0  1.0  3.0  \n",
      "15  1.0  1.0  2.0  2.0  2.0  2.0  \n",
      "18  2.0  1.0  3.0  1.0  1.0  3.0  \n",
      "19  4.0  4.0  2.0  3.0  1.0  2.0  \n",
      "20  5.0  5.0  5.0  6.0  5.0  5.0  \n",
      "21  1.0  5.0  1.0  2.0  6.0  2.0  \n",
      "22  1.0  2.0  2.0  2.0  1.0  1.0  \n",
      "23  2.0  2.0  2.0  2.0  3.0  2.0  \n",
      "\n",
      "[20 rows x 40 columns]\n"
     ]
    }
   ],
   "source": [
    "\n",
    "print(compare)"
   ]
  },
  {
   "cell_type": "code",
   "execution_count": 15,
   "metadata": {},
   "outputs": [
    {
     "data": {
      "text/html": [
       "<div>\n",
       "<style scoped>\n",
       "    .dataframe tbody tr th:only-of-type {\n",
       "        vertical-align: middle;\n",
       "    }\n",
       "\n",
       "    .dataframe tbody tr th {\n",
       "        vertical-align: top;\n",
       "    }\n",
       "\n",
       "    .dataframe thead th {\n",
       "        text-align: right;\n",
       "    }\n",
       "</style>\n",
       "<table border=\"1\" class=\"dataframe\">\n",
       "  <thead>\n",
       "    <tr style=\"text-align: right;\">\n",
       "      <th></th>\n",
       "      <th>1</th>\n",
       "      <th>2</th>\n",
       "      <th>3</th>\n",
       "      <th>4</th>\n",
       "      <th>5</th>\n",
       "      <th>6</th>\n",
       "      <th>7</th>\n",
       "      <th>8</th>\n",
       "      <th>9</th>\n",
       "      <th>10</th>\n",
       "      <th>...</th>\n",
       "      <th>31</th>\n",
       "      <th>32</th>\n",
       "      <th>33</th>\n",
       "      <th>34</th>\n",
       "      <th>35</th>\n",
       "      <th>36</th>\n",
       "      <th>37</th>\n",
       "      <th>38</th>\n",
       "      <th>39</th>\n",
       "      <th>40</th>\n",
       "    </tr>\n",
       "  </thead>\n",
       "  <tbody>\n",
       "    <tr>\n",
       "      <th>0</th>\n",
       "      <td>6.0</td>\n",
       "      <td>3.0</td>\n",
       "      <td>3.0</td>\n",
       "      <td>3.0</td>\n",
       "      <td>6.0</td>\n",
       "      <td>3.0</td>\n",
       "      <td>2.0</td>\n",
       "      <td>2.0</td>\n",
       "      <td>4.0</td>\n",
       "      <td>3.0</td>\n",
       "      <td>...</td>\n",
       "      <td>1.0</td>\n",
       "      <td>3.0</td>\n",
       "      <td>1.0</td>\n",
       "      <td>1.0</td>\n",
       "      <td>2.0</td>\n",
       "      <td>2.0</td>\n",
       "      <td>3.0</td>\n",
       "      <td>2.0</td>\n",
       "      <td>2.0</td>\n",
       "      <td>2.0</td>\n",
       "    </tr>\n",
       "    <tr>\n",
       "      <th>1</th>\n",
       "      <td>6.0</td>\n",
       "      <td>2.0</td>\n",
       "      <td>3.0</td>\n",
       "      <td>4.0</td>\n",
       "      <td>5.0</td>\n",
       "      <td>3.0</td>\n",
       "      <td>2.0</td>\n",
       "      <td>5.0</td>\n",
       "      <td>2.0</td>\n",
       "      <td>3.0</td>\n",
       "      <td>...</td>\n",
       "      <td>2.0</td>\n",
       "      <td>1.0</td>\n",
       "      <td>1.0</td>\n",
       "      <td>1.0</td>\n",
       "      <td>1.0</td>\n",
       "      <td>1.0</td>\n",
       "      <td>1.0</td>\n",
       "      <td>1.0</td>\n",
       "      <td>1.0</td>\n",
       "      <td>2.0</td>\n",
       "    </tr>\n",
       "    <tr>\n",
       "      <th>2</th>\n",
       "      <td>5.0</td>\n",
       "      <td>3.0</td>\n",
       "      <td>5.0</td>\n",
       "      <td>6.0</td>\n",
       "      <td>5.0</td>\n",
       "      <td>6.0</td>\n",
       "      <td>5.0</td>\n",
       "      <td>6.0</td>\n",
       "      <td>6.0</td>\n",
       "      <td>4.0</td>\n",
       "      <td>...</td>\n",
       "      <td>6.0</td>\n",
       "      <td>6.0</td>\n",
       "      <td>5.0</td>\n",
       "      <td>5.0</td>\n",
       "      <td>5.0</td>\n",
       "      <td>5.0</td>\n",
       "      <td>6.0</td>\n",
       "      <td>5.0</td>\n",
       "      <td>6.0</td>\n",
       "      <td>5.0</td>\n",
       "    </tr>\n",
       "    <tr>\n",
       "      <th>4</th>\n",
       "      <td>6.0</td>\n",
       "      <td>6.0</td>\n",
       "      <td>6.0</td>\n",
       "      <td>5.0</td>\n",
       "      <td>2.0</td>\n",
       "      <td>6.0</td>\n",
       "      <td>6.0</td>\n",
       "      <td>6.0</td>\n",
       "      <td>5.0</td>\n",
       "      <td>6.0</td>\n",
       "      <td>...</td>\n",
       "      <td>6.0</td>\n",
       "      <td>6.0</td>\n",
       "      <td>5.0</td>\n",
       "      <td>2.0</td>\n",
       "      <td>2.0</td>\n",
       "      <td>6.0</td>\n",
       "      <td>5.0</td>\n",
       "      <td>2.0</td>\n",
       "      <td>3.0</td>\n",
       "      <td>5.0</td>\n",
       "    </tr>\n",
       "    <tr>\n",
       "      <th>5</th>\n",
       "      <td>4.0</td>\n",
       "      <td>4.0</td>\n",
       "      <td>5.0</td>\n",
       "      <td>4.0</td>\n",
       "      <td>5.0</td>\n",
       "      <td>3.0</td>\n",
       "      <td>4.0</td>\n",
       "      <td>3.0</td>\n",
       "      <td>5.0</td>\n",
       "      <td>NaN</td>\n",
       "      <td>...</td>\n",
       "      <td>5.0</td>\n",
       "      <td>5.0</td>\n",
       "      <td>4.0</td>\n",
       "      <td>5.0</td>\n",
       "      <td>NaN</td>\n",
       "      <td>4.0</td>\n",
       "      <td>5.0</td>\n",
       "      <td>5.0</td>\n",
       "      <td>3.0</td>\n",
       "      <td>3.0</td>\n",
       "    </tr>\n",
       "  </tbody>\n",
       "</table>\n",
       "<p>5 rows × 40 columns</p>\n",
       "</div>"
      ],
      "text/plain": [
       "    1    2    3    4    5    6    7    8    9    10  ...   31   32   33   34  \\\n",
       "0  6.0  3.0  3.0  3.0  6.0  3.0  2.0  2.0  4.0  3.0  ...  1.0  3.0  1.0  1.0   \n",
       "1  6.0  2.0  3.0  4.0  5.0  3.0  2.0  5.0  2.0  3.0  ...  2.0  1.0  1.0  1.0   \n",
       "2  5.0  3.0  5.0  6.0  5.0  6.0  5.0  6.0  6.0  4.0  ...  6.0  6.0  5.0  5.0   \n",
       "4  6.0  6.0  6.0  5.0  2.0  6.0  6.0  6.0  5.0  6.0  ...  6.0  6.0  5.0  2.0   \n",
       "5  4.0  4.0  5.0  4.0  5.0  3.0  4.0  3.0  5.0  NaN  ...  5.0  5.0  4.0  5.0   \n",
       "\n",
       "    35   36   37   38   39   40  \n",
       "0  2.0  2.0  3.0  2.0  2.0  2.0  \n",
       "1  1.0  1.0  1.0  1.0  1.0  2.0  \n",
       "2  5.0  5.0  6.0  5.0  6.0  5.0  \n",
       "4  2.0  6.0  5.0  2.0  3.0  5.0  \n",
       "5  NaN  4.0  5.0  5.0  3.0  3.0  \n",
       "\n",
       "[5 rows x 40 columns]"
      ]
     },
     "execution_count": 15,
     "metadata": {},
     "output_type": "execute_result"
    }
   ],
   "source": [
    "compare.head()"
   ]
  },
  {
   "cell_type": "code",
   "execution_count": 16,
   "metadata": {},
   "outputs": [
    {
     "name": "stdout",
     "output_type": "stream",
     "text": [
      "There are 4 questions with NAN in the natural set\n",
      "There are 6 questions with NAN in the comparison set\n"
     ]
    }
   ],
   "source": [
    "\n",
    "print(\"There are\",natural.isna().sum().sum(),\"questions with NAN in the natural set\")\n",
    "print(\"There are\",compare.isna().sum().sum(),\"questions with NAN in the comparison set\")"
   ]
  },
  {
   "cell_type": "code",
   "execution_count": 17,
   "metadata": {},
   "outputs": [],
   "source": [
    "#Some participants skipped questions for easier evaluation the mean of the other participants for this question is added\n",
    "natural=natural.apply(lambda x: x.fillna(int(x.mean())),axis=0)\n",
    "compare=compare.apply(lambda x: x.fillna(int(x.mean())),axis=0)"
   ]
  },
  {
   "cell_type": "code",
   "execution_count": 18,
   "metadata": {},
   "outputs": [],
   "source": [
    "def split_models(inputframe):\n",
    "    \n",
    "    tl=inputframe.iloc[:, : 10]\n",
    "    mc=inputframe.iloc[:, 10 :20]\n",
    "    real=inputframe.iloc[:, 20:30]\n",
    "    rand=inputframe.iloc[:, 30:40]\n",
    "    allframe=[tl,mc,real,rand]\n",
    "    return tl,mc,real,rand,allframe"
   ]
  },
  {
   "cell_type": "code",
   "execution_count": 19,
   "metadata": {},
   "outputs": [],
   "source": [
    "tlnat,mcnat,realnat,randnat,allnat=split_models(natural)\n",
    "tlcom,mccom,realcom,randcom,allcom=split_models(compare)\n"
   ]
  },
  {
   "cell_type": "code",
   "execution_count": 20,
   "metadata": {},
   "outputs": [
    {
     "name": "stdout",
     "output_type": "stream",
     "text": [
      "    1    2   3   4   5   6   7   8   9   10\n",
      "0    6  5.0   2   3   4   2   3   3   3   4\n",
      "1    7  3.0   5   6   5   4   2   4   5   3\n",
      "2    3  5.0   3   3   5   4   3   4   2   4\n",
      "4    5  6.0   5   4   6   5   2   5   5   6\n",
      "5    5  5.0   5   3   3   4   4   4   3   5\n",
      "6    5  3.0   2   3   3   1   3   3   6   4\n",
      "7    2  1.0   2   4   3   1   1   3   2   2\n",
      "8    1  2.0   4   2   2   1   1   2   1   1\n",
      "9    6  3.0   3   2   6   6   2   6   2   3\n",
      "10   5  1.0   5   5   3   4   2   5   5   2\n",
      "12   3  4.0   4   3   4   3   3   4   3   3\n",
      "13   4  5.0   2   4   2   2   2   5   1   2\n",
      "14   2  3.0   2   3   2   3   2   3   5   5\n",
      "15   5  3.0   3   4   3   3   1   2   2   2\n",
      "18   7  7.0   7   7   7   7   2   7   7   7\n",
      "19   6  3.0   5   5   6   3   4   3   2   3\n",
      "20   2  2.0   3   3   2   5   5   4   5   3\n",
      "21   4  6.0   3   7   4   1   4   6   5   4\n",
      "22   3  3.0   3   4   2   4   2   2   3   4\n",
      "23   5  4.0   5   3   6   5   2   2   4   5\n",
      "     1    2    3    4    5    6    7    8    9    10\n",
      "0   6.0  3.0  3.0  3.0  6.0  3.0  2.0  2.0  4.0  3.0\n",
      "1   6.0  2.0  3.0  4.0  5.0  3.0  2.0  5.0  2.0  3.0\n",
      "2   5.0  3.0  5.0  6.0  5.0  6.0  5.0  6.0  6.0  4.0\n",
      "4   6.0  6.0  6.0  5.0  2.0  6.0  6.0  6.0  5.0  6.0\n",
      "5   4.0  4.0  5.0  4.0  5.0  3.0  4.0  3.0  5.0  2.0\n",
      "6   2.0  6.0  5.0  3.0  3.0  3.0  4.0  4.0  6.0  3.0\n",
      "7   2.0  2.0  2.0  4.0  1.0  2.0  2.0  2.0  1.0  1.0\n",
      "8   1.0  1.0  2.0  3.0  2.0  3.0  1.0  3.0  1.0  1.0\n",
      "9   2.0  6.0  6.0  2.0  5.0  3.0  2.0  2.0  2.0  6.0\n",
      "10  5.0  2.0  5.0  6.0  3.0  3.0  2.0  5.0  4.0  2.0\n",
      "12  3.0  4.0  3.0  4.0  4.0  4.0  3.0  4.0  3.0  3.0\n",
      "13  3.0  3.0  3.0  3.0  2.0  5.0  1.0  6.0  2.0  2.0\n",
      "14  6.0  4.0  6.0  5.0  6.0  5.0  5.0  5.0  7.0  3.0\n",
      "15  7.0  2.0  3.0  6.0  3.0  3.0  2.0  7.0  3.0  1.0\n",
      "18  7.0  4.0  3.0  7.0  7.0  7.0  1.0  7.0  7.0  4.0\n",
      "19  6.0  2.0  3.0  2.0  2.0  3.0  2.0  3.0  1.0  2.0\n",
      "20  3.0  5.0  5.0  5.0  5.0  5.0  2.0  2.0  5.0  2.0\n",
      "21  6.0  6.0  6.0  7.0  3.0  2.0  3.0  5.0  2.0  2.0\n",
      "22  6.0  2.0  6.0  2.0  2.0  2.0  2.0  4.0  2.0  1.0\n",
      "23  4.0  6.0  5.0  5.0  6.0  5.0  5.0  6.0  6.0  4.0\n"
     ]
    }
   ],
   "source": [
    "print(tlnat)\n",
    "print(tlcom)"
   ]
  },
  {
   "cell_type": "code",
   "execution_count": 21,
   "metadata": {},
   "outputs": [],
   "source": [
    "tlall=pd.concat([tlnat, tlcom], axis=1)\n",
    "mcall=pd.concat([mcnat, mccom], axis=1)\n",
    "realall=pd.concat([realnat, realcom], axis=1)\n",
    "randall=pd.concat([randnat, randcom], axis=1)\n",
    "\n",
    "allsorted=[tlall,mcall,realall,randall]"
   ]
  },
  {
   "cell_type": "code",
   "execution_count": null,
   "metadata": {},
   "outputs": [],
   "source": []
  },
  {
   "cell_type": "code",
   "execution_count": 22,
   "metadata": {},
   "outputs": [],
   "source": [
    "#Getting mean and std"
   ]
  },
  {
   "cell_type": "code",
   "execution_count": 23,
   "metadata": {},
   "outputs": [],
   "source": [
    "def mean_and_std(dataframe):\n",
    "    mean=round((dataframe.mean().mean()),2)\n",
    "    std=round((dataframe.stack().std()),2)\n",
    "    return mean,std"
   ]
  },
  {
   "cell_type": "code",
   "execution_count": 24,
   "metadata": {},
   "outputs": [
    {
     "name": "stdout",
     "output_type": "stream",
     "text": [
      "Mean and Std for Naturalness:\n",
      "(3.64, 1.59)\n",
      "(3.58, 1.48)\n",
      "(5.3, 1.46)\n",
      "(2.51, 1.45)\n",
      "\n",
      "Mean and Std for Comparison:\n",
      "(3.8, 1.73)\n",
      "(3.91, 1.6)\n",
      "(5.55, 1.58)\n",
      "(2.79, 1.7)\n",
      "\n",
      "Mean and Std for both:\n",
      "(3.71, 1.66)\n",
      "(3.75, 1.55)\n",
      "(5.43, 1.53)\n",
      "(2.65, 1.59)\n"
     ]
    }
   ],
   "source": [
    "print(\"Mean and Std for Naturalness:\")\n",
    "for frame in allnat:\n",
    "    print(mean_and_std(frame))\n",
    "\n",
    "print()\n",
    "print(\"Mean and Std for Comparison:\")\n",
    "for frame in allcom:\n",
    "    print(mean_and_std(frame))\n",
    "    \n",
    "print()\n",
    "print(\"Mean and Std for both:\")\n",
    "for frame in allsorted:\n",
    "    print(mean_and_std(frame))"
   ]
  },
  {
   "cell_type": "code",
   "execution_count": null,
   "metadata": {},
   "outputs": [],
   "source": []
  },
  {
   "cell_type": "code",
   "execution_count": 25,
   "metadata": {},
   "outputs": [],
   "source": [
    "#Getting ANOVA and Tukey "
   ]
  },
  {
   "cell_type": "code",
   "execution_count": 26,
   "metadata": {},
   "outputs": [],
   "source": [
    "index=range(1,41)\n",
    "namena=pd.Series([\"tlna\",\"mcna\",\"randna\",\"realna\"])\n",
    "namena=namena.repeat(10)\n",
    "namena.index = index\n",
    "\n",
    "meanna=natural.mean()\n",
    "\n",
    "combnat=pd.concat([namena,meanna ], axis=1,ignore_index=True)\n",
    "\n",
    "combnat.columns = ['Method', 'Metascore']"
   ]
  },
  {
   "cell_type": "code",
   "execution_count": 27,
   "metadata": {},
   "outputs": [],
   "source": [
    "index=range(1,41)\n",
    "namecom=pd.Series([\"tlcom\",\"mccom\",\"randcom\",\"realcom\"])\n",
    "namecom=namecom.repeat(10)\n",
    "namecom.index = index\n",
    "\n",
    "meancom=compare.mean()\n",
    "\n",
    "combcom=pd.concat([namecom,meancom], axis=1,ignore_index=True)\n",
    "combcom.columns=[\"Method\",\"Metascore\"]"
   ]
  },
  {
   "cell_type": "code",
   "execution_count": 28,
   "metadata": {},
   "outputs": [],
   "source": [
    "import statsmodels.api as sm\n",
    "from statsmodels.formula.api import ols"
   ]
  },
  {
   "cell_type": "code",
   "execution_count": 29,
   "metadata": {},
   "outputs": [
    {
     "name": "stdout",
     "output_type": "stream",
     "text": [
      "            df     sum_sq    mean_sq          F        PR(>F)\n",
      "Method     3.0  39.957688  13.319229  68.092768  6.551074e-15\n",
      "Residual  36.0   7.041750   0.195604        NaN           NaN\n",
      "            df    sum_sq    mean_sq          F        PR(>F)\n",
      "Method     3.0  39.04025  13.013417  66.277569  9.878368e-15\n",
      "Residual  36.0   7.06850   0.196347        NaN           NaN\n"
     ]
    }
   ],
   "source": [
    "lm=ols(\"Metascore~Method\",data=combnat).fit()\n",
    "table=sm.stats.anova_lm(lm)\n",
    "print(table)\n",
    "\n",
    "lm=ols(\"Metascore~Method\",data=combcom).fit()\n",
    "table=sm.stats.anova_lm(lm)\n",
    "print(table)"
   ]
  },
  {
   "cell_type": "code",
   "execution_count": 50,
   "metadata": {},
   "outputs": [],
   "source": [
    "from statsmodels.stats.multicomp import pairwise_tukeyhsd"
   ]
  },
  {
   "cell_type": "code",
   "execution_count": 53,
   "metadata": {},
   "outputs": [],
   "source": [
    "tukeynat = pairwise_tukeyhsd(endog=combnat['Metascore'],\n",
    "                          groups=combnat['Method'],\n",
    "                          alpha=0.05)\n",
    "\n",
    "tukeycom = pairwise_tukeyhsd(endog=combcom['Metascore'],\n",
    "                          groups=combcom['Method'],\n",
    "                          alpha=0.05)"
   ]
  },
  {
   "cell_type": "code",
   "execution_count": 56,
   "metadata": {},
   "outputs": [
    {
     "name": "stdout",
     "output_type": "stream",
     "text": [
      "Multiple Comparison of Means - Tukey HSD, FWER=0.05\n",
      "===================================================\n",
      "group1 group2 meandiff p-adj  lower   upper  reject\n",
      "---------------------------------------------------\n",
      "  mcna randna     1.72 0.001  1.1873  2.2527   True\n",
      "  mcna realna   -1.075 0.001 -1.6077 -0.5423   True\n",
      "  mcna   tlna     0.05   0.9 -0.4827  0.5827  False\n",
      "randna realna   -2.795 0.001 -3.3277 -2.2623   True\n",
      "randna   tlna    -1.67 0.001 -2.2027 -1.1373   True\n",
      "realna   tlna    1.125 0.001  0.5923  1.6577   True\n",
      "---------------------------------------------------\n",
      "\n",
      " Multiple Comparison of Means - Tukey HSD, FWER=0.05 \n",
      "=====================================================\n",
      " group1  group2 meandiff p-adj  lower   upper  reject\n",
      "-----------------------------------------------------\n",
      "  mccom randcom     1.64 0.001  1.1063  2.1737   True\n",
      "  mccom realcom   -1.115 0.001 -1.6487 -0.5813   True\n",
      "  mccom   tlcom   -0.115   0.9 -0.6487  0.4187  False\n",
      "randcom realcom   -2.755 0.001 -3.2887 -2.2213   True\n",
      "randcom   tlcom   -1.755 0.001 -2.2887 -1.2213   True\n",
      "realcom   tlcom      1.0 0.001  0.4663  1.5337   True\n",
      "-----------------------------------------------------\n"
     ]
    }
   ],
   "source": [
    "print(tukeynat)\n",
    "print()\n",
    "print(tukeycom)"
   ]
  },
  {
   "cell_type": "code",
   "execution_count": null,
   "metadata": {},
   "outputs": [],
   "source": []
  },
  {
   "cell_type": "code",
   "execution_count": null,
   "metadata": {},
   "outputs": [],
   "source": []
  },
  {
   "cell_type": "code",
   "execution_count": 30,
   "metadata": {},
   "outputs": [],
   "source": [
    "#Spearmann Correlation between Naturalness and Written by a human"
   ]
  },
  {
   "cell_type": "code",
   "execution_count": 31,
   "metadata": {},
   "outputs": [
    {
     "name": "stdout",
     "output_type": "stream",
     "text": [
      "SpearmanrResult(correlation=0.5484845330623838, pvalue=4.191372566150168e-17)\n",
      "SpearmanrResult(correlation=0.6074746058123445, pvalue=1.4691614334082227e-21)\n"
     ]
    }
   ],
   "source": [
    "from scipy import stats\n",
    "realcorr=stats.spearmanr(realnat.stack(),realcom.stack())\n",
    "print(realcorr)\n",
    "randcorr=stats.spearmanr(randnat.stack(),randcom.stack())\n",
    "print(randcorr)\n",
    "\n",
    "#The Spearman Correlation results suggest a statistically significant correlation between a sentence that is percieved as natural \n",
    "#and perceived as written by a human."
   ]
  },
  {
   "cell_type": "code",
   "execution_count": 32,
   "metadata": {},
   "outputs": [],
   "source": [
    "#T-Test for all conditions"
   ]
  },
  {
   "cell_type": "code",
   "execution_count": 33,
   "metadata": {},
   "outputs": [],
   "source": [
    "from scipy import stats"
   ]
  },
  {
   "cell_type": "code",
   "execution_count": 34,
   "metadata": {},
   "outputs": [],
   "source": [
    "def t_test(a,b):\n",
    "        stat,pvalue=stats.ttest_ind(a,b)\n",
    "        return stat,pvalue"
   ]
  },
  {
   "cell_type": "markdown",
   "metadata": {},
   "source": [
    "1. tl-tl\n",
    "2. tl-mc\n",
    "3. tl-real\n",
    "4. tl-rand\n",
    "\n",
    "5. mc-tl\n",
    "6. mc-mc\n",
    "7. mc-real\n",
    "8. mc-rand\n",
    "\n",
    "9. real-tl\n",
    "10. real-mc\n",
    "11. real-real\n",
    "12. real-rand\n",
    "\n",
    "13. rand-tl\n",
    "14. rand-mc\n",
    "15. rand-real\n",
    "16. rand-rand"
   ]
  },
  {
   "cell_type": "code",
   "execution_count": 35,
   "metadata": {},
   "outputs": [
    {
     "name": "stdout",
     "output_type": "stream",
     "text": [
      "1 0.0 1.0\n",
      "\n",
      "2 -0.28613490532648755 0.7748490612220023\n",
      "\n",
      "Not statistically significant\n",
      "\n",
      "3 -15.179186531955269 6.5912361326893736e-46\n",
      "\n",
      "4 9.253394974720063 1.9537843447779377e-19\n",
      "\n",
      "5 0.28613490532648755 0.7748490612220023\n",
      "\n",
      "Not statistically significant\n",
      "\n",
      "6 0.0 1.0\n",
      "\n",
      "7 -15.432440347506489 3.251594991291461e-47\n",
      "\n",
      "8 9.870479755293582 9.276245938327111e-22\n",
      "\n",
      "9 15.179186531955269 6.5912361326893736e-46\n",
      "\n",
      "10 15.432440347506489 3.251594991291461e-47\n",
      "\n",
      "11 0.0 1.0\n",
      "\n",
      "12 25.19184803560781 1.69315421167061e-103\n",
      "\n",
      "13 -9.253394974720063 1.9537843447779377e-19\n",
      "\n",
      "14 -9.870479755293582 9.276245938327111e-22\n",
      "\n",
      "15 -25.19184803560781 1.69315421167061e-103\n",
      "\n",
      "16 0.0 1.0\n",
      "\n"
     ]
    }
   ],
   "source": [
    "counter=0\n",
    "for framea in allsorted:\n",
    "    \n",
    "    for frameb in allsorted:\n",
    "        counter= counter+1\n",
    "        stat,pvalue=t_test(framea.stack(),frameb.stack())\n",
    "        print(counter,stat,pvalue)\n",
    "        print()\n",
    "        if pvalue>0.05 and pvalue!=1.0:\n",
    "            print(\"Not statistically significant\")\n",
    "            print()\n",
    "\n"
   ]
  },
  {
   "cell_type": "code",
   "execution_count": null,
   "metadata": {},
   "outputs": [],
   "source": []
  },
  {
   "cell_type": "code",
   "execution_count": null,
   "metadata": {},
   "outputs": [],
   "source": []
  },
  {
   "cell_type": "code",
   "execution_count": null,
   "metadata": {},
   "outputs": [],
   "source": []
  },
  {
   "cell_type": "code",
   "execution_count": null,
   "metadata": {},
   "outputs": [],
   "source": []
  },
  {
   "cell_type": "code",
   "execution_count": 36,
   "metadata": {},
   "outputs": [],
   "source": [
    "#This part is still unfinished"
   ]
  },
  {
   "cell_type": "code",
   "execution_count": null,
   "metadata": {},
   "outputs": [],
   "source": []
  },
  {
   "cell_type": "code",
   "execution_count": 37,
   "metadata": {},
   "outputs": [],
   "source": [
    "noknow=compl[compl['No prior experience with machine generated text (1) - Frequent interaction with machine generated text (7)']<4.0]\n",
    "moreknow=compl[compl['No prior experience with machine generated text (1) - Frequent interaction with machine generated text (7)']>4.0]"
   ]
  },
  {
   "cell_type": "code",
   "execution_count": 38,
   "metadata": {},
   "outputs": [],
   "source": [
    "natural_noknow=frame_natural(noknow)\n",
    "compare_noknow=frame_comparison(noknow)\n",
    "\n",
    "natural_moreknow=frame_natural(moreknow)\n",
    "compare_moreknow=frame_comparison(moreknow)\n",
    "\n",
    "\n"
   ]
  },
  {
   "cell_type": "code",
   "execution_count": 39,
   "metadata": {},
   "outputs": [
    {
     "name": "stdout",
     "output_type": "stream",
     "text": [
      "    1    2   3   4   5   6   7   8   9   10  ...  31  32  33  34  35   36  37  \\\n",
      "2    3  5.0   3   3   5   4   3   4   2   4  ...   3   4   3   4   3  4.0   3   \n",
      "5    5  5.0   5   3   3   4   4   4   3   5  ...   4   4   5   5   4  4.0   3   \n",
      "8    1  2.0   4   2   2   1   1   2   1   1  ...   2   1   1   1   1  1.0   1   \n",
      "11   2  5.0   5   1   7   4   6   4   6   4  ...   4   7   4   4   6  4.0   5   \n",
      "12   3  4.0   4   3   4   3   3   4   3   3  ...   3   4   3   4   4  3.0   4   \n",
      "13   4  5.0   2   4   2   2   2   5   1   2  ...   2   3   3   1   4  2.0   4   \n",
      "18   7  7.0   7   7   7   7   2   7   7   7  ...   1   1   1   1   1  2.0   2   \n",
      "19   6  3.0   5   5   6   3   4   3   2   3  ...   2   4   1   2   6  3.0   5   \n",
      "21   4  6.0   3   7   4   1   4   6   5   4  ...   1   2   1   2   1  1.0   1   \n",
      "\n",
      "    38  39  40  \n",
      "2    3   4   3  \n",
      "5    4   4   5  \n",
      "8    1   1   2  \n",
      "11   4   7   3  \n",
      "12   4   4   4  \n",
      "13   3   1   6  \n",
      "18   1   1   1  \n",
      "19   2   5   1  \n",
      "21   1   2   2  \n",
      "\n",
      "[9 rows x 40 columns]\n",
      "    1    2   3   4   5   6   7   8   9   10  ...  31  32  33  34  35   36  37  \\\n",
      "0    6  5.0   2   3   4   2   3   3   3   4  ...   1   2   1   1   1  2.0   2   \n",
      "1    7  3.0   5   6   5   4   2   4   5   3  ...   1   2   2   1   1  2.0   1   \n",
      "2    3  5.0   3   3   5   4   3   4   2   4  ...   3   4   3   4   3  4.0   3   \n",
      "4    5  6.0   5   4   6   5   2   5   5   6  ...   6   2   2   2   2  5.0   2   \n",
      "5    5  5.0   5   3   3   4   4   4   3   5  ...   4   4   5   5   4  4.0   3   \n",
      "6    5  3.0   2   3   3   1   3   3   6   4  ...   2   1   4   5   3  2.0   1   \n",
      "7    2  1.0   2   4   3   1   1   3   2   2  ...   1   1   1   1   1  1.0   1   \n",
      "8    1  2.0   4   2   2   1   1   2   1   1  ...   2   1   1   1   1  1.0   1   \n",
      "9    6  3.0   3   2   6   6   2   6   2   3  ...   4   7   1   3   6  6.0   3   \n",
      "10   5  1.0   5   5   3   4   2   5   5   2  ...   1   2   2   1   1  1.0   1   \n",
      "12   3  4.0   4   3   4   3   3   4   3   3  ...   3   4   3   4   4  3.0   4   \n",
      "13   4  5.0   2   4   2   2   2   5   1   2  ...   2   3   3   1   4  2.0   4   \n",
      "14   2  3.0   2   3   2   3   2   3   5   5  ...   3   4   5   3   2  5.0   3   \n",
      "15   5  3.0   3   4   3   3   1   2   2   2  ...   1   2   1   1   1  2.0   2   \n",
      "18   7  7.0   7   7   7   7   2   7   7   7  ...   1   1   1   1   1  2.0   2   \n",
      "19   6  3.0   5   5   6   3   4   3   2   3  ...   2   4   1   2   6  3.0   5   \n",
      "20   2  2.0   3   3   2   5   5   4   5   3  ...   4   5   3   3   5  5.0   3   \n",
      "21   4  6.0   3   7   4   1   4   6   5   4  ...   1   2   1   2   1  1.0   1   \n",
      "22   3  3.0   3   4   2   4   2   2   3   4  ...   3   2   3   3   2  2.0   2   \n",
      "23   5  4.0   5   3   6   5   2   2   4   5  ...   2   3   2   4   3  4.0   1   \n",
      "\n",
      "    38  39  40  \n",
      "0    2   2   1  \n",
      "1    1   2   1  \n",
      "2    3   4   3  \n",
      "4    2   5   2  \n",
      "5    4   4   5  \n",
      "6    2   3   3  \n",
      "7    2   1   1  \n",
      "8    1   1   2  \n",
      "9    4   2   3  \n",
      "10   1   1   2  \n",
      "12   4   4   4  \n",
      "13   3   1   6  \n",
      "14   5   5   5  \n",
      "15   1   1   1  \n",
      "18   1   1   1  \n",
      "19   2   5   1  \n",
      "20   5   5   2  \n",
      "21   1   2   2  \n",
      "22   3   2   2  \n",
      "23   2   3   2  \n",
      "\n",
      "[20 rows x 40 columns]\n"
     ]
    }
   ],
   "source": [
    "print(natural_noknow)\n",
    "print(natural)"
   ]
  },
  {
   "cell_type": "code",
   "execution_count": 40,
   "metadata": {},
   "outputs": [
    {
     "name": "stdout",
     "output_type": "stream",
     "text": [
      "There are 1 questions with NAN in the natural no machine knowledge set\n",
      "There are 5 questions with NAN in the comparison no machine knowledge set\n",
      "There are 0 questions with NAN in the natural with machine knowledge set\n",
      "There are 0 questions with NAN in the comparison with machine knowledge set\n"
     ]
    }
   ],
   "source": [
    "print(\"There are\",natural_noknow.isna().sum().sum(),\"questions with NAN in the natural no machine knowledge set\")\n",
    "print(\"There are\",compare_noknow.isna().sum().sum(),\"questions with NAN in the comparison no machine knowledge set\")\n",
    "print(\"There are\",natural_moreknow.isna().sum().sum(),\"questions with NAN in the natural with machine knowledge set\")\n",
    "print(\"There are\",compare_moreknow.isna().sum().sum(),\"questions with NAN in the comparison with machine knowledge set\")"
   ]
  },
  {
   "cell_type": "code",
   "execution_count": 41,
   "metadata": {},
   "outputs": [],
   "source": [
    "#Some participants skipped questions for easier evaluation the mean of the other participants for this question is added\n",
    "natural_noknow=natural_noknow.apply(lambda x: x.fillna(int(x.mean())),axis=0)\n",
    "compare_noknow=compare_noknow.apply(lambda x: x.fillna(int(x.mean())),axis=0)\n",
    "natural_moreknow=natural_moreknow.apply(lambda x: x.fillna(int(x.mean())),axis=0)\n",
    "compare_moreknow=compare_moreknow.apply(lambda x: x.fillna(int(x.mean())),axis=0)"
   ]
  },
  {
   "cell_type": "code",
   "execution_count": 42,
   "metadata": {},
   "outputs": [],
   "source": [
    "t,_,_,_,allnoknow_nat=split_models(natural_noknow)\n",
    "_,_,_,_,allnoknow_com=split_models(compare_noknow)\n",
    "\n",
    "s,_,_,_,allmoreknow_nat=split_models(natural_moreknow)\n",
    "_,_,_,_,allmoreknow_com=split_models(compare_moreknow)\n",
    "\n",
    "alllist=[allnoknow_nat,allnoknow_com,allmoreknow_nat,allmoreknow_com]"
   ]
  },
  {
   "cell_type": "code",
   "execution_count": 43,
   "metadata": {},
   "outputs": [
    {
     "name": "stdout",
     "output_type": "stream",
     "text": [
      "    1    2   3   4   5   6   7   8   9   10\n",
      "2    3  5.0   3   3   5   4   3   4   2   4\n",
      "5    5  5.0   5   3   3   4   4   4   3   5\n",
      "8    1  2.0   4   2   2   1   1   2   1   1\n",
      "11   2  5.0   5   1   7   4   6   4   6   4\n",
      "12   3  4.0   4   3   4   3   3   4   3   3\n",
      "13   4  5.0   2   4   2   2   2   5   1   2\n",
      "18   7  7.0   7   7   7   7   2   7   7   7\n",
      "19   6  3.0   5   5   6   3   4   3   2   3\n",
      "21   4  6.0   3   7   4   1   4   6   5   4\n",
      "    1    2   3   4   5   6   7   8   9   10\n",
      "0    6  5.0   2   3   4   2   3   3   3   4\n",
      "4    5  6.0   5   4   6   5   2   5   5   6\n",
      "9    6  3.0   3   2   6   6   2   6   2   3\n",
      "10   5  1.0   5   5   3   4   2   5   5   2\n",
      "14   2  3.0   2   3   2   3   2   3   5   5\n",
      "20   2  2.0   3   3   2   5   5   4   5   3\n",
      "22   3  3.0   3   4   2   4   2   2   3   4\n",
      "23   5  4.0   5   3   6   5   2   2   4   5\n"
     ]
    }
   ],
   "source": [
    "#print(allnoknow_nat)\n",
    "print(t)\n",
    "print(s)"
   ]
  },
  {
   "cell_type": "code",
   "execution_count": 44,
   "metadata": {},
   "outputs": [
    {
     "name": "stdout",
     "output_type": "stream",
     "text": [
      "new list\n",
      "new frame\n",
      "(3.89, 1.76)\n",
      "new frame\n",
      "(3.54, 1.47)\n",
      "new frame\n",
      "(5.03, 1.53)\n",
      "new frame\n",
      "(2.88, 1.59)\n",
      "new list\n",
      "new frame\n",
      "(3.71, 1.74)\n",
      "new frame\n",
      "(3.7, 1.52)\n",
      "new frame\n",
      "(5.2, 1.58)\n",
      "new frame\n",
      "(3.01, 1.6)\n",
      "new list\n",
      "new frame\n",
      "(3.69, 1.41)\n",
      "new frame\n",
      "(4.03, 1.41)\n",
      "new frame\n",
      "(5.53, 1.36)\n",
      "new frame\n",
      "(2.84, 1.5)\n",
      "new list\n",
      "new frame\n",
      "(4.17, 1.64)\n",
      "new frame\n",
      "(4.41, 1.52)\n",
      "new frame\n",
      "(5.51, 1.75)\n",
      "new frame\n",
      "(3.19, 1.89)\n"
     ]
    }
   ],
   "source": [
    "\n",
    "for lists in alllist:\n",
    "    print(\"new list\")\n",
    "    for frame in lists:\n",
    "        print(\"new frame\")\n",
    "        print(mean_and_std(frame))"
   ]
  },
  {
   "cell_type": "code",
   "execution_count": 45,
   "metadata": {},
   "outputs": [
    {
     "name": "stdout",
     "output_type": "stream",
     "text": [
      "(3.71, 1.74)\n",
      "(3.7, 1.52)\n",
      "(5.2, 1.58)\n",
      "(3.01, 1.6)\n"
     ]
    }
   ],
   "source": [
    "for frame in allnoknow_com:\n",
    "    print(mean_and_std(frame))"
   ]
  },
  {
   "cell_type": "code",
   "execution_count": 46,
   "metadata": {},
   "outputs": [
    {
     "name": "stdout",
     "output_type": "stream",
     "text": [
      "(4.17, 1.64)\n",
      "(4.41, 1.52)\n",
      "(5.51, 1.75)\n",
      "(3.19, 1.89)\n"
     ]
    }
   ],
   "source": [
    "for frame in allmoreknow_com:\n",
    "    print(mean_and_std(frame))"
   ]
  },
  {
   "cell_type": "code",
   "execution_count": 47,
   "metadata": {},
   "outputs": [
    {
     "name": "stdout",
     "output_type": "stream",
     "text": [
      "(0.8153589682677646, 0.4160212972508185)\n",
      "(-2.1658939187904447, 0.03172904374661525)\n",
      "(-2.201632305546412, 0.029054046506510004)\n",
      "(0.1693385202613752, 0.8657341044401139)\n"
     ]
    }
   ],
   "source": [
    " for a,b in zip(allnoknow_nat,allmoreknow_nat):\n",
    "        print(t_test(a.stack(),b.stack()))"
   ]
  },
  {
   "cell_type": "code",
   "execution_count": 48,
   "metadata": {},
   "outputs": [
    {
     "name": "stdout",
     "output_type": "stream",
     "text": [
      "(-1.7785671681391513, 0.07711926893556227)\n",
      "(-3.0500333791154803, 0.002659498376250776)\n",
      "(-1.2232245519927765, 0.22295791077108487)\n",
      "(-0.6580854064379996, 0.5113840158381089)\n"
     ]
    }
   ],
   "source": [
    " for a,b in zip(allnoknow_com,allmoreknow_com):\n",
    "        print(t_test(a.stack(),b.stack()))"
   ]
  },
  {
   "cell_type": "code",
   "execution_count": null,
   "metadata": {},
   "outputs": [],
   "source": []
  }
 ],
 "metadata": {
  "kernelspec": {
   "display_name": "Python 3",
   "language": "python",
   "name": "python3"
  },
  "language_info": {
   "codemirror_mode": {
    "name": "ipython",
    "version": 3
   },
   "file_extension": ".py",
   "mimetype": "text/x-python",
   "name": "python",
   "nbconvert_exporter": "python",
   "pygments_lexer": "ipython3",
   "version": "3.8.3"
  }
 },
 "nbformat": 4,
 "nbformat_minor": 4
}
