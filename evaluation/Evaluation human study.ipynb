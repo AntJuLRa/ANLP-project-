{
 "cells": [
  {
   "cell_type": "markdown",
   "metadata": {},
   "source": [
    "Some metrics to evaluate the human study. \n",
    "\n",
    "The basic structure of the study:\n",
    "Split into two parts. In each part 4 conditions are tested: \n",
    "    \n",
    "    Questions 0-10 Two Layer Neural Network\n",
    "    Questions 11-20 Markov Chain Model\n",
    "    Questions 21-30 Real Song Text\n",
    "    Questions 31-40 Random Text\n",
    "    \n",
    "The first tests for the naturalness of the sentence. \n",
    "The second part compares the "
   ]
  },
  {
   "cell_type": "markdown",
   "metadata": {},
   "source": [
    "What do we want to know?  \n",
    "Is there a correlation between a natural sentence and a human sentence?  \n",
    "\n",
    "The Spearman Correlation results suggest a statistically significant correlation between a sentence that is percieved as natural and perceived as written by a human.  \n",
    "\n",
    "Are our sentences significantly different from real or random text? t-test shows a significant difference between all conditions expect tl and mc \n",
    "\n",
    "\n",
    "Is there correlation to the demographic?  \n",
    "\n",
    "\n",
    "Something about classification?  "
   ]
  },
  {
   "cell_type": "code",
   "execution_count": 1,
   "metadata": {},
   "outputs": [],
   "source": [
    "#Data cleaning"
   ]
  },
  {
   "cell_type": "code",
   "execution_count": 2,
   "metadata": {},
   "outputs": [],
   "source": [
    "import pandas as pd"
   ]
  },
  {
   "cell_type": "code",
   "execution_count": 3,
   "metadata": {},
   "outputs": [],
   "source": [
    "data=pd.read_csv(\"study_prel.csv\",sep=';')"
   ]
  },
  {
   "cell_type": "code",
   "execution_count": 4,
   "metadata": {},
   "outputs": [],
   "source": [
    "#filter for only completed studies\n",
    "compl=data[data['Teilnahmestatus']==\"teilgenommen und beendet\"]\n",
    "\n",
    "#drop all columns with text only\n",
    "compl=compl.dropna(axis=1, how='all')"
   ]
  },
  {
   "cell_type": "code",
   "execution_count": 5,
   "metadata": {},
   "outputs": [],
   "source": [
    "#drop all the meta data\n",
    "compl=compl.drop(['_Antwort-ID', 'Resume-Code',\"Start\",\"Datum und Zeit\",\"Teilnahmestatus\"], axis=1)\n",
    "\n",
    "#drop all questions about the participants\n",
    "onlyanswers=compl.drop(['1. How old are you?',\"Beginner (1) - Native Language (7)\",\"I dont listen to rap at all (1) - I hear a lot of rap music (7)\",\"No prior experience with machine generated text (1) - Frequent interaction with machine generated text (7)\"],axis=1)"
   ]
  },
  {
   "cell_type": "code",
   "execution_count": 6,
   "metadata": {},
   "outputs": [],
   "source": [
    "#The scale changed for the second half of the study (mainly to avoid bias) to make sure participants noticed \n",
    "#there was an extra testquestion. Four participants didnt answer the test question right and were excluded. \n",
    "\n",
    "onlyanswers=onlyanswers[onlyanswers['7']!=1.0]\n"
   ]
  },
  {
   "cell_type": "code",
   "execution_count": null,
   "metadata": {},
   "outputs": [],
   "source": []
  },
  {
   "cell_type": "code",
   "execution_count": 7,
   "metadata": {},
   "outputs": [
    {
     "name": "stdout",
     "output_type": "stream",
     "text": [
      "RealNat\n",
      "    RealNat  RandomNat  RealComp  RandomComp\n",
      "32      2.0        3.0       2.0         6.0\n",
      "RandomNat\n",
      "    RealNat  RandomNat  RealComp  RandomComp\n",
      "41      5.0        7.0       5.0         3.0\n",
      "RealComp\n",
      "    RealNat  RandomNat  RealComp  RandomComp\n",
      "20      3.0        1.0       6.0         7.0\n",
      "RandomComp\n",
      "   RealNat  RandomNat  RealComp  RandomComp\n",
      "6      4.0        2.0       3.0         2.0\n"
     ]
    }
   ],
   "source": [
    "#At the beginning of each part were test questions that should help familarise the participants with the setup and \n",
    "#make sure that they understood the task.\n",
    "#Answers below a certain value would indicate that the participant had difficulties with the task.\n",
    "#Some participants answered one of the four test question incorrectly but looking at their data \n",
    "#there is no indication that they had problems with the task overall.\n",
    "#For this reason they were kept in the evaluation. \n",
    "\n",
    "#Extract the test questions\n",
    "testquestion = onlyanswers[[\"Completely Unatural (1) - Completely Natural (7)\", \"Completely Unatural (1) - Completely Natural (7).1\",\"Written by a human (1) - Written by a machine (7)\",\"Written by a human (1) - Written by a machine (7).1\"]].copy()\n",
    "\n",
    "\n",
    "testquestion=testquestion.rename(columns={\"Completely Unatural (1) - Completely Natural (7)\": \"RealNat\", \"Completely Unatural (1) - Completely Natural (7).1\": \"RandomNat\",\"Written by a human (1) - Written by a machine (7)\":\"RealComp\",\"Written by a human (1) - Written by a machine (7).1\":\"RandomComp\"})\n",
    "print(\"RealNat\")\n",
    "print(testquestion[testquestion.RealNat <3.0])\n",
    "print(\"RandomNat\")\n",
    "print(testquestion[testquestion.RandomNat>5.0])\n",
    "print(\"RealComp\")\n",
    "print(testquestion[testquestion.RealComp >5.0])\n",
    "print(\"RandomComp\")\n",
    "print(testquestion[testquestion.RandomComp<3.0])\n"
   ]
  },
  {
   "cell_type": "code",
   "execution_count": null,
   "metadata": {},
   "outputs": [],
   "source": []
  },
  {
   "cell_type": "code",
   "execution_count": 8,
   "metadata": {},
   "outputs": [],
   "source": [
    "#Getting different dataframes"
   ]
  },
  {
   "cell_type": "code",
   "execution_count": 9,
   "metadata": {},
   "outputs": [],
   "source": [
    "def frame_natural(inputframe):\n",
    "    #Naturalness:\n",
    "\n",
    "    #get all column names that belong to the natural part\n",
    "    nat_col = [col for col in inputframe.columns if 'Natural' in col]\n",
    "\n",
    "    #make a new dataframe\n",
    "    natural= inputframe[nat_col].copy()\n",
    "\n",
    "    #the order of the naturalness questions\n",
    "    natorder=[30,23,7,9,25,26,12,19,8,20,3,33,28,14,36,24,37,5,11,39,35,10,2,32,38,6,13,17,40,15,34,4,29,16,18,31,21,22,1,27]\n",
    "\n",
    "    #rename columns\n",
    "    natural.columns = natural.columns[:2].tolist() + natorder\n",
    "\n",
    "    #drop the first to columns they contain the test data\n",
    "    natural=natural.drop([\"Completely Unatural (1) - Completely Natural (7)\",\"Completely Unatural (1) - Completely Natural (7).1\"],axis=1)\n",
    "\n",
    "    #sort the questions in their original order\n",
    "    natural = natural.reindex(sorted(natural.columns), axis=1)\n",
    "    return natural"
   ]
  },
  {
   "cell_type": "code",
   "execution_count": 10,
   "metadata": {},
   "outputs": [],
   "source": [
    "natural=frame_natural(onlyanswers)"
   ]
  },
  {
   "cell_type": "code",
   "execution_count": 11,
   "metadata": {},
   "outputs": [
    {
     "data": {
      "text/html": [
       "<div>\n",
       "<style scoped>\n",
       "    .dataframe tbody tr th:only-of-type {\n",
       "        vertical-align: middle;\n",
       "    }\n",
       "\n",
       "    .dataframe tbody tr th {\n",
       "        vertical-align: top;\n",
       "    }\n",
       "\n",
       "    .dataframe thead th {\n",
       "        text-align: right;\n",
       "    }\n",
       "</style>\n",
       "<table border=\"1\" class=\"dataframe\">\n",
       "  <thead>\n",
       "    <tr style=\"text-align: right;\">\n",
       "      <th></th>\n",
       "      <th>1</th>\n",
       "      <th>2</th>\n",
       "      <th>3</th>\n",
       "      <th>4</th>\n",
       "      <th>5</th>\n",
       "      <th>6</th>\n",
       "      <th>7</th>\n",
       "      <th>8</th>\n",
       "      <th>9</th>\n",
       "      <th>10</th>\n",
       "      <th>...</th>\n",
       "      <th>31</th>\n",
       "      <th>32</th>\n",
       "      <th>33</th>\n",
       "      <th>34</th>\n",
       "      <th>35</th>\n",
       "      <th>36</th>\n",
       "      <th>37</th>\n",
       "      <th>38</th>\n",
       "      <th>39</th>\n",
       "      <th>40</th>\n",
       "    </tr>\n",
       "  </thead>\n",
       "  <tbody>\n",
       "    <tr>\n",
       "      <th>2</th>\n",
       "      <td>6.0</td>\n",
       "      <td>5.0</td>\n",
       "      <td>2.0</td>\n",
       "      <td>3.0</td>\n",
       "      <td>4.0</td>\n",
       "      <td>2.0</td>\n",
       "      <td>3.0</td>\n",
       "      <td>3.0</td>\n",
       "      <td>3.0</td>\n",
       "      <td>4.0</td>\n",
       "      <td>...</td>\n",
       "      <td>1.0</td>\n",
       "      <td>2.0</td>\n",
       "      <td>1.0</td>\n",
       "      <td>1.0</td>\n",
       "      <td>1.0</td>\n",
       "      <td>2.0</td>\n",
       "      <td>2.0</td>\n",
       "      <td>2.0</td>\n",
       "      <td>2.0</td>\n",
       "      <td>1.0</td>\n",
       "    </tr>\n",
       "    <tr>\n",
       "      <th>4</th>\n",
       "      <td>7.0</td>\n",
       "      <td>3.0</td>\n",
       "      <td>5.0</td>\n",
       "      <td>6.0</td>\n",
       "      <td>5.0</td>\n",
       "      <td>4.0</td>\n",
       "      <td>2.0</td>\n",
       "      <td>4.0</td>\n",
       "      <td>5.0</td>\n",
       "      <td>3.0</td>\n",
       "      <td>...</td>\n",
       "      <td>1.0</td>\n",
       "      <td>2.0</td>\n",
       "      <td>2.0</td>\n",
       "      <td>1.0</td>\n",
       "      <td>1.0</td>\n",
       "      <td>2.0</td>\n",
       "      <td>1.0</td>\n",
       "      <td>1.0</td>\n",
       "      <td>2.0</td>\n",
       "      <td>1.0</td>\n",
       "    </tr>\n",
       "    <tr>\n",
       "      <th>6</th>\n",
       "      <td>3.0</td>\n",
       "      <td>5.0</td>\n",
       "      <td>3.0</td>\n",
       "      <td>3.0</td>\n",
       "      <td>5.0</td>\n",
       "      <td>4.0</td>\n",
       "      <td>3.0</td>\n",
       "      <td>4.0</td>\n",
       "      <td>2.0</td>\n",
       "      <td>4.0</td>\n",
       "      <td>...</td>\n",
       "      <td>3.0</td>\n",
       "      <td>4.0</td>\n",
       "      <td>3.0</td>\n",
       "      <td>4.0</td>\n",
       "      <td>3.0</td>\n",
       "      <td>4.0</td>\n",
       "      <td>3.0</td>\n",
       "      <td>3.0</td>\n",
       "      <td>4.0</td>\n",
       "      <td>3.0</td>\n",
       "    </tr>\n",
       "    <tr>\n",
       "      <th>13</th>\n",
       "      <td>5.0</td>\n",
       "      <td>6.0</td>\n",
       "      <td>5.0</td>\n",
       "      <td>4.0</td>\n",
       "      <td>6.0</td>\n",
       "      <td>5.0</td>\n",
       "      <td>2.0</td>\n",
       "      <td>5.0</td>\n",
       "      <td>5.0</td>\n",
       "      <td>6.0</td>\n",
       "      <td>...</td>\n",
       "      <td>6.0</td>\n",
       "      <td>2.0</td>\n",
       "      <td>2.0</td>\n",
       "      <td>2.0</td>\n",
       "      <td>2.0</td>\n",
       "      <td>5.0</td>\n",
       "      <td>2.0</td>\n",
       "      <td>2.0</td>\n",
       "      <td>5.0</td>\n",
       "      <td>2.0</td>\n",
       "    </tr>\n",
       "    <tr>\n",
       "      <th>15</th>\n",
       "      <td>5.0</td>\n",
       "      <td>5.0</td>\n",
       "      <td>5.0</td>\n",
       "      <td>3.0</td>\n",
       "      <td>3.0</td>\n",
       "      <td>4.0</td>\n",
       "      <td>4.0</td>\n",
       "      <td>4.0</td>\n",
       "      <td>3.0</td>\n",
       "      <td>5.0</td>\n",
       "      <td>...</td>\n",
       "      <td>4.0</td>\n",
       "      <td>4.0</td>\n",
       "      <td>5.0</td>\n",
       "      <td>5.0</td>\n",
       "      <td>4.0</td>\n",
       "      <td>4.0</td>\n",
       "      <td>3.0</td>\n",
       "      <td>4.0</td>\n",
       "      <td>4.0</td>\n",
       "      <td>5.0</td>\n",
       "    </tr>\n",
       "  </tbody>\n",
       "</table>\n",
       "<p>5 rows × 40 columns</p>\n",
       "</div>"
      ],
      "text/plain": [
       "     1    2    3    4    5    6    7    8    9    10  ...   31   32   33   34  \\\n",
       "2   6.0  5.0  2.0  3.0  4.0  2.0  3.0  3.0  3.0  4.0  ...  1.0  2.0  1.0  1.0   \n",
       "4   7.0  3.0  5.0  6.0  5.0  4.0  2.0  4.0  5.0  3.0  ...  1.0  2.0  2.0  1.0   \n",
       "6   3.0  5.0  3.0  3.0  5.0  4.0  3.0  4.0  2.0  4.0  ...  3.0  4.0  3.0  4.0   \n",
       "13  5.0  6.0  5.0  4.0  6.0  5.0  2.0  5.0  5.0  6.0  ...  6.0  2.0  2.0  2.0   \n",
       "15  5.0  5.0  5.0  3.0  3.0  4.0  4.0  4.0  3.0  5.0  ...  4.0  4.0  5.0  5.0   \n",
       "\n",
       "     35   36   37   38   39   40  \n",
       "2   1.0  2.0  2.0  2.0  2.0  1.0  \n",
       "4   1.0  2.0  1.0  1.0  2.0  1.0  \n",
       "6   3.0  4.0  3.0  3.0  4.0  3.0  \n",
       "13  2.0  5.0  2.0  2.0  5.0  2.0  \n",
       "15  4.0  4.0  3.0  4.0  4.0  5.0  \n",
       "\n",
       "[5 rows x 40 columns]"
      ]
     },
     "execution_count": 11,
     "metadata": {},
     "output_type": "execute_result"
    }
   ],
   "source": [
    "natural.head()"
   ]
  },
  {
   "cell_type": "code",
   "execution_count": 12,
   "metadata": {},
   "outputs": [],
   "source": [
    "def frame_comparison(inputframe):\n",
    "    #Comparison:\n",
    "\n",
    "    #get all column names that belong to the natural part\n",
    "    comp_col = [col for col in inputframe.columns if 'human' in col]\n",
    "\n",
    "    #make a new dataframe\n",
    "    compare= inputframe[comp_col].copy()\n",
    "\n",
    "    #the order of the naturalness questions\n",
    "    comporder=[9,18,39,28,27,7,31,10,32,20,8,40,33,1,11,25,2,38,34,24,19,26,30,35,29,36,22,23,3,21,17,13,12,6,15,14,4,16,5,37]\n",
    "\n",
    "    #rename columns\n",
    "    compare.columns = compare.columns[:2].tolist() + comporder\n",
    "\n",
    "    #drop the first to columns they contain the test data\n",
    "    compare=compare.drop([\"Written by a human (1) - Written by a machine (7)\",\"Written by a human (1) - Written by a machine (7).1\"],axis=1)\n",
    "\n",
    "    #sort the questions in their original order\n",
    "    compare = compare.reindex(sorted(compare.columns), axis=1)\n",
    "    \n",
    "    #In the second part of the study the scale flipped to avoid bias. But to compare the to parts here values we changed back. \n",
    "    #So 7 means written by a human, 1 written by a machine. \n",
    "    compare=compare.replace([1.0, 2.0, 3.0, 4.0,5.0,6.0,7.0], [7.0, 6.0, 5.0, 4.0,3.0,2.0,1.0])\n",
    "    \n",
    "    return compare"
   ]
  },
  {
   "cell_type": "code",
   "execution_count": 13,
   "metadata": {},
   "outputs": [],
   "source": [
    "compare=frame_comparison(onlyanswers)"
   ]
  },
  {
   "cell_type": "code",
   "execution_count": 14,
   "metadata": {},
   "outputs": [
    {
     "name": "stdout",
     "output_type": "stream",
     "text": [
      "     1    2    3    4    5    6    7    8    9    10  ...   31   32   33   34  \\\n",
      "2   6.0  3.0  3.0  3.0  6.0  3.0  2.0  2.0  4.0  3.0  ...  1.0  3.0  1.0  1.0   \n",
      "4   6.0  2.0  3.0  4.0  5.0  3.0  2.0  5.0  2.0  3.0  ...  2.0  1.0  1.0  1.0   \n",
      "6   5.0  3.0  5.0  6.0  5.0  6.0  5.0  6.0  6.0  4.0  ...  6.0  6.0  5.0  5.0   \n",
      "13  6.0  6.0  6.0  5.0  2.0  6.0  6.0  6.0  5.0  6.0  ...  6.0  6.0  5.0  2.0   \n",
      "15  4.0  4.0  5.0  4.0  5.0  3.0  4.0  3.0  5.0  NaN  ...  5.0  5.0  4.0  5.0   \n",
      "16  2.0  6.0  5.0  3.0  3.0  3.0  4.0  4.0  6.0  3.0  ...  1.0  3.0  3.0  4.0   \n",
      "17  2.0  2.0  2.0  4.0  1.0  2.0  2.0  2.0  1.0  1.0  ...  1.0  2.0  1.0  1.0   \n",
      "20  1.0  1.0  2.0  3.0  2.0  3.0  1.0  3.0  1.0  1.0  ...  1.0  1.0  1.0  3.0   \n",
      "22  2.0  6.0  6.0  2.0  5.0  3.0  2.0  2.0  2.0  6.0  ...  6.0  6.0  6.0  6.0   \n",
      "25  5.0  2.0  5.0  6.0  3.0  3.0  2.0  5.0  4.0  2.0  ...  1.0  1.0  1.0  1.0   \n",
      "27  3.0  4.0  3.0  4.0  4.0  4.0  3.0  4.0  3.0  3.0  ...  3.0  3.0  3.0  3.0   \n",
      "30  3.0  3.0  3.0  3.0  2.0  5.0  1.0  6.0  2.0  2.0  ...  2.0  3.0  2.0  1.0   \n",
      "31  6.0  4.0  6.0  5.0  6.0  5.0  5.0  5.0  7.0  3.0  ...  2.0  3.0  4.0  3.0   \n",
      "32  7.0  2.0  3.0  6.0  3.0  3.0  2.0  7.0  3.0  1.0  ...  2.0  2.0  2.0  1.0   \n",
      "38  7.0  4.0  3.0  7.0  7.0  7.0  1.0  7.0  7.0  4.0  ...  3.0  3.0  1.0  1.0   \n",
      "40  6.0  2.0  3.0  2.0  2.0  3.0  2.0  3.0  1.0  2.0  ...  1.0  2.0  1.0  1.0   \n",
      "41  3.0  5.0  5.0  5.0  5.0  5.0  2.0  2.0  5.0  2.0  ...  5.0  5.0  5.0  5.0   \n",
      "42  6.0  6.0  6.0  7.0  3.0  2.0  3.0  5.0  2.0  2.0  ...  1.0  1.0  1.0  1.0   \n",
      "\n",
      "     35   36   37   38   39   40  \n",
      "2   2.0  2.0  3.0  2.0  2.0  2.0  \n",
      "4   1.0  1.0  1.0  1.0  1.0  2.0  \n",
      "6   5.0  5.0  6.0  5.0  6.0  5.0  \n",
      "13  2.0  6.0  5.0  2.0  3.0  5.0  \n",
      "15  NaN  4.0  5.0  5.0  3.0  3.0  \n",
      "16  5.0  3.0  2.0  3.0  3.0  3.0  \n",
      "17  2.0  2.0  1.0  1.0  2.0  1.0  \n",
      "20  3.0  1.0  2.0  2.0  1.0  1.0  \n",
      "22  6.0  6.0  6.0  6.0  6.0  6.0  \n",
      "25  1.0  2.0  2.0  1.0  1.0  2.0  \n",
      "27  3.0  3.0  2.0  3.0  4.0  3.0  \n",
      "30  4.0  5.0  5.0  2.0  2.0  3.0  \n",
      "31  2.0  6.0  3.0  3.0  1.0  3.0  \n",
      "32  1.0  1.0  2.0  2.0  2.0  2.0  \n",
      "38  2.0  1.0  3.0  1.0  1.0  3.0  \n",
      "40  4.0  4.0  2.0  3.0  1.0  2.0  \n",
      "41  5.0  5.0  5.0  6.0  5.0  5.0  \n",
      "42  1.0  5.0  1.0  2.0  6.0  2.0  \n",
      "\n",
      "[18 rows x 40 columns]\n"
     ]
    }
   ],
   "source": [
    "\n",
    "print(compare)"
   ]
  },
  {
   "cell_type": "code",
   "execution_count": 15,
   "metadata": {},
   "outputs": [
    {
     "data": {
      "text/html": [
       "<div>\n",
       "<style scoped>\n",
       "    .dataframe tbody tr th:only-of-type {\n",
       "        vertical-align: middle;\n",
       "    }\n",
       "\n",
       "    .dataframe tbody tr th {\n",
       "        vertical-align: top;\n",
       "    }\n",
       "\n",
       "    .dataframe thead th {\n",
       "        text-align: right;\n",
       "    }\n",
       "</style>\n",
       "<table border=\"1\" class=\"dataframe\">\n",
       "  <thead>\n",
       "    <tr style=\"text-align: right;\">\n",
       "      <th></th>\n",
       "      <th>1</th>\n",
       "      <th>2</th>\n",
       "      <th>3</th>\n",
       "      <th>4</th>\n",
       "      <th>5</th>\n",
       "      <th>6</th>\n",
       "      <th>7</th>\n",
       "      <th>8</th>\n",
       "      <th>9</th>\n",
       "      <th>10</th>\n",
       "      <th>...</th>\n",
       "      <th>31</th>\n",
       "      <th>32</th>\n",
       "      <th>33</th>\n",
       "      <th>34</th>\n",
       "      <th>35</th>\n",
       "      <th>36</th>\n",
       "      <th>37</th>\n",
       "      <th>38</th>\n",
       "      <th>39</th>\n",
       "      <th>40</th>\n",
       "    </tr>\n",
       "  </thead>\n",
       "  <tbody>\n",
       "    <tr>\n",
       "      <th>2</th>\n",
       "      <td>6.0</td>\n",
       "      <td>3.0</td>\n",
       "      <td>3.0</td>\n",
       "      <td>3.0</td>\n",
       "      <td>6.0</td>\n",
       "      <td>3.0</td>\n",
       "      <td>2.0</td>\n",
       "      <td>2.0</td>\n",
       "      <td>4.0</td>\n",
       "      <td>3.0</td>\n",
       "      <td>...</td>\n",
       "      <td>1.0</td>\n",
       "      <td>3.0</td>\n",
       "      <td>1.0</td>\n",
       "      <td>1.0</td>\n",
       "      <td>2.0</td>\n",
       "      <td>2.0</td>\n",
       "      <td>3.0</td>\n",
       "      <td>2.0</td>\n",
       "      <td>2.0</td>\n",
       "      <td>2.0</td>\n",
       "    </tr>\n",
       "    <tr>\n",
       "      <th>4</th>\n",
       "      <td>6.0</td>\n",
       "      <td>2.0</td>\n",
       "      <td>3.0</td>\n",
       "      <td>4.0</td>\n",
       "      <td>5.0</td>\n",
       "      <td>3.0</td>\n",
       "      <td>2.0</td>\n",
       "      <td>5.0</td>\n",
       "      <td>2.0</td>\n",
       "      <td>3.0</td>\n",
       "      <td>...</td>\n",
       "      <td>2.0</td>\n",
       "      <td>1.0</td>\n",
       "      <td>1.0</td>\n",
       "      <td>1.0</td>\n",
       "      <td>1.0</td>\n",
       "      <td>1.0</td>\n",
       "      <td>1.0</td>\n",
       "      <td>1.0</td>\n",
       "      <td>1.0</td>\n",
       "      <td>2.0</td>\n",
       "    </tr>\n",
       "    <tr>\n",
       "      <th>6</th>\n",
       "      <td>5.0</td>\n",
       "      <td>3.0</td>\n",
       "      <td>5.0</td>\n",
       "      <td>6.0</td>\n",
       "      <td>5.0</td>\n",
       "      <td>6.0</td>\n",
       "      <td>5.0</td>\n",
       "      <td>6.0</td>\n",
       "      <td>6.0</td>\n",
       "      <td>4.0</td>\n",
       "      <td>...</td>\n",
       "      <td>6.0</td>\n",
       "      <td>6.0</td>\n",
       "      <td>5.0</td>\n",
       "      <td>5.0</td>\n",
       "      <td>5.0</td>\n",
       "      <td>5.0</td>\n",
       "      <td>6.0</td>\n",
       "      <td>5.0</td>\n",
       "      <td>6.0</td>\n",
       "      <td>5.0</td>\n",
       "    </tr>\n",
       "    <tr>\n",
       "      <th>13</th>\n",
       "      <td>6.0</td>\n",
       "      <td>6.0</td>\n",
       "      <td>6.0</td>\n",
       "      <td>5.0</td>\n",
       "      <td>2.0</td>\n",
       "      <td>6.0</td>\n",
       "      <td>6.0</td>\n",
       "      <td>6.0</td>\n",
       "      <td>5.0</td>\n",
       "      <td>6.0</td>\n",
       "      <td>...</td>\n",
       "      <td>6.0</td>\n",
       "      <td>6.0</td>\n",
       "      <td>5.0</td>\n",
       "      <td>2.0</td>\n",
       "      <td>2.0</td>\n",
       "      <td>6.0</td>\n",
       "      <td>5.0</td>\n",
       "      <td>2.0</td>\n",
       "      <td>3.0</td>\n",
       "      <td>5.0</td>\n",
       "    </tr>\n",
       "    <tr>\n",
       "      <th>15</th>\n",
       "      <td>4.0</td>\n",
       "      <td>4.0</td>\n",
       "      <td>5.0</td>\n",
       "      <td>4.0</td>\n",
       "      <td>5.0</td>\n",
       "      <td>3.0</td>\n",
       "      <td>4.0</td>\n",
       "      <td>3.0</td>\n",
       "      <td>5.0</td>\n",
       "      <td>NaN</td>\n",
       "      <td>...</td>\n",
       "      <td>5.0</td>\n",
       "      <td>5.0</td>\n",
       "      <td>4.0</td>\n",
       "      <td>5.0</td>\n",
       "      <td>NaN</td>\n",
       "      <td>4.0</td>\n",
       "      <td>5.0</td>\n",
       "      <td>5.0</td>\n",
       "      <td>3.0</td>\n",
       "      <td>3.0</td>\n",
       "    </tr>\n",
       "  </tbody>\n",
       "</table>\n",
       "<p>5 rows × 40 columns</p>\n",
       "</div>"
      ],
      "text/plain": [
       "     1    2    3    4    5    6    7    8    9    10  ...   31   32   33   34  \\\n",
       "2   6.0  3.0  3.0  3.0  6.0  3.0  2.0  2.0  4.0  3.0  ...  1.0  3.0  1.0  1.0   \n",
       "4   6.0  2.0  3.0  4.0  5.0  3.0  2.0  5.0  2.0  3.0  ...  2.0  1.0  1.0  1.0   \n",
       "6   5.0  3.0  5.0  6.0  5.0  6.0  5.0  6.0  6.0  4.0  ...  6.0  6.0  5.0  5.0   \n",
       "13  6.0  6.0  6.0  5.0  2.0  6.0  6.0  6.0  5.0  6.0  ...  6.0  6.0  5.0  2.0   \n",
       "15  4.0  4.0  5.0  4.0  5.0  3.0  4.0  3.0  5.0  NaN  ...  5.0  5.0  4.0  5.0   \n",
       "\n",
       "     35   36   37   38   39   40  \n",
       "2   2.0  2.0  3.0  2.0  2.0  2.0  \n",
       "4   1.0  1.0  1.0  1.0  1.0  2.0  \n",
       "6   5.0  5.0  6.0  5.0  6.0  5.0  \n",
       "13  2.0  6.0  5.0  2.0  3.0  5.0  \n",
       "15  NaN  4.0  5.0  5.0  3.0  3.0  \n",
       "\n",
       "[5 rows x 40 columns]"
      ]
     },
     "execution_count": 15,
     "metadata": {},
     "output_type": "execute_result"
    }
   ],
   "source": [
    "compare.head()"
   ]
  },
  {
   "cell_type": "code",
   "execution_count": 16,
   "metadata": {},
   "outputs": [
    {
     "name": "stdout",
     "output_type": "stream",
     "text": [
      "There are 4 questions with NAN in the natural set\n",
      "There are 6 questions with NAN in the comparison set\n"
     ]
    }
   ],
   "source": [
    "\n",
    "print(\"There are\",natural.isna().sum().sum(),\"questions with NAN in the natural set\")\n",
    "print(\"There are\",compare.isna().sum().sum(),\"questions with NAN in the comparison set\")"
   ]
  },
  {
   "cell_type": "code",
   "execution_count": 17,
   "metadata": {},
   "outputs": [],
   "source": [
    "#Some participants skipped questions for easier evaluation the mean of the other participants for this question is added\n",
    "natural=natural.apply(lambda x: x.fillna(int(x.mean())),axis=0)\n",
    "compare=compare.apply(lambda x: x.fillna(int(x.mean())),axis=0)"
   ]
  },
  {
   "cell_type": "code",
   "execution_count": 18,
   "metadata": {},
   "outputs": [],
   "source": [
    "def split_models(inputframe):\n",
    "    \n",
    "    tl=inputframe.iloc[:, : 10]\n",
    "    mc=inputframe.iloc[:, 10 :20]\n",
    "    real=inputframe.iloc[:, 20:30]\n",
    "    rand=inputframe.iloc[:, 30:40]\n",
    "    allframe=[tl,mc,real,rand]\n",
    "    return tl,mc,real,rand,allframe"
   ]
  },
  {
   "cell_type": "code",
   "execution_count": 19,
   "metadata": {},
   "outputs": [],
   "source": [
    "tlnat,mcnat,realnat,randnat,allnat=split_models(natural)\n",
    "tlcom,mccom,realcom,randcom,allcom=split_models(compare)\n"
   ]
  },
  {
   "cell_type": "code",
   "execution_count": 20,
   "metadata": {},
   "outputs": [
    {
     "name": "stdout",
     "output_type": "stream",
     "text": [
      "     1    2    3    4    5    6    7    8    9    10\n",
      "2   6.0  5.0  2.0  3.0  4.0  2.0  3.0  3.0  3.0  4.0\n",
      "4   7.0  3.0  5.0  6.0  5.0  4.0  2.0  4.0  5.0  3.0\n",
      "6   3.0  5.0  3.0  3.0  5.0  4.0  3.0  4.0  2.0  4.0\n",
      "13  5.0  6.0  5.0  4.0  6.0  5.0  2.0  5.0  5.0  6.0\n",
      "15  5.0  5.0  5.0  3.0  3.0  4.0  4.0  4.0  3.0  5.0\n",
      "16  5.0  3.0  2.0  3.0  3.0  1.0  3.0  3.0  6.0  4.0\n",
      "17  2.0  1.0  2.0  4.0  3.0  1.0  1.0  3.0  2.0  2.0\n",
      "20  1.0  2.0  4.0  2.0  2.0  1.0  1.0  2.0  1.0  1.0\n",
      "22  6.0  3.0  3.0  2.0  6.0  6.0  2.0  6.0  2.0  3.0\n",
      "25  5.0  1.0  5.0  5.0  3.0  4.0  2.0  5.0  5.0  2.0\n",
      "27  3.0  4.0  4.0  3.0  4.0  3.0  3.0  4.0  3.0  3.0\n",
      "30  4.0  5.0  2.0  4.0  2.0  2.0  2.0  5.0  1.0  2.0\n",
      "31  2.0  3.0  2.0  3.0  2.0  3.0  2.0  3.0  5.0  5.0\n",
      "32  5.0  3.0  3.0  4.0  3.0  3.0  1.0  2.0  2.0  2.0\n",
      "38  7.0  7.0  7.0  7.0  7.0  7.0  2.0  7.0  7.0  7.0\n",
      "40  6.0  3.0  5.0  5.0  6.0  3.0  4.0  3.0  2.0  3.0\n",
      "41  2.0  2.0  3.0  3.0  2.0  5.0  5.0  4.0  5.0  3.0\n",
      "42  4.0  6.0  3.0  7.0  4.0  1.0  4.0  6.0  5.0  4.0\n",
      "     1    2    3    4    5    6    7    8    9    10\n",
      "2   6.0  3.0  3.0  3.0  6.0  3.0  2.0  2.0  4.0  3.0\n",
      "4   6.0  2.0  3.0  4.0  5.0  3.0  2.0  5.0  2.0  3.0\n",
      "6   5.0  3.0  5.0  6.0  5.0  6.0  5.0  6.0  6.0  4.0\n",
      "13  6.0  6.0  6.0  5.0  2.0  6.0  6.0  6.0  5.0  6.0\n",
      "15  4.0  4.0  5.0  4.0  5.0  3.0  4.0  3.0  5.0  2.0\n",
      "16  2.0  6.0  5.0  3.0  3.0  3.0  4.0  4.0  6.0  3.0\n",
      "17  2.0  2.0  2.0  4.0  1.0  2.0  2.0  2.0  1.0  1.0\n",
      "20  1.0  1.0  2.0  3.0  2.0  3.0  1.0  3.0  1.0  1.0\n",
      "22  2.0  6.0  6.0  2.0  5.0  3.0  2.0  2.0  2.0  6.0\n",
      "25  5.0  2.0  5.0  6.0  3.0  3.0  2.0  5.0  4.0  2.0\n",
      "27  3.0  4.0  3.0  4.0  4.0  4.0  3.0  4.0  3.0  3.0\n",
      "30  3.0  3.0  3.0  3.0  2.0  5.0  1.0  6.0  2.0  2.0\n",
      "31  6.0  4.0  6.0  5.0  6.0  5.0  5.0  5.0  7.0  3.0\n",
      "32  7.0  2.0  3.0  6.0  3.0  3.0  2.0  7.0  3.0  1.0\n",
      "38  7.0  4.0  3.0  7.0  7.0  7.0  1.0  7.0  7.0  4.0\n",
      "40  6.0  2.0  3.0  2.0  2.0  3.0  2.0  3.0  1.0  2.0\n",
      "41  3.0  5.0  5.0  5.0  5.0  5.0  2.0  2.0  5.0  2.0\n",
      "42  6.0  6.0  6.0  7.0  3.0  2.0  3.0  5.0  2.0  2.0\n"
     ]
    }
   ],
   "source": [
    "print(tlnat)\n",
    "print(tlcom)"
   ]
  },
  {
   "cell_type": "code",
   "execution_count": 21,
   "metadata": {},
   "outputs": [],
   "source": [
    "tlall=pd.concat([tlnat, tlcom], axis=1)\n",
    "mcall=pd.concat([mcnat, mccom], axis=1)\n",
    "realall=pd.concat([realnat, realcom], axis=1)\n",
    "randall=pd.concat([randnat, randcom], axis=1)\n",
    "\n",
    "allsorted=[tlall,mcall,realall,randall]"
   ]
  },
  {
   "cell_type": "code",
   "execution_count": null,
   "metadata": {},
   "outputs": [],
   "source": []
  },
  {
   "cell_type": "code",
   "execution_count": 22,
   "metadata": {},
   "outputs": [],
   "source": [
    "#Getting mean and std"
   ]
  },
  {
   "cell_type": "code",
   "execution_count": 23,
   "metadata": {},
   "outputs": [],
   "source": [
    "def mean_and_std(dataframe):\n",
    "    mean=round((dataframe.mean().mean()),2)\n",
    "    std=round((dataframe.stack().std()),2)\n",
    "    return mean,std"
   ]
  },
  {
   "cell_type": "code",
   "execution_count": 24,
   "metadata": {},
   "outputs": [
    {
     "name": "stdout",
     "output_type": "stream",
     "text": [
      "Mean and Std for Naturalness:\n",
      "(3.64, 1.62)\n",
      "(3.55, 1.5)\n",
      "(5.22, 1.5)\n",
      "(2.51, 1.51)\n",
      "\n",
      "Mean and Std for Comparison:\n",
      "(3.77, 1.73)\n",
      "(3.84, 1.6)\n",
      "(5.41, 1.6)\n",
      "(2.88, 1.73)\n",
      "\n",
      "Mean and Std for both:\n",
      "(3.71, 1.67)\n",
      "(3.69, 1.56)\n",
      "(5.32, 1.55)\n",
      "(2.7, 1.64)\n"
     ]
    }
   ],
   "source": [
    "print(\"Mean and Std for Naturalness:\")\n",
    "for frame in allnat:\n",
    "    print(mean_and_std(frame))\n",
    "\n",
    "print()\n",
    "print(\"Mean and Std for Comparison:\")\n",
    "for frame in allcom:\n",
    "    print(mean_and_std(frame))\n",
    "    \n",
    "print()\n",
    "print(\"Mean and Std for both:\")\n",
    "for frame in allsorted:\n",
    "    print(mean_and_std(frame))"
   ]
  },
  {
   "cell_type": "code",
   "execution_count": null,
   "metadata": {},
   "outputs": [],
   "source": []
  },
  {
   "cell_type": "code",
   "execution_count": 25,
   "metadata": {},
   "outputs": [],
   "source": [
    "#Getting ANOVA"
   ]
  },
  {
   "cell_type": "code",
   "execution_count": 26,
   "metadata": {},
   "outputs": [],
   "source": [
    "index=range(1,41)\n",
    "namena=pd.Series([\"tlna\",\"mcna\",\"randna\",\"realna\"])\n",
    "namena=namena.repeat(10)\n",
    "namena.index = index\n",
    "\n",
    "meanna=natural.mean()\n",
    "\n",
    "combnat=pd.concat([namena,meanna ], axis=1,ignore_index=True)\n",
    "\n",
    "combnat.columns = ['Method', 'Metascore']"
   ]
  },
  {
   "cell_type": "code",
   "execution_count": 27,
   "metadata": {},
   "outputs": [],
   "source": [
    "index=range(1,41)\n",
    "namecom=pd.Series([\"tlcom\",\"mccom\",\"randcom\",\"realcom\"])\n",
    "namecom=namecom.repeat(10)\n",
    "namecom.index = index\n",
    "\n",
    "meancom=compare.mean()\n",
    "\n",
    "combcom=pd.concat([namecom,meancom], axis=1,ignore_index=True)\n",
    "combcom.columns=[\"Method\",\"Metascore\"]"
   ]
  },
  {
   "cell_type": "code",
   "execution_count": 28,
   "metadata": {},
   "outputs": [],
   "source": [
    "import statsmodels.api as sm\n",
    "from statsmodels.formula.api import ols"
   ]
  },
  {
   "cell_type": "code",
   "execution_count": 29,
   "metadata": {},
   "outputs": [
    {
     "name": "stdout",
     "output_type": "stream",
     "text": [
      "            df     sum_sq    mean_sq          F        PR(>F)\n",
      "Method     3.0  37.521219  12.507073  57.915161  7.471588e-14\n",
      "Residual  36.0   7.774383   0.215955        NaN           NaN\n",
      "            df     sum_sq    mean_sq          F        PR(>F)\n",
      "Method     3.0  33.160802  11.053601  57.769155  7.756519e-14\n",
      "Residual  36.0   6.888272   0.191341        NaN           NaN\n"
     ]
    }
   ],
   "source": [
    "lm=ols(\"Metascore~Method\",data=combnat).fit()\n",
    "table=sm.stats.anova_lm(lm)\n",
    "print(table)\n",
    "\n",
    "lm=ols(\"Metascore~Method\",data=combcom).fit()\n",
    "table=sm.stats.anova_lm(lm)\n",
    "print(table)"
   ]
  },
  {
   "cell_type": "code",
   "execution_count": 30,
   "metadata": {},
   "outputs": [],
   "source": [
    "#Spearmann Correlation between Naturalness and Written by a human"
   ]
  },
  {
   "cell_type": "code",
   "execution_count": 31,
   "metadata": {},
   "outputs": [
    {
     "name": "stdout",
     "output_type": "stream",
     "text": [
      "SpearmanrResult(correlation=0.5226980544298649, pvalue=5.21065831770111e-14)\n",
      "SpearmanrResult(correlation=0.6340558540658302, pvalue=1.244932160440233e-21)\n"
     ]
    }
   ],
   "source": [
    "from scipy import stats\n",
    "realcorr=stats.spearmanr(realnat.stack(),realcom.stack())\n",
    "print(realcorr)\n",
    "randcorr=stats.spearmanr(randnat.stack(),randcom.stack())\n",
    "print(randcorr)\n",
    "\n",
    "#The Spearman Correlation results suggest a statistically significant correlation between a sentence that is percieved as natural \n",
    "#and perceived as written by a human."
   ]
  },
  {
   "cell_type": "code",
   "execution_count": 32,
   "metadata": {},
   "outputs": [],
   "source": [
    "#T-Test for all conditions"
   ]
  },
  {
   "cell_type": "code",
   "execution_count": 33,
   "metadata": {},
   "outputs": [],
   "source": [
    "from scipy import stats"
   ]
  },
  {
   "cell_type": "code",
   "execution_count": 34,
   "metadata": {},
   "outputs": [],
   "source": [
    "def t_test(a,b):\n",
    "        stat,pvalue=stats.ttest_ind(a,b)\n",
    "        return stat,pvalue"
   ]
  },
  {
   "cell_type": "markdown",
   "metadata": {},
   "source": [
    "1. tl-tl\n",
    "2. tl-mc\n",
    "3. tl-real\n",
    "4. tl-rand\n",
    "\n",
    "5. mc-tl\n",
    "6. mc-mc\n",
    "7. mc-real\n",
    "8. mc-rand\n",
    "\n",
    "9. real-tl\n",
    "10. real-mc\n",
    "11. real-real\n",
    "12. real-rand\n",
    "\n",
    "13. rand-tl\n",
    "14. rand-mc\n",
    "15. rand-real\n",
    "16. rand-rand"
   ]
  },
  {
   "cell_type": "code",
   "execution_count": 35,
   "metadata": {},
   "outputs": [
    {
     "name": "stdout",
     "output_type": "stream",
     "text": [
      "1 0.0 1.0\n",
      "\n",
      "2 0.09219412844051714 0.9265695195598019\n",
      "\n",
      "Not statistically significant\n",
      "\n",
      "3 -13.391313709959869 1.148969879412723e-36\n",
      "\n",
      "4 8.17380048097601 1.3503187759096119e-15\n",
      "\n",
      "5 -0.09219412844051714 0.9265695195598019\n",
      "\n",
      "Not statistically significant\n",
      "\n",
      "6 0.0 1.0\n",
      "\n",
      "7 -14.003870956935678 1.4331683703085393e-39\n",
      "\n",
      "8 8.379518548339664 2.791472343877657e-16\n",
      "\n",
      "9 13.391313709959869 1.148969879412723e-36\n",
      "\n",
      "10 14.003870956935678 1.4331683703085393e-39\n",
      "\n",
      "11 0.0 1.0\n",
      "\n",
      "12 22.049943738818918 1.1159625612270857e-82\n",
      "\n",
      "13 -8.17380048097601 1.3503187759096119e-15\n",
      "\n",
      "14 -8.379518548339664 2.791472343877657e-16\n",
      "\n",
      "15 -22.049943738818918 1.1159625612270857e-82\n",
      "\n",
      "16 0.0 1.0\n",
      "\n"
     ]
    }
   ],
   "source": [
    "counter=0\n",
    "for framea in allsorted:\n",
    "    \n",
    "    for frameb in allsorted:\n",
    "        counter= counter+1\n",
    "        stat,pvalue=t_test(framea.stack(),frameb.stack())\n",
    "        print(counter,stat,pvalue)\n",
    "        print()\n",
    "        if pvalue>0.05 and pvalue!=1.0:\n",
    "            print(\"Not statistically significant\")\n",
    "            print()\n",
    "\n"
   ]
  },
  {
   "cell_type": "code",
   "execution_count": null,
   "metadata": {},
   "outputs": [],
   "source": []
  },
  {
   "cell_type": "code",
   "execution_count": null,
   "metadata": {},
   "outputs": [],
   "source": []
  },
  {
   "cell_type": "code",
   "execution_count": null,
   "metadata": {},
   "outputs": [],
   "source": []
  },
  {
   "cell_type": "code",
   "execution_count": null,
   "metadata": {},
   "outputs": [],
   "source": []
  },
  {
   "cell_type": "code",
   "execution_count": 36,
   "metadata": {},
   "outputs": [],
   "source": [
    "#This part is still unfinished"
   ]
  },
  {
   "cell_type": "code",
   "execution_count": null,
   "metadata": {},
   "outputs": [],
   "source": []
  },
  {
   "cell_type": "code",
   "execution_count": 37,
   "metadata": {},
   "outputs": [],
   "source": [
    "noknow=compl[compl['No prior experience with machine generated text (1) - Frequent interaction with machine generated text (7)']<4.0]\n",
    "moreknow=compl[compl['No prior experience with machine generated text (1) - Frequent interaction with machine generated text (7)']>4.0]"
   ]
  },
  {
   "cell_type": "code",
   "execution_count": 38,
   "metadata": {},
   "outputs": [],
   "source": [
    "natural_noknow=frame_natural(noknow)\n",
    "compare_noknow=frame_comparison(noknow)\n",
    "\n",
    "natural_moreknow=frame_natural(moreknow)\n",
    "compare_moreknow=frame_comparison(moreknow)\n",
    "\n",
    "\n"
   ]
  },
  {
   "cell_type": "code",
   "execution_count": 39,
   "metadata": {},
   "outputs": [
    {
     "name": "stdout",
     "output_type": "stream",
     "text": [
      "     1    2    3    4    5    6    7    8    9    10  ...   31   32   33   34  \\\n",
      "6   3.0  5.0  3.0  3.0  5.0  4.0  3.0  4.0  2.0  4.0  ...  3.0  4.0  3.0  4.0   \n",
      "15  5.0  5.0  5.0  3.0  3.0  4.0  4.0  4.0  3.0  5.0  ...  4.0  4.0  5.0  5.0   \n",
      "20  1.0  2.0  4.0  2.0  2.0  1.0  1.0  2.0  1.0  1.0  ...  2.0  1.0  1.0  1.0   \n",
      "26  2.0  5.0  5.0  1.0  7.0  4.0  6.0  4.0  6.0  4.0  ...  4.0  7.0  4.0  4.0   \n",
      "27  3.0  4.0  4.0  3.0  4.0  3.0  3.0  4.0  3.0  3.0  ...  3.0  4.0  3.0  4.0   \n",
      "30  4.0  5.0  2.0  4.0  2.0  2.0  2.0  5.0  1.0  2.0  ...  2.0  3.0  3.0  1.0   \n",
      "38  7.0  7.0  7.0  7.0  7.0  7.0  2.0  7.0  7.0  7.0  ...  1.0  1.0  1.0  1.0   \n",
      "40  6.0  3.0  5.0  5.0  6.0  3.0  4.0  3.0  2.0  3.0  ...  2.0  4.0  1.0  2.0   \n",
      "42  4.0  6.0  3.0  7.0  4.0  1.0  4.0  6.0  5.0  4.0  ...  1.0  2.0  1.0  2.0   \n",
      "\n",
      "     35   36   37   38   39   40  \n",
      "6   3.0  4.0  3.0  3.0  4.0  3.0  \n",
      "15  4.0  4.0  3.0  4.0  4.0  5.0  \n",
      "20  1.0  1.0  1.0  1.0  1.0  2.0  \n",
      "26  6.0  4.0  5.0  4.0  7.0  3.0  \n",
      "27  4.0  3.0  4.0  4.0  4.0  4.0  \n",
      "30  4.0  2.0  4.0  3.0  1.0  6.0  \n",
      "38  1.0  2.0  2.0  1.0  1.0  1.0  \n",
      "40  6.0  3.0  5.0  2.0  5.0  1.0  \n",
      "42  1.0  1.0  1.0  1.0  2.0  2.0  \n",
      "\n",
      "[9 rows x 40 columns]\n",
      "     1    2    3    4    5    6    7    8    9    10  ...   31   32   33   34  \\\n",
      "2   6.0  5.0  2.0  3.0  4.0  2.0  3.0  3.0  3.0  4.0  ...  1.0  2.0  1.0  1.0   \n",
      "4   7.0  3.0  5.0  6.0  5.0  4.0  2.0  4.0  5.0  3.0  ...  1.0  2.0  2.0  1.0   \n",
      "6   3.0  5.0  3.0  3.0  5.0  4.0  3.0  4.0  2.0  4.0  ...  3.0  4.0  3.0  4.0   \n",
      "13  5.0  6.0  5.0  4.0  6.0  5.0  2.0  5.0  5.0  6.0  ...  6.0  2.0  2.0  2.0   \n",
      "15  5.0  5.0  5.0  3.0  3.0  4.0  4.0  4.0  3.0  5.0  ...  4.0  4.0  5.0  5.0   \n",
      "16  5.0  3.0  2.0  3.0  3.0  1.0  3.0  3.0  6.0  4.0  ...  2.0  1.0  4.0  5.0   \n",
      "17  2.0  1.0  2.0  4.0  3.0  1.0  1.0  3.0  2.0  2.0  ...  1.0  1.0  1.0  1.0   \n",
      "20  1.0  2.0  4.0  2.0  2.0  1.0  1.0  2.0  1.0  1.0  ...  2.0  1.0  1.0  1.0   \n",
      "22  6.0  3.0  3.0  2.0  6.0  6.0  2.0  6.0  2.0  3.0  ...  4.0  7.0  1.0  3.0   \n",
      "25  5.0  1.0  5.0  5.0  3.0  4.0  2.0  5.0  5.0  2.0  ...  1.0  2.0  2.0  1.0   \n",
      "27  3.0  4.0  4.0  3.0  4.0  3.0  3.0  4.0  3.0  3.0  ...  3.0  4.0  3.0  4.0   \n",
      "30  4.0  5.0  2.0  4.0  2.0  2.0  2.0  5.0  1.0  2.0  ...  2.0  3.0  3.0  1.0   \n",
      "31  2.0  3.0  2.0  3.0  2.0  3.0  2.0  3.0  5.0  5.0  ...  3.0  4.0  5.0  3.0   \n",
      "32  5.0  3.0  3.0  4.0  3.0  3.0  1.0  2.0  2.0  2.0  ...  1.0  2.0  1.0  1.0   \n",
      "38  7.0  7.0  7.0  7.0  7.0  7.0  2.0  7.0  7.0  7.0  ...  1.0  1.0  1.0  1.0   \n",
      "40  6.0  3.0  5.0  5.0  6.0  3.0  4.0  3.0  2.0  3.0  ...  2.0  4.0  1.0  2.0   \n",
      "41  2.0  2.0  3.0  3.0  2.0  5.0  5.0  4.0  5.0  3.0  ...  4.0  5.0  3.0  3.0   \n",
      "42  4.0  6.0  3.0  7.0  4.0  1.0  4.0  6.0  5.0  4.0  ...  1.0  2.0  1.0  2.0   \n",
      "\n",
      "     35   36   37   38   39   40  \n",
      "2   1.0  2.0  2.0  2.0  2.0  1.0  \n",
      "4   1.0  2.0  1.0  1.0  2.0  1.0  \n",
      "6   3.0  4.0  3.0  3.0  4.0  3.0  \n",
      "13  2.0  5.0  2.0  2.0  5.0  2.0  \n",
      "15  4.0  4.0  3.0  4.0  4.0  5.0  \n",
      "16  3.0  2.0  1.0  2.0  3.0  3.0  \n",
      "17  1.0  1.0  1.0  2.0  1.0  1.0  \n",
      "20  1.0  1.0  1.0  1.0  1.0  2.0  \n",
      "22  6.0  6.0  3.0  4.0  2.0  3.0  \n",
      "25  1.0  1.0  1.0  1.0  1.0  2.0  \n",
      "27  4.0  3.0  4.0  4.0  4.0  4.0  \n",
      "30  4.0  2.0  4.0  3.0  1.0  6.0  \n",
      "31  2.0  5.0  3.0  5.0  5.0  5.0  \n",
      "32  1.0  2.0  2.0  1.0  1.0  1.0  \n",
      "38  1.0  2.0  2.0  1.0  1.0  1.0  \n",
      "40  6.0  3.0  5.0  2.0  5.0  1.0  \n",
      "41  5.0  5.0  3.0  5.0  5.0  2.0  \n",
      "42  1.0  1.0  1.0  1.0  2.0  2.0  \n",
      "\n",
      "[18 rows x 40 columns]\n"
     ]
    }
   ],
   "source": [
    "print(natural_noknow)\n",
    "print(natural)"
   ]
  },
  {
   "cell_type": "code",
   "execution_count": 40,
   "metadata": {},
   "outputs": [
    {
     "name": "stdout",
     "output_type": "stream",
     "text": [
      "There are 1 questions with NAN in the natural no machine knowledge set\n",
      "There are 5 questions with NAN in the comparison no machine knowledge set\n",
      "There are 0 questions with NAN in the natural with machine knowledge set\n",
      "There are 0 questions with NAN in the comparison with machine knowledge set\n"
     ]
    }
   ],
   "source": [
    "print(\"There are\",natural_noknow.isna().sum().sum(),\"questions with NAN in the natural no machine knowledge set\")\n",
    "print(\"There are\",compare_noknow.isna().sum().sum(),\"questions with NAN in the comparison no machine knowledge set\")\n",
    "print(\"There are\",natural_moreknow.isna().sum().sum(),\"questions with NAN in the natural with machine knowledge set\")\n",
    "print(\"There are\",compare_moreknow.isna().sum().sum(),\"questions with NAN in the comparison with machine knowledge set\")"
   ]
  },
  {
   "cell_type": "code",
   "execution_count": 41,
   "metadata": {},
   "outputs": [],
   "source": [
    "#Some participants skipped questions for easier evaluation the mean of the other participants for this question is added\n",
    "natural_noknow=natural_noknow.apply(lambda x: x.fillna(int(x.mean())),axis=0)\n",
    "compare_noknow=compare_noknow.apply(lambda x: x.fillna(int(x.mean())),axis=0)\n",
    "natural_moreknow=natural_moreknow.apply(lambda x: x.fillna(int(x.mean())),axis=0)\n",
    "compare_moreknow=compare_moreknow.apply(lambda x: x.fillna(int(x.mean())),axis=0)"
   ]
  },
  {
   "cell_type": "code",
   "execution_count": 42,
   "metadata": {},
   "outputs": [],
   "source": [
    "t,_,_,_,allnoknow_nat=split_models(natural_noknow)\n",
    "_,_,_,_,allnoknow_com=split_models(compare_noknow)\n",
    "\n",
    "s,_,_,_,allmoreknow_nat=split_models(natural_moreknow)\n",
    "_,_,_,_,allmoreknow_com=split_models(compare_moreknow)\n",
    "\n",
    "alllist=[allnoknow_nat,allnoknow_com,allmoreknow_nat,allmoreknow_com]"
   ]
  },
  {
   "cell_type": "code",
   "execution_count": 43,
   "metadata": {},
   "outputs": [
    {
     "name": "stdout",
     "output_type": "stream",
     "text": [
      "     1    2    3    4    5    6    7    8    9    10\n",
      "6   3.0  5.0  3.0  3.0  5.0  4.0  3.0  4.0  2.0  4.0\n",
      "15  5.0  5.0  5.0  3.0  3.0  4.0  4.0  4.0  3.0  5.0\n",
      "20  1.0  2.0  4.0  2.0  2.0  1.0  1.0  2.0  1.0  1.0\n",
      "26  2.0  5.0  5.0  1.0  7.0  4.0  6.0  4.0  6.0  4.0\n",
      "27  3.0  4.0  4.0  3.0  4.0  3.0  3.0  4.0  3.0  3.0\n",
      "30  4.0  5.0  2.0  4.0  2.0  2.0  2.0  5.0  1.0  2.0\n",
      "38  7.0  7.0  7.0  7.0  7.0  7.0  2.0  7.0  7.0  7.0\n",
      "40  6.0  3.0  5.0  5.0  6.0  3.0  4.0  3.0  2.0  3.0\n",
      "42  4.0  6.0  3.0  7.0  4.0  1.0  4.0  6.0  5.0  4.0\n",
      "     1    2    3    4    5    6    7    8    9    10\n",
      "2   6.0  5.0  2.0  3.0  4.0  2.0  3.0  3.0  3.0  4.0\n",
      "13  5.0  6.0  5.0  4.0  6.0  5.0  2.0  5.0  5.0  6.0\n",
      "22  6.0  3.0  3.0  2.0  6.0  6.0  2.0  6.0  2.0  3.0\n",
      "25  5.0  1.0  5.0  5.0  3.0  4.0  2.0  5.0  5.0  2.0\n",
      "31  2.0  3.0  2.0  3.0  2.0  3.0  2.0  3.0  5.0  5.0\n",
      "41  2.0  2.0  3.0  3.0  2.0  5.0  5.0  4.0  5.0  3.0\n"
     ]
    }
   ],
   "source": [
    "#print(allnoknow_nat)\n",
    "print(t)\n",
    "print(s)"
   ]
  },
  {
   "cell_type": "code",
   "execution_count": 44,
   "metadata": {},
   "outputs": [
    {
     "name": "stdout",
     "output_type": "stream",
     "text": [
      "new list\n",
      "new frame\n",
      "(3.89, 1.76)\n",
      "new frame\n",
      "(3.54, 1.47)\n",
      "new frame\n",
      "(5.03, 1.53)\n",
      "new frame\n",
      "(2.88, 1.59)\n",
      "new list\n",
      "new frame\n",
      "(3.71, 1.74)\n",
      "new frame\n",
      "(3.7, 1.52)\n",
      "new frame\n",
      "(5.2, 1.58)\n",
      "new frame\n",
      "(3.01, 1.6)\n",
      "new list\n",
      "new frame\n",
      "(3.73, 1.47)\n",
      "new frame\n",
      "(4.07, 1.46)\n",
      "new frame\n",
      "(5.35, 1.46)\n",
      "new frame\n",
      "(2.95, 1.67)\n",
      "new list\n",
      "new frame\n",
      "(4.22, 1.61)\n",
      "new frame\n",
      "(4.37, 1.53)\n",
      "new frame\n",
      "(5.08, 1.81)\n",
      "new frame\n",
      "(3.58, 1.93)\n"
     ]
    }
   ],
   "source": [
    "\n",
    "for lists in alllist:\n",
    "    print(\"new list\")\n",
    "    for frame in lists:\n",
    "        print(\"new frame\")\n",
    "        print(mean_and_std(frame))"
   ]
  },
  {
   "cell_type": "code",
   "execution_count": 45,
   "metadata": {},
   "outputs": [
    {
     "name": "stdout",
     "output_type": "stream",
     "text": [
      "(3.89, 1.76)\n",
      "(3.54, 1.47)\n",
      "(5.03, 1.53)\n",
      "(2.88, 1.59)\n"
     ]
    }
   ],
   "source": [
    "for frame in allnoknow_nat:\n",
    "    print(mean_and_std(frame))"
   ]
  },
  {
   "cell_type": "code",
   "execution_count": 46,
   "metadata": {},
   "outputs": [
    {
     "name": "stdout",
     "output_type": "stream",
     "text": [
      "(3.73, 1.47)\n",
      "(4.07, 1.46)\n",
      "(5.35, 1.46)\n",
      "(2.95, 1.67)\n"
     ]
    }
   ],
   "source": [
    "for frame in allmoreknow_nat:\n",
    "    print(mean_and_std(frame))"
   ]
  },
  {
   "cell_type": "code",
   "execution_count": 50,
   "metadata": {},
   "outputs": [
    {
     "name": "stdout",
     "output_type": "stream",
     "text": [
      "(0.5644724740759772, 0.5732871219283593)\n",
      "(-2.137400780403588, 0.03420847862193114)\n",
      "(-1.2637289702217989, 0.20831422202012945)\n",
      "(-0.26745722762004004, 0.7894894954164061)\n"
     ]
    }
   ],
   "source": [
    " for a,b in zip(allnoknow_nat,allmoreknow_nat):\n",
    "        print(t_test(a.stack(),b.stack()))"
   ]
  },
  {
   "cell_type": "code",
   "execution_count": 51,
   "metadata": {},
   "outputs": [
    {
     "name": "stdout",
     "output_type": "stream",
     "text": [
      "(-1.7949367177546067, 0.0747045440012378)\n",
      "(-2.6205124591526325, 0.009695623082355628)\n",
      "(0.418035891024908, 0.6765267815860857)\n",
      "(-1.9699132116331879, 0.05071487024055198)\n"
     ]
    }
   ],
   "source": [
    " for a,b in zip(allnoknow_com,allmoreknow_com):\n",
    "        print(t_test(a.stack(),b.stack()))"
   ]
  },
  {
   "cell_type": "code",
   "execution_count": null,
   "metadata": {},
   "outputs": [],
   "source": []
  }
 ],
 "metadata": {
  "kernelspec": {
   "display_name": "Python 3",
   "language": "python",
   "name": "python3"
  },
  "language_info": {
   "codemirror_mode": {
    "name": "ipython",
    "version": 3
   },
   "file_extension": ".py",
   "mimetype": "text/x-python",
   "name": "python",
   "nbconvert_exporter": "python",
   "pygments_lexer": "ipython3",
   "version": "3.8.3"
  }
 },
 "nbformat": 4,
 "nbformat_minor": 4
}
