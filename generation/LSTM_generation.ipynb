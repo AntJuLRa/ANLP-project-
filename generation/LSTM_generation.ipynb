{
 "cells": [
  {
   "cell_type": "markdown",
   "metadata": {
    "colab_type": "text",
    "id": "view-in-github"
   },
   "source": [
    "<a href=\"https://colab.research.google.com/github/AntJuLRa/ANLP-project-/blob/dev/generation/LSTM_generation.ipynb\" target=\"_parent\"><img src=\"https://colab.research.google.com/assets/colab-badge.svg\" alt=\"Open In Colab\"/></a>"
   ]
  },
  {
   "cell_type": "markdown",
   "metadata": {
    "id": "ic3rHNkxNVuP"
   },
   "source": [
    "**Text generation with LSTM**  \n",
    "ANLP 2020/2021 final project  \n",
    "Friederike Schreiber, Peng Chen, Anton Rabe\n"
   ]
  },
  {
   "cell_type": "code",
   "execution_count": 2,
   "metadata": {
    "id": "5Ic0Mltqd-Cq"
   },
   "outputs": [],
   "source": [
    "import pickle\n",
    "import dill\n",
    "import numpy as np\n",
    "import torch\n",
    "import nltk\n",
    "import random\n",
    "import torch.nn as nn\n",
    "import torch.nn.functional as fnc\n",
    "torch.manual_seed(42)\n",
    "random.seed(42)"
   ]
  },
  {
   "cell_type": "code",
   "execution_count": null,
   "metadata": {
    "id": "dT-DxLqPdfH8"
   },
   "outputs": [],
   "source": [
    "filename = '../resources/LSTM.pkl'"
   ]
  },
  {
   "cell_type": "code",
   "execution_count": null,
   "metadata": {
    "id": "5dPkg_VpdyDe"
   },
   "outputs": [],
   "source": [
    "dill.dump_session(filename)"
   ]
  },
  {
   "cell_type": "code",
   "execution_count": null,
   "metadata": {
    "id": "tOLSnmWidaE6"
   },
   "outputs": [],
   "source": [
    "dill.load_session(filename)"
   ]
  },
  {
   "cell_type": "markdown",
   "metadata": {
    "id": "vYifAGUUOwBu"
   },
   "source": [
    "**Preparing the training data**  \n",
    "Because Hip Hop lyrics contain a lot of different spellings and unique words and the data set is also quite large we filter out less frequent words and buildour training data from all 4 line phrases that contain only words from our vocabulary.  \n",
    "This should help remove most unique samples and texts from languages other than english.\n"
   ]
  },
  {
   "cell_type": "code",
   "execution_count": 3,
   "metadata": {
    "id": "jTeoRIdmHD4K"
   },
   "outputs": [],
   "source": [
    "#loading the pickled data, a list of songs\n",
    "OHHLA_data = pickle.load(open( \"../resources/OHHLAdata_list.p\", \"rb\" ))"
   ]
  },
  {
   "cell_type": "code",
   "execution_count": null,
   "metadata": {
    "id": "7ujr8tEogfNO"
   },
   "outputs": [],
   "source": [
    "flat_data = [word for song in OHHLA_data for word in song]"
   ]
  },
  {
   "cell_type": "code",
   "execution_count": null,
   "metadata": {
    "id": "I1lEAHZgkzDH"
   },
   "outputs": [],
   "source": [
    "#To reduce vocabulary size only include words that occur more than 30 times\n",
    "freq_dict= nltk.FreqDist(flat_data)\n",
    "valid_vocab= [word for word,freq in freq_dict.items() if freq>30]\n",
    "invalid_vocab= [word for word,freq in freq_dict.items() if freq<=30]"
   ]
  },
  {
   "cell_type": "code",
   "execution_count": null,
   "metadata": {
    "colab": {
     "base_uri": "https://localhost:8080/"
    },
    "id": "PLG8qoAQfoFw",
    "outputId": "39108522-5bd6-49c5-a2da-5e112f11e428"
   },
   "outputs": [
    {
     "data": {
      "text/plain": [
       "10844"
      ]
     },
     "execution_count": 5,
     "metadata": {
      "tags": []
     },
     "output_type": "execute_result"
    }
   ],
   "source": [
    "len(valid_vocab)"
   ]
  },
  {
   "cell_type": "code",
   "execution_count": null,
   "metadata": {
    "id": "bZnx8lEMoxLf"
   },
   "outputs": [],
   "source": [
    "#setup an index dictonary for one hot encoding and provide a method to return adequate pytorch tensors\n",
    "index_dict = dict()\n",
    "for i, x in enumerate(valid_vocab):\n",
    "  index_dict[x]=i+1\n",
    "\n",
    "rev_index_dict = dict([reversed(i) for i in index_dict.items()])\n",
    "rev_index_dict[0]='UNK'\n",
    "\n",
    "def phrase_to_tensor(phrase, ind_dict):\n",
    "  word_list = [word for line in phrase for word in line]\n",
    "  tensor = torch.zeros(len(word_list)).long()\n",
    "  for i, x in enumerate(word_list):\n",
    "    try:\n",
    "      tensor[i]=ind_dict[x]\n",
    "    except KeyError:\n",
    "      tensor[i]=0\n",
    "  return tensor"
   ]
  },
  {
   "cell_type": "code",
   "execution_count": null,
   "metadata": {
    "id": "TQ2ovWwFjryD"
   },
   "outputs": [],
   "source": [
    "from itertools import groupby\n",
    "#We train on sequences of four lines\n",
    "verses = [list(x) for y in OHHLA_data for k, x in groupby(y, lambda x: x =='nxtvrse') if not k]"
   ]
  },
  {
   "cell_type": "code",
   "execution_count": null,
   "metadata": {
    "id": "aJMjTX3cjHi3"
   },
   "outputs": [],
   "source": [
    "def get_phrases(verse,num_lines=4,endline='endline'):\n",
    "  lines = [list(x)+[endline] for k, x in groupby(verse, lambda x: x ==endline) if not k]\n",
    "  res=[]\n",
    "  for i,x in enumerate (lines[:len(lines)-num_lines+1]):\n",
    "    res.append(lines[i:i+num_lines])\n",
    "  return res"
   ]
  },
  {
   "cell_type": "code",
   "execution_count": null,
   "metadata": {
    "id": "vo5Ib7zS-X2W"
   },
   "outputs": [],
   "source": [
    "#obtain a list of all possible four line phrases\n",
    "list_of_phrases=[get_phrases(verse) for verse in verses]\n",
    "phrases=[x for y in list_of_phrases for x in y]"
   ]
  },
  {
   "cell_type": "code",
   "execution_count": null,
   "metadata": {
    "id": "nIETCmYYFwdK"
   },
   "outputs": [],
   "source": [
    "#obtain all indeces of phrases that only include valid vocab\n",
    "invalid_phrases= []\n",
    "for i,phrase in enumerate(phrases):\n",
    "  for word in [word for line in phrase for word in line]:\n",
    "    if freq_dict[word]<=30:\n",
    "      invalid_phrases.append(i)\n",
    "      break\n",
    "\n",
    "valid_phrases = list(set(list(range(0,len(phrases)))) - set(invalid_phrases))"
   ]
  },
  {
   "cell_type": "code",
   "execution_count": null,
   "metadata": {
    "colab": {
     "base_uri": "https://localhost:8080/"
    },
    "id": "8iKbRwyjq7Zk",
    "outputId": "fcf0136a-9856-4328-df4a-28f26ec6ac9e"
   },
   "outputs": [
    {
     "data": {
      "text/plain": [
       "297440"
      ]
     },
     "execution_count": 11,
     "metadata": {
      "tags": []
     },
     "output_type": "execute_result"
    }
   ],
   "source": [
    "#This leaves us with training data of ~300.000 phrases\n",
    "len(valid_phrases)"
   ]
  },
  {
   "cell_type": "code",
   "execution_count": null,
   "metadata": {
    "id": "2Sg44cyfK1hG"
   },
   "outputs": [],
   "source": [
    "#split phrases into random test and train set\n",
    "shuffled = random.sample(valid_phrases, len(valid_phrases))\n",
    "train_set= shuffled[:250000]\n",
    "test_set= shuffled[250000:]"
   ]
  },
  {
   "cell_type": "code",
   "execution_count": null,
   "metadata": {
    "id": "iviZ9ZBitu_8"
   },
   "outputs": [],
   "source": [
    "#get random phrases/ random training samples for training\n",
    "def random_valid_phrase(index_list):\n",
    "  i= random.choice(index_list)\n",
    "  return phrases[i]"
   ]
  },
  {
   "cell_type": "code",
   "execution_count": null,
   "metadata": {
    "id": "SaJMSomO1y56"
   },
   "outputs": [],
   "source": [
    "def random_training_tensor(index_list):    \n",
    "    x=random_valid_phrase(index_list)\n",
    "    phrase = phrase_to_tensor(x,index_dict)\n",
    "    input = phrase[:-1]\n",
    "    target = phrase[1:]\n",
    "    return input, target"
   ]
  },
  {
   "cell_type": "markdown",
   "metadata": {
    "id": "vNoM3xmed-D6"
   },
   "source": [
    "**LSTM for text generation**  \n",
    "The basic model architecture is adopted from assignment 3.\n",
    "We set the standard embedding dimension to 100.\n",
    "For a large vocabulary values up to 300 are suggested."
   ]
  },
  {
   "cell_type": "code",
   "execution_count": null,
   "metadata": {
    "id": "N5cVhVlFd-EC"
   },
   "outputs": [],
   "source": [
    "#an adapted class for an LSTM model\n",
    "class LSTM(nn.Module):\n",
    "    def __init__(self, input_dim, output_dim, hidden_dim, num_layers, embedding_dim=100):\n",
    "        super(LSTM, self).__init__()\n",
    "        self.i_dim= input_dim\n",
    "        self.e_dim= embedding_dim\n",
    "        self.h_dim= hidden_dim\n",
    "        self.o_dim= output_dim\n",
    "        self.n_layers= num_layers\n",
    "        \n",
    "        self.embedding = nn.Embedding(self.i_dim, self.e_dim)\n",
    "        self.lstm = nn.LSTM(input_size=self.e_dim, hidden_size=self.h_dim, num_layers=self.n_layers)\n",
    "        self.out = nn.Linear(self.h_dim,self.o_dim)\n",
    "        \n",
    "    \n",
    "    def forward(self, inp, hidden_cell):\n",
    "        embedded = self.embedding(inp)\n",
    "        lstm_out, hidden = self.lstm(embedded.view(1,1,-1), hidden_cell)\n",
    "        res = self.out(lstm_out.view(1, -1))\n",
    "        res = fnc.log_softmax(res, dim=1)\n",
    "        \n",
    "        return res, hidden \n",
    "        \n",
    "\n",
    "    def init_hidden(self):\n",
    "        hidden=torch.zeros(self.n_layers,1,self.h_dim)\n",
    "        cell = torch.zeros(self.n_layers,1,self.h_dim)\n",
    "        return hidden, cell"
   ]
  },
  {
   "cell_type": "code",
   "execution_count": null,
   "metadata": {
    "id": "ChYfKRC6KYev"
   },
   "outputs": [],
   "source": [
    "#a method for generating random sequences adapted from assignment 3.\n",
    "#The generation will stop after either the maximum number of words (max_len) or the required number of lines (num_lines) are reached.\n",
    "def generate(LSTM_model, start=['i'], max_len=150, num_lines=4, temp=0.8):\n",
    "    hidden, cell = LSTM_model.init_hidden()\n",
    "    prime_input = phrase_to_tensor([start], index_dict)\n",
    "    predicted = start[:]\n",
    "\n",
    "    for p in range(len(prime_input)):\n",
    "        _, (hidden, cell) = LSTM_model(prime_input[p], (hidden, cell)) \n",
    "    input = prime_input[-1]\n",
    "    \n",
    "    line_count=0\n",
    "    for p in range(max_len):\n",
    "        if line_count>=num_lines:\n",
    "          break\n",
    "\n",
    "        output, (hidden, cell) = LSTM_model(input, (hidden, cell))\n",
    "        \n",
    "        output_dist = output.data.view(-1).div(temp).exp()\n",
    "        i = int(torch.multinomial(output_dist, 1)[0]) \n",
    "        predicted_next = rev_index_dict[i]\n",
    "\n",
    "        if predicted_next=='endline':\n",
    "          line_count= line_count+1\n",
    "        \n",
    "        predicted.append(predicted_next)\n",
    "        input = phrase_to_tensor([[predicted_next]],index_dict)\n",
    "\n",
    "    return predicted"
   ]
  },
  {
   "cell_type": "markdown",
   "metadata": {
    "id": "LIIIWR6AntKc"
   },
   "source": [
    "**Training**  \n",
    "Training models with different hidden layer size and one or two hidden layers. We are using Negative Log Likelihood loss together with log softmax in the final layer.\n"
   ]
  },
  {
   "cell_type": "code",
   "execution_count": null,
   "metadata": {
    "id": "EsTyR1A50X82"
   },
   "outputs": [],
   "source": [
    "#time tracking copied from assignment 3\n",
    "import time, math\n",
    "\n",
    "def time_since(since):\n",
    "    s = time.time() - since\n",
    "    m = math.floor(s / 60)\n",
    "    s -= m * 60\n",
    "    return '%dm %ds' % (m, s)"
   ]
  },
  {
   "cell_type": "code",
   "execution_count": null,
   "metadata": {
    "id": "omh1cVb50f8W"
   },
   "outputs": [],
   "source": [
    "#perform one training step on a given target and input and apply the optimization\n",
    "def training_step(LSTM_model, optimizer, input, target, sample_len, criterion):\n",
    "    hidden, cell = LSTM_model.init_hidden()\n",
    "    LSTM_model.zero_grad()\n",
    "    loss = 0\n",
    "    for c in range(sample_len):\n",
    "        output, (hidden, cell) = LSTM_model(input[c], (hidden, cell))\n",
    "        loss = loss + criterion(output, target[c].view(1))\n",
    "\n",
    "    loss.backward()\n",
    "    optimizer.step()\n",
    "\n",
    "    return loss.item() /sample_len"
   ]
  },
  {
   "cell_type": "code",
   "execution_count": null,
   "metadata": {
    "id": "F7Y8AfIewtRC"
   },
   "outputs": [],
   "source": [
    "#train an LSTM model for n_epochs random training verses\n",
    "\n",
    "def train(model, optimizer, criterion, n_epochs,print_every, plot_every, index_list, return_loss_array):\n",
    "  loss_avg=0\n",
    "  all_losses=[]\n",
    "  start = time.time()\n",
    "  for epoch in range(1, n_epochs+1):\n",
    "    phrase = random_training_tensor(index_list)\n",
    "    #on very few occasions this throws an IndexError.\n",
    "    try:\n",
    "      loss = training_step(model, optimizer, phrase[0], phrase[1], len(phrase[1]), criterion)\n",
    "    except IndexError:\n",
    "      print(\"Error: \",phrase)\n",
    "    loss_avg += loss\n",
    "\n",
    "    # printing and documenting the loss during training adapted from assignment 3\n",
    "    if epoch % print_every == 0:\n",
    "        print('[{} ({} {}%) {:.4f}]'.format(time_since(start), epoch, epoch/n_epochs * 100, loss))\n",
    "        print(nice_format(generate(model)), '\\n')\n",
    "\n",
    "    if epoch % plot_every == 0:\n",
    "        all_losses.append(loss_avg/ plot_every)\n",
    "        loss_avg = 0\n",
    "    \n",
    "  if return_loss_array:\n",
    "    return all_losses"
   ]
  },
  {
   "cell_type": "code",
   "execution_count": null,
   "metadata": {
    "id": "KkXn7TnW_4ms"
   },
   "outputs": [],
   "source": [
    "# convert list of words output to printable format\n",
    "def nice_format(output_list, meta_list=[]):\n",
    "        no_meta = [x for x in output_list if x not in meta_list]\n",
    "        with_linebreaks = [\"\\n\" if x=='endline' else x for x in no_meta]\n",
    "        return \" \".join(with_linebreaks)"
   ]
  },
  {
   "cell_type": "code",
   "execution_count": null,
   "metadata": {
    "id": "jTBEwGrXlIYG"
   },
   "outputs": [],
   "source": [
    "#A word level network with two hidden layers\n",
    "hidden_size = 128\n",
    "n_layers = 2\n",
    "loss_array = []\n",
    "n_items= len(index_dict)\n",
    "\n",
    "lr = 0.005\n",
    "twolayer_LSTM_model = LSTM(n_items, n_items, hidden_size, n_layers, embedding_dim=100)\n",
    "optimizer = torch.optim.Adam(twolayer_LSTM_model.parameters(), lr=lr)\n",
    "criterion = nn.NLLLoss()"
   ]
  },
  {
   "cell_type": "code",
   "execution_count": null,
   "metadata": {
    "colab": {
     "base_uri": "https://localhost:8080/"
    },
    "id": "fXWTI2UOoNyD",
    "outputId": "acb07ec3-bb9f-4771-b156-f0a782fbdeaf"
   },
   "outputs": [
    {
     "name": "stdout",
     "output_type": "stream",
     "text": [
      "[5m 11s (1000 5.0%) 4.5836]\n",
      "i go to beg \n",
      " catch care of wallet \n",
      " i smoke you in my couch \n",
      " you know i 've been ridin ' on the passin ' eyes \n",
      " \n",
      "\n",
      "[10m 22s (2000 10.0%) 4.6040]\n",
      "i stay away \n",
      " you could go back \n",
      " i would do wo n't know i am the gang \n",
      " and you want it i'ma think there for real \n",
      " \n",
      "\n",
      "[15m 32s (3000 15.0%) 4.5529]\n",
      "i ca n't take a plane \n",
      " broken i am see i 'm ridin ' \n",
      " i cant get this game \n",
      " no less clocks with the sun more real \n",
      " \n",
      "\n",
      "[20m 40s (4000 20.0%) 5.5018]\n",
      "i go to you real time to down \n",
      " i often \n",
      " but a beast 'fore you get like \n",
      " i got nothing straight tryna pull up \n",
      " \n",
      "\n",
      "[25m 49s (5000 25.0%) 3.4650]\n",
      "i 'm like i need to do your name \n",
      " when you with else i earn the power i 'm slapped \n",
      " but i 'm as hell i 'm not a thug up \n",
      " it 's like a shame make a choice \n",
      " \n",
      "\n",
      "[31m 2s (6000 30.0%) 4.4782]\n",
      "i made that i can give a fuck \n",
      " you can not listen \n",
      " hold in my chest \n",
      " because i make a true day \n",
      " \n",
      "\n",
      "[36m 11s (7000 35.0%) 4.7560]\n",
      "i eat stage hard \n",
      " we do n't care the top \n",
      " go in the future \n",
      " why do you stop \n",
      " \n",
      "\n",
      "[41m 24s (8000 40.0%) 4.2493]\n",
      "i 'm talkin ' hop the shit \n",
      " then i 'm in the face with everybody \n",
      " but then the southside come up yeah \n",
      " i got bitch i 'm a the fuck i 'm a man we die \n",
      " \n",
      "\n",
      "[46m 37s (9000 45.0%) 4.6393]\n",
      "i was fuckin ' they beat ' it \n",
      " i 'm gone and you ready to get down \n",
      " i know you got a tree \n",
      " i 'm trying to break it away \n",
      " \n",
      "\n",
      "[51m 50s (10000 50.0%) 4.9526]\n",
      "i 'm on told you that you will \n",
      " i ai n't even even give it \n",
      " and i love the hoes straight for this \n",
      " i 'm in need me \n",
      " \n",
      "\n",
      "[57m 3s (11000 55.00000000000001%) 4.1957]\n",
      "i ai n't coming up your eyes \n",
      " where ya 's that do n't start to slow \n",
      " she ai n't got ta be in the chest two \n",
      " we know your whole hair \n",
      " \n",
      "\n",
      "[62m 13s (12000 60.0%) 4.3331]\n",
      "i 'm skate down \n",
      " i 'm just thats \n",
      " i 'm bout to pay the nigga and i 'm about love \n",
      " i do n't know you want the streets \n",
      " \n",
      "\n",
      "[67m 24s (13000 65.0%) 3.8057]\n",
      "i 'm back to the streets straight to the scene \n",
      " i 'm like a be that \n",
      " but you wan na understand \n",
      " and i 'm a teacher wan na ban \n",
      " \n",
      "\n",
      "[72m 38s (14000 70.0%) 3.9655]\n",
      "i 'm wrong \n",
      " i was what you 're for broken things \n",
      " i still admit you here \n",
      " i 'm a fuck you \n",
      " \n",
      "\n",
      "[77m 57s (15000 75.0%) 4.3230]\n",
      "i guess i wan na see me well that 's three but \n",
      " when it 's strong and it 's the heart \n",
      " it takes someone were less ' \n",
      " i ai n't got ta \n",
      " \n",
      "\n",
      "[83m 12s (16000 80.0%) 4.3512]\n",
      "i 'm 'bout to front \n",
      " when you crazy \n",
      " you got a bitch can run on till the casket \n",
      " i ai n't sinnin ' it 's deep \n",
      " \n",
      "\n",
      "[88m 30s (17000 85.0%) 4.8387]\n",
      "i 'm different of the best you \n",
      " i 'm real than i was the lies i 'm feelin ' it \n",
      " i would follow your hand get loose \n",
      " i ai n't even have the die \n",
      " \n",
      "\n",
      "[93m 48s (18000 90.0%) 4.8965]\n",
      "i hope to be her yes where they do n't \n",
      " uh you 're rockin ' on the dick \n",
      " like i come i feel like i 'm so far \n",
      " i taught you strong and on em up \n",
      " \n",
      "\n",
      "[99m 5s (19000 95.0%) 4.5344]\n",
      "i just know that i 'm still looking at my day \n",
      " i 'm just my father make that money nice \n",
      " i 'm the one i 'm not easy i 'm the back \n",
      " i ca n't even ca n't believe me i miss em the dopest chance to be \n",
      " \n",
      "\n",
      "[104m 23s (20000 100.0%) 5.7152]\n",
      "i know you hate to prove baby \n",
      " i 'm gon na figure you down to the play \n",
      " i 'm the rest of my last girl \n",
      " i 'm about to just \n",
      " \n",
      "\n"
     ]
    }
   ],
   "source": [
    "loss_array = loss_array +train(twolayer_LSTM_model, optimizer, criterion, 20000, 1000, 10, train_set, return_loss_array=True)"
   ]
  },
  {
   "cell_type": "code",
   "execution_count": null,
   "metadata": {
    "id": "EOXvj7rwoOzy"
   },
   "outputs": [],
   "source": [
    "#pickle the object for further training sessions\n",
    "pickle.dump(twolayer_LSTM_model, open( \"../resources/2lyr_word_level_LSTM.p\", \"wb\" ))\n",
    "pickle.dump(loss_array, open( \"../resources/2lyr_losses.p\", \"wb\" ))"
   ]
  },
  {
   "cell_type": "code",
   "execution_count": null,
   "metadata": {
    "id": "aYu_mtz5nobg"
   },
   "outputs": [],
   "source": [
    "#A word level network with one larger hidden layer\n",
    "hidden_size = 256\n",
    "n_layers = 1\n",
    "loss_array = []\n",
    "n_items= len(index_dict)\n",
    "\n",
    "lr = 0.005\n",
    "biglayer_LSTM_model = LSTM(n_items, n_items, hidden_size, n_layers, embedding_dim=100)\n",
    "optimizer = torch.optim.Adam(biglayer_LSTM_model.parameters(), lr=lr)\n",
    "criterion = nn.NLLLoss()"
   ]
  },
  {
   "cell_type": "code",
   "execution_count": null,
   "metadata": {
    "colab": {
     "base_uri": "https://localhost:8080/"
    },
    "id": "0GMBy2R2UEub",
    "outputId": "dcaad8ef-f009-42e5-e11d-f96fada48669"
   },
   "outputs": [
    {
     "name": "stdout",
     "output_type": "stream",
     "text": [
      "[7m 2s (1000 5.0%) 5.8368]\n",
      "i 'll can get this game of your life i 'm a benz \n",
      " they wo n't told me and playa are \n",
      " i want a high to the game of fact \n",
      " i 'm my past they do n't believe the shit \n",
      " \n",
      "\n",
      "[14m 5s (2000 10.0%) 4.7795]\n",
      "i said i 'm coming with your ass in the world \n",
      " i do n't care about me to your dick \n",
      " do n't know what i do you \n",
      " just about to god 's like the ice 's in the next \n",
      " \n",
      "\n",
      "[21m 11s (3000 15.0%) 4.9042]\n",
      "i do n't \n",
      " do what they say and if you kill the drippin ' \n",
      " you wan na find we wan na like me \n",
      " so when you like they ai n't no stack both 'll run in the top \n",
      " \n",
      "\n",
      "Error:  (tensor([    4,  3922,  4026,  1362,    67,  4153, 10844,   206, 10844,   206,\n",
      "        10844,   206,    14,    24,   972,     8,  6139,   545,    54,   704,\n",
      "        10844,   206, 10844,   206, 10844,   206,    14,    26,   277,    48,\n",
      "           89,  1245,   155,  5650, 10844,   206, 10844,   206, 10844,   206,\n",
      "           14,   616,  3280,  2591,    79,   998,    37,    24, 10844,   206,\n",
      "        10844,   206, 10844,   206]), tensor([ 3922,  4026,  1362,    67,  4153, 10844,   206, 10844,   206, 10844,\n",
      "          206,    14,    24,   972,     8,  6139,   545,    54,   704, 10844,\n",
      "          206, 10844,   206, 10844,   206,    14,    26,   277,    48,    89,\n",
      "         1245,   155,  5650, 10844,   206, 10844,   206, 10844,   206,    14,\n",
      "          616,  3280,  2591,    79,   998,    37,    24, 10844,   206, 10844,\n",
      "          206, 10844,   206,    14]))\n",
      "[28m 15s (4000 20.0%) 4.2429]\n",
      "i was know i need the raise \n",
      " i 'm feeling so mine \n",
      " then we do n't get rid of the cut nigga \n",
      " to go so baby you know the friends pop up \n",
      " \n",
      "\n",
      "Error:  (tensor([    4,    52,    24,  9708,   155,  5746,    14,     4,    61,   162,\n",
      "           36,   311,    12,    24, 10844,   225,    57,   276,     4,    52,\n",
      "           58,   261,    26,    14,     4,   459,    89,   833,    27,  1386,\n",
      "          144,    15,  1084,    26,    46,    38,  1217,    14,    24, 10026,\n",
      "         3838,    89,   550,    15,   576,    42,  1140]), tensor([   52,    24,  9708,   155,  5746,    14,     4,    61,   162,    36,\n",
      "          311,    12,    24, 10844,   225,    57,   276,     4,    52,    58,\n",
      "          261,    26,    14,     4,   459,    89,   833,    27,  1386,   144,\n",
      "           15,  1084,    26,    46,    38,  1217,    14,    24, 10026,  3838,\n",
      "           89,   550,    15,   576,    42,  1140,    14]))\n",
      "[35m 19s (5000 25.0%) 5.9330]\n",
      "i fuck \n",
      " we make sure i mean \n",
      " i hold me close \n",
      " get it bounce to blow my size \n",
      " \n",
      "\n",
      "[42m 40s (6000 30.0%) 3.9122]\n",
      "i fell \n",
      " just trying to find my own ya shall you have a real \n",
      " cause you leaving \n",
      " you get it twisted \n",
      " \n",
      "\n",
      "[49m 43s (7000 35.0%) 4.9874]\n",
      "i 've been on they \n",
      " i try to roll on \n",
      " gettin these niggas see work come \n",
      " to kick the wall \n",
      " \n",
      "\n",
      "[56m 41s (8000 40.0%) 6.1524]\n",
      "i do n't wan na see me she make that wan na be good \n",
      " tell me i 'm new \n",
      " take all that is way \n",
      " i 'm the first bitch only from me \n",
      " \n",
      "\n",
      "[63m 34s (9000 45.0%) 4.7279]\n",
      "i do n't got her a cat \n",
      " and dont they get it \n",
      " you gon na be the teeth know the muthafuckin like the dogs \n",
      " comin ' from a list \n",
      " \n",
      "\n",
      "Error:  (tensor([   74,     4,    21,  3526, 10844,    14,  2459,    38,  8148,  5219,\n",
      "         1299,   116,  1748,    74,     4,   130,    26,    14,   225,  2736,\n",
      "         2736,   225,    14,  1291,    89,   284,    23,    24,  4689,    63,\n",
      "         1053]), tensor([    4,    21,  3526, 10844,    14,  2459,    38,  8148,  5219,  1299,\n",
      "          116,  1748,    74,     4,   130,    26,    14,   225,  2736,  2736,\n",
      "          225,    14,  1291,    89,   284,    23,    24,  4689,    63,  1053,\n",
      "           14]))\n",
      "[70m 30s (10000 50.0%) 4.9572]\n",
      "i 'm got me \n",
      " i 'm in the game \n",
      " nigga just \n",
      " this is the only one \n",
      " \n",
      "\n",
      "[77m 31s (11000 55.00000000000001%) 4.0023]\n",
      "i 'm keep a minute \n",
      " you feel the regret \n",
      " still dream ' niggas the way i am with then when for it \n",
      " i 'm not fly shake this all my niggaz \n",
      " \n",
      "\n",
      "[84m 31s (12000 60.0%) 4.3838]\n",
      "i just got a cover of a running down \n",
      " i just was kind of knocked \n",
      " i get down with you \n",
      " i was coming at the hood show bill \n",
      " \n",
      "\n",
      "[91m 29s (13000 65.0%) 4.3224]\n",
      "i get you made me ! \n",
      " and that i 'm a fuck the shit \n",
      " what i want to know i need a cracked \n",
      " i said i made a gal the end \n",
      " \n",
      "\n",
      "[98m 28s (14000 70.0%) 5.6336]\n",
      "i 'm blowin ' with you \n",
      " for the headlights \n",
      " \n",
      " believe in the street \n",
      " \n",
      "\n",
      "[105m 22s (15000 75.0%) 4.4379]\n",
      "i 'm a hustle with things \n",
      " the fools in a moment and i 'm blessed \n",
      " got a queen try i could walk on \n",
      " i 'm clever not to work in the bottom \n",
      " \n",
      "\n",
      "[112m 18s (16000 80.0%) 7.0007]\n",
      "i just want to make the get to n't win i man \n",
      " and what 's a nigga \n",
      " say i remember of the taste up in your face baby \n",
      " if i 'm free he my whole world is to kill my advice \n",
      " \n",
      "\n",
      "[119m 10s (17000 85.0%) 5.1008]\n",
      "i do n't wan na keep it real \n",
      " i get 'em big pimpin ' in you \n",
      " fuck \n",
      " with you on your demand cause i will tell me what 's up \n",
      " \n",
      "\n",
      "[126m 17s (18000 90.0%) 4.9417]\n",
      "i walk through the club lookin ' the house for the bitch \n",
      " and i got ta make you live in what you get it \n",
      " 's the way you tell you be got to g \n",
      " water bad she was mine my body pay \n",
      " \n",
      "\n",
      "[133m 24s (19000 95.0%) 6.3105]\n",
      "i you do n't matter to do you put a my cash in your house \n",
      " i can get a little man and smoke me and lead me but you 're ridin out \n",
      " i get \n",
      " if i see you help me roll the hammer \n",
      " \n",
      "\n",
      "[140m 21s (20000 100.0%) 6.6222]\n",
      "i 'll see the same time you you dead \n",
      " i got ta chicago the wack \n",
      " c'mon \n",
      " do n't make you crazy but she got to pass me \n",
      " \n",
      "\n"
     ]
    }
   ],
   "source": [
    "loss_array = loss_array +train(biglayer_LSTM_model, optimizer, criterion, 20000, 1000, 10, train_set, return_loss_array=True)"
   ]
  },
  {
   "cell_type": "code",
   "execution_count": null,
   "metadata": {
    "id": "do6pRWDzf1hV"
   },
   "outputs": [],
   "source": [
    "pickle.dump(biglayer_LSTM_model, open( \"../resources/biglyr_word_level_LSTM.p\", \"wb\" ))\n",
    "pickle.dump(loss_array, open( \"../resources/biglyr_losses.p\", \"wb\" ))"
   ]
  },
  {
   "cell_type": "code",
   "execution_count": null,
   "metadata": {
    "id": "ENPU4JGOlOlU"
   },
   "outputs": [],
   "source": [
    "from matplotlib import pyplot as plt"
   ]
  },
  {
   "cell_type": "code",
   "execution_count": null,
   "metadata": {
    "colab": {
     "base_uri": "https://localhost:8080/",
     "height": 284
    },
    "id": "Q1bHbS-IlTck",
    "outputId": "e0f8be0a-27b7-4505-a856-f3be98b58c2f"
   },
   "outputs": [
    {
     "data": {
      "text/plain": [
       "[<matplotlib.lines.Line2D at 0x7fbae28c1dd0>]"
      ]
     },
     "execution_count": 57,
     "metadata": {
      "tags": []
     },
     "output_type": "execute_result"
    },
    {
     "data": {
      "image/png": "[encoded data removed]",
      "text/plain": [
       "<Figure size 432x288 with 1 Axes>"
      ]
     },
     "metadata": {
      "tags": []
     },
     "output_type": "display_data"
    }
   ],
   "source": [
    "#the training losses don't really go down because of the very big dataset\n",
    "plt.plot(loss_array)"
   ]
  },
  {
   "cell_type": "markdown",
   "metadata": {
    "id": "Y9LXF3VloT19"
   },
   "source": [
    "**Try a smaller dataset and vocabulary**  \n",
    "The large dataset and large vocabulary leads to impratical training time and may contain differences that are to large for proper fitting.\n",
    "We decided to chose a higher treshold for our valid vocabulary.  This should lead to a smaller output layer and more cohesive data."
   ]
  },
  {
   "cell_type": "code",
   "execution_count": null,
   "metadata": {
    "id": "1_ZL1UvVlZr6"
   },
   "outputs": [],
   "source": [
    "small_valid_vocab= [word for word,freq in freq_dict.items() if freq>150]\n",
    "big_invalid_vocab= [word for word,freq in freq_dict.items() if freq<=150]"
   ]
  },
  {
   "cell_type": "code",
   "execution_count": null,
   "metadata": {
    "colab": {
     "base_uri": "https://localhost:8080/"
    },
    "id": "AinxJZJeGLJm",
    "outputId": "0820f3b5-f000-4c54-f33f-9835190e6062"
   },
   "outputs": [
    {
     "data": {
      "text/plain": [
       "3628"
      ]
     },
     "execution_count": 25,
     "metadata": {
      "tags": []
     },
     "output_type": "execute_result"
    }
   ],
   "source": [
    "len(small_valid_vocab)"
   ]
  },
  {
   "cell_type": "code",
   "execution_count": null,
   "metadata": {
    "id": "WBFnl4qeGNPC"
   },
   "outputs": [],
   "source": [
    "invalid_phrases= []\n",
    "for i,phrase in enumerate(phrases):\n",
    "  for word in [word for line in phrase for word in line]:\n",
    "    if freq_dict[word]<=150:\n",
    "      invalid_phrases.append(i)\n",
    "      break\n",
    "\n",
    "valid_phrases = list(set(list(range(0,len(phrases)))) - set(invalid_phrases))"
   ]
  },
  {
   "cell_type": "code",
   "execution_count": null,
   "metadata": {
    "id": "hCw9X8nPGdhq"
   },
   "outputs": [],
   "source": [
    "index_dict = dict()\n",
    "for i, x in enumerate(small_valid_vocab):\n",
    "  index_dict[x]=i+1\n",
    "\n",
    "rev_index_dict = dict([reversed(i) for i in index_dict.items()])\n",
    "\n",
    "#split phrases into random test and train set\n",
    "shuffled = random.sample(valid_phrases, len(valid_phrases))\n",
    "train_set= shuffled[:50000]\n",
    "test_set= shuffled[50000:]"
   ]
  },
  {
   "cell_type": "code",
   "execution_count": null,
   "metadata": {
    "id": "Y_0Hk-x3G8Yt"
   },
   "outputs": [],
   "source": [
    "#A word level network with one big layer trained on fewer samples with smaller vocabulary.\n",
    "hidden_size = 200\n",
    "n_layers = 2\n",
    "loss_array = []\n",
    "n_items= len(index_dict)\n",
    "\n",
    "lr = 0.005\n",
    "smallvocab2_LSTM_model = LSTM(n_items, n_items, hidden_size, n_layers, embedding_dim=100)\n",
    "optimizer = torch.optim.Adam(smallvocab2_LSTM_model.parameters(), lr=lr)\n",
    "criterion = nn.NLLLoss()"
   ]
  },
  {
   "cell_type": "code",
   "execution_count": null,
   "metadata": {
    "colab": {
     "base_uri": "https://localhost:8080/"
    },
    "id": "i6YiDV1dIMxX",
    "outputId": "87e5cda4-a909-4bba-d15b-2d83f075bff9"
   },
   "outputs": [
    {
     "name": "stdout",
     "output_type": "stream",
     "text": [
      "[3m 10s (1000 2.0%) 5.3480]\n",
      "i want you \n",
      " they just do is that \n",
      " i just know i 'll wan like it \n",
      " and you love me \n",
      " \n",
      "\n",
      "[6m 19s (2000 4.0%) 5.7999]\n",
      "i just feel seem \n",
      " gave the sitting \n",
      " talk it \n",
      " the fo fame for nights and fuck you how he got ta dj the last \n",
      " \n",
      "\n",
      "[9m 28s (3000 6.0%) 3.6872]\n",
      "i do n't like you can could \n",
      " do n't give no make trapped niggaz if a place \n",
      " and i was off wan na take a \n",
      " and i ai n't see you \n",
      " \n",
      "\n",
      "[12m 39s (4000 8.0%) 4.2244]\n",
      "i feel what i do n't \n",
      " to the do it out \n",
      " you hear me but you came \n",
      " i know where the head for the morning \n",
      " \n",
      "\n",
      "Error:  (tensor([3628,    4,   60,  287,   15,    4,   75,   34,  443,  512,   14, 2592,\n",
      "          53,  139,   14,  167,   27,   62,   14,  376,    4,   60,  138,   24,\n",
      "        2448]), tensor([   4,   60,  287,   15,    4,   75,   34,  443,  512,   14, 2592,   53,\n",
      "         139,   14,  167,   27,   62,   14,  376,    4,   60,  138,   24, 2448,\n",
      "          14]))\n",
      "Error:  (tensor([ 322,   14, 3628,   14,  209,    4,  493,  494,  202,   24, 1754,   37,\n",
      "          38,  386,   13,  170,   14,    4,  170,  139,   56,  192]), tensor([  14, 3628,   14,  209,    4,  493,  494,  202,   24, 1754,   37,   38,\n",
      "         386,   13,  170,   14,    4,  170,  139,   56,  192,   14]))\n",
      "[15m 45s (5000 10.0%) 2.5332]\n",
      "i never got ta be stay \n",
      " bitches 're sorry take a lot of up \n",
      " by feel but you sing \n",
      " \n",
      " \n",
      "\n",
      "Error:  (tensor([  13,  105,   38,   71,   11,   14,   24, 3628,  223,  144,   14,   70,\n",
      "          20,   21,   49,   14, 1411,  362, 2706]), tensor([ 105,   38,   71,   11,   14,   24, 3628,  223,  144,   14,   70,   20,\n",
      "          21,   49,   14, 1411,  362, 2706,   14]))\n",
      "[18m 50s (6000 12.0%) 5.3935]\n",
      "i came your west out but bring a nigga man this ! \n",
      " ya do n't want me well \n",
      " but there 's a minute wrong with a mic and all up the notes i need it to explain \n",
      " i did n't never keep it \n",
      " \n",
      "\n",
      "[21m 57s (7000 14.000000000000002%) 3.8084]\n",
      "i 'm a gon na be down \n",
      " and i 'm like places and you do n't you be \n",
      " i can put my movie and he \n",
      " you can die \n",
      " \n",
      "\n",
      "Error:  (tensor([  24, 3628,  223,  144,   14,   70,   20,   21,   49,   14, 1411,  362,\n",
      "        2706,   14, 2191,   20,  443,   36,  175,  258]), tensor([3628,  223,  144,   14,   70,   20,   21,   49,   14, 1411,  362, 2706,\n",
      "          14, 2191,   20,  443,   36,  175,  258,   14]))\n",
      "[25m 4s (8000 16.0%) 4.1777]\n",
      "i 'll be like i do n't got ta ever show you tell me how i 'm fuckin ' \n",
      " i 'm on yo left you i swear to stay \n",
      " i 'm no more in the world \n",
      " so i do n't \n",
      " \n",
      "\n",
      "[28m 11s (9000 18.0%) 3.4007]\n",
      "i got that into the fuck of i 'm tellin ' yeah \n",
      " i got to joy my life \n",
      " get your night in and going i '' \n",
      " just quit like what they want \n",
      " \n",
      "\n",
      "Error:  (tensor([   4,   40,  111,    4,   60, 3628,   14,   13,  222,  170,   29,  223,\n",
      "         139, 1494,  276,   14,   56,   13,  480,  325,   14, 3073,  412,   36,\n",
      "         471]), tensor([  40,  111,    4,   60, 3628,   14,   13,  222,  170,   29,  223,  139,\n",
      "        1494,  276,   14,   56,   13,  480,  325,   14, 3073,  412,   36,  471,\n",
      "          14]))\n",
      "[31m 18s (10000 20.0%) 3.7932]\n",
      "i want that bitch \n",
      " when you call me \n",
      " i ca n't gon ' get this my friends \n",
      " i 'm takin on my deal \n",
      " \n",
      "\n",
      "Error:  (tensor([  15,    4,  165,   15,  258,   26,   27,  153,  387, 2472,   14,    4,\n",
      "          60,   24, 1053,  916,  479,   40,   42,  167,   13,  170,   14,    4,\n",
      "         800,   38,  435,  149,   24,  204,   15,    4,  110,  167,   26,   62,\n",
      "          14,  139,   27,  240,   92, 1997,   38, 1155,   42,  169,   42, 3628,\n",
      "          27,  116]), tensor([   4,  165,   15,  258,   26,   27,  153,  387, 2472,   14,    4,   60,\n",
      "          24, 1053,  916,  479,   40,   42,  167,   13,  170,   14,    4,  800,\n",
      "          38,  435,  149,   24,  204,   15,    4,  110,  167,   26,   62,   14,\n",
      "         139,   27,  240,   92, 1997,   38, 1155,   42,  169,   42, 3628,   27,\n",
      "         116,   14]))\n",
      "Error:  (tensor([3628,  949,   26,   70,  781,   13,  106,   36,  159,   42,   43,  114,\n",
      "        2513,  460,   53,   37,   24, 1585,  629,   14,    4,   60,   24,  156,\n",
      "          92,  100,  310, 1821,   92, 1220,   14,  110,  155,   26,  104, 1814,\n",
      "         147,    4,  169,   37,   92, 1792,   14,   15,    4,   60,   38,  848,\n",
      "         114,  326]), tensor([ 949,   26,   70,  781,   13,  106,   36,  159,   42,   43,  114, 2513,\n",
      "         460,   53,   37,   24, 1585,  629,   14,    4,   60,   24,  156,   92,\n",
      "         100,  310, 1821,   92, 1220,   14,  110,  155,   26,  104, 1814,  147,\n",
      "           4,  169,   37,   92, 1792,   14,   15,    4,   60,   38,  848,  114,\n",
      "         326,   14]))\n",
      "Error:  (tensor([   4,   40,  111,    4,   60, 3628,   14,   13,  222,  170,   29,  223,\n",
      "         139, 1494,  276,   14,   56,   13,  480,  325,   14, 3073,  412,   36,\n",
      "         471]), tensor([  40,  111,    4,   60, 3628,   14,   13,  222,  170,   29,  223,  139,\n",
      "        1494,  276,   14,   56,   13,  480,  325,   14, 3073,  412,   36,  471,\n",
      "          14]))\n",
      "[34m 27s (11000 22.0%) 4.0835]\n",
      "i done bring it nigga and i done stoppin to make it \n",
      " i got the kinda place \n",
      " i got ta catch you \n",
      " i 'm with you \n",
      " \n",
      "\n",
      "[37m 34s (12000 24.0%) 3.7944]\n",
      "i 'll spit the truth i 'm my past n't feel me \n",
      " i said i do n't understand the love and either this \n",
      " i 've been not from cars \n",
      " like it was really i do n't give a \n",
      " \n",
      "\n",
      "[40m 41s (13000 26.0%) 3.7626]\n",
      "i 'm doin my own with my heart a smile \n",
      " i said do you gon ' have stuck to you \n",
      " i can let you see this \n",
      " cause you blew the bed of the game \n",
      " \n",
      "\n",
      "[43m 51s (14000 28.000000000000004%) 4.2175]\n",
      "i keep you with you \n",
      " please do n't wan na get it out \n",
      " i would n't live you today i got to get here \n",
      " i just wan na be your best how i wan na know if it \n",
      " \n",
      "\n",
      "Error:  (tensor([1384, 1384, 1384, 1384, 1384,   14,   26,   27, 1641, 3628, 1544, 3467,\n",
      "          14,  322,   14,  227,   24,  498,  202]), tensor([1384, 1384, 1384, 1384,   14,   26,   27, 1641, 3628, 1544, 3467,   14,\n",
      "         322,   14,  227,   24,  498,  202,   14]))\n",
      "Error:  (tensor([3628,    4,   60,  287,   15,    4,   75,   34,  443,  512,   14, 2592,\n",
      "          53,  139,   14,  167,   27,   62,   14,  376,    4,   60,  138,   24,\n",
      "        2448]), tensor([   4,   60,  287,   15,    4,   75,   34,  443,  512,   14, 2592,   53,\n",
      "         139,   14,  167,   27,   62,   14,  376,    4,   60,  138,   24, 2448,\n",
      "          14]))\n",
      "[47m 4s (15000 30.0%) 3.1429]\n",
      "i got ta say \n",
      " i do n't let all you know \n",
      " i 've never 'm again i 'm funny i 'm saved on an rise i did n't wan na fuck out of the streets \n",
      " like young niggas lovin up and make me head \n",
      " \n",
      "\n",
      "[50m 19s (16000 32.0%) 5.2978]\n",
      "i 'd be not to be in \n",
      " and if i trust the sittin out \n",
      " it 's a dime forty \n",
      " caught it \n",
      " \n",
      "\n",
      "Error:  (tensor([ 302,   35,   36, 3030,  223,  497,   14,   13,  105,   38,   71,   11,\n",
      "          14,   24, 3628,  223,  144,   14,   70,   20,   21,   49]), tensor([  35,   36, 3030,  223,  497,   14,   13,  105,   38,   71,   11,   14,\n",
      "          24, 3628,  223,  144,   14,   70,   20,   21,   49,   14]))\n",
      "[53m 31s (17000 34.0%) 3.4894]\n",
      "i was more dick that weed from the wall \n",
      " ya always drop that \n",
      " we wan na get me up in my mouth \n",
      " make 'em fuck with the night \n",
      " \n",
      "\n",
      "Error:  (tensor([ 302,   35,   36, 3030,  223,  497,   14,   13,  105,   38,   71,   11,\n",
      "          14,   24, 3628,  223,  144,   14,   70,   20,   21,   49]), tensor([  35,   36, 3030,  223,  497,   14,   13,  105,   38,   71,   11,   14,\n",
      "          24, 3628,  223,  144,   14,   70,   20,   21,   49,   14]))\n",
      "Error:  (tensor([  13,  105,   38,   71,   11,   14,   24, 3628,  223,  144,   14,   70,\n",
      "          20,   21,   49,   14, 1411,  362, 2706]), tensor([ 105,   38,   71,   11,   14,   24, 3628,  223,  144,   14,   70,   20,\n",
      "          21,   49,   14, 1411,  362, 2706,   14]))\n",
      "Error:  (tensor([  20,   24, 1391,   20,   24,  321,  139,   13,  380,  326,   53,   31,\n",
      "          14,   98, 3628,  109,  209,   27,   72,   38, 2366,   15, 1335, 2216,\n",
      "        1355,  167,   27,   21,   26,   14,   26,   27,  299,   89,    4,  493,\n",
      "         110, 2739,   87,  209,   46,  848,   11,   14, 1071,  918,  139,  258,\n",
      "           4,  107,   42,   62,   15,  930,   46,   40,   38, 1260, 1489]), tensor([  24, 1391,   20,   24,  321,  139,   13,  380,  326,   53,   31,   14,\n",
      "          98, 3628,  109,  209,   27,   72,   38, 2366,   15, 1335, 2216, 1355,\n",
      "         167,   27,   21,   26,   14,   26,   27,  299,   89,    4,  493,  110,\n",
      "        2739,   87,  209,   46,  848,   11,   14, 1071,  918,  139,  258,    4,\n",
      "         107,   42,   62,   15,  930,   46,   40,   38, 1260, 1489,   14]))\n",
      "[56m 41s (18000 36.0%) 4.7641]\n",
      "i think you can see your ground \n",
      " now i like you \n",
      " you 're gon na stop ready a gangsta \n",
      " i ca n't be rest \n",
      " \n",
      "\n",
      "[59m 57s (19000 38.0%) 4.0867]\n",
      "i 've been gon ' come on \n",
      " taking the shit you life \n",
      " repeat \n",
      " you do n't need you for the big devil \n",
      " \n",
      "\n",
      "Error:  (tensor([ 258,  227,   24, 3172,  202,   14,  243,  139,   14,    4,   60, 1807,\n",
      "        1641, 3628,  315,   14,   13,  145,  474,  139,  578,  269]), tensor([ 227,   24, 3172,  202,   14,  243,  139,   14,    4,   60, 1807, 1641,\n",
      "        3628,  315,   14,   13,  145,  474,  139,  578,  269,   14]))\n",
      "[63m 11s (20000 40.0%) 3.5043]\n",
      "i 've never fear you can come ride \n",
      " i got you paper to man if you laid \n",
      " i got somethin \n",
      " i 'll get back for the sunshine the bills \n",
      " \n",
      "\n",
      "[66m 21s (21000 42.0%) 5.5905]\n",
      "i will be my money \n",
      " i wan na take your mouth \n",
      " i wan na know \n",
      " i guess i 'm taking her i 'm working \n",
      " \n",
      "\n",
      "[69m 33s (22000 44.0%) 4.3494]\n",
      "i want you like you like you come down and be smoking \n",
      " i just want to feel pain with me \n",
      " i wo n't take a player and pushing ya \n",
      " so i 'm just tryna be free \n",
      " \n",
      "\n",
      "[72m 48s (23000 46.0%) 3.7810]\n",
      "i do n't trust you made no not \n",
      " i need what 's up right \n",
      " i keep on to me \n",
      " you were the corner paint it \n",
      " \n",
      "\n",
      "Error:  (tensor([ 322,  585, 1641, 3628,   92,   68,   34,  462,   29,   14,   40,   68,\n",
      "          34,  775,   24,   40,   68,   34,  775,   24,   40,   68,   34,  775,\n",
      "          24, 2308,   14,    4,  108,   79,  725,   37,  109,  209,   79,  578,\n",
      "         725,   14,   40,   68,   34,  775,   24,   40,   68,   34,  775,   24,\n",
      "          40,   68,   34,  775,   24, 2308]), tensor([ 585, 1641, 3628,   92,   68,   34,  462,   29,   14,   40,   68,   34,\n",
      "         775,   24,   40,   68,   34,  775,   24,   40,   68,   34,  775,   24,\n",
      "        2308,   14,    4,  108,   79,  725,   37,  109,  209,   79,  578,  725,\n",
      "          14,   40,   68,   34,  775,   24,   40,   68,   34,  775,   24,   40,\n",
      "          68,   34,  775,   24, 2308,   14]))\n",
      "[76m 0s (24000 48.0%) 2.2738]\n",
      "i see you just to your click \n",
      " i never gon na see \n",
      " i had the time that \n",
      " i 've been waiting for free and \n",
      " \n",
      "\n",
      "Error:  (tensor([  24, 3628,  223,  144,   14,   70,   20,   21,   49,   14, 1411,  362,\n",
      "        2706,   14, 2191,   20,  443,   36,  175,  258]), tensor([3628,  223,  144,   14,   70,   20,   21,   49,   14, 1411,  362, 2706,\n",
      "          14, 2191,   20,  443,   36,  175,  258,   14]))\n",
      "[79m 18s (25000 50.0%) 4.1619]\n",
      "i had to hold you bitch girl tomorrow to man \n",
      " keep my bank of you \n",
      " it let me go to me to her baby \n",
      " cause there 's no time right here for \n",
      " \n",
      "\n",
      "Error:  (tensor([  24, 3628,  223,  144,   14,   70,   20,   21,   49,   14, 1411,  362,\n",
      "        2706,   14, 2191,   20,  443,   36,  175,  258]), tensor([3628,  223,  144,   14,   70,   20,   21,   49,   14, 1411,  362, 2706,\n",
      "          14, 2191,   20,  443,   36,  175,  258,   14]))\n",
      "[82m 35s (26000 52.0%) 5.1350]\n",
      "i said nigga \n",
      " hey i 'd do n't even know \n",
      " and you ai n't got ta lie \n",
      " you wan na ride on like i 'm still the bitch behind of \n",
      " \n",
      "\n",
      "[85m 52s (27000 54.0%) 3.2157]\n",
      "i 'm a make do n't trust it \n",
      " walk back away \n",
      " i 'm just a mine \n",
      " you know you like the way you say \n",
      " \n",
      "\n",
      "[89m 7s (28000 56.00000000000001%) 4.2290]\n",
      "i make the love \n",
      " you better \n",
      " i used my shit a know i hope it 's the ones \n",
      " i 'll say man \n",
      " \n",
      "\n",
      "Error:  (tensor([  98, 3628,  109,  209,   27,   72,   38, 2366,   15, 1335, 2216, 1355,\n",
      "         167,   27,   21,   26,   14,   26,   27,  299,   89,    4,  493,  110,\n",
      "        2739,   87,  209,   46,  848,   11,   14, 1071,  918,  139,  258,    4,\n",
      "         107,   42,   62,   15,  930,   46,   40,   38, 1260, 1489,   14,  243,\n",
      "          26,   27, 1898,   20,   24, 1635,  304,  258]), tensor([3628,  109,  209,   27,   72,   38, 2366,   15, 1335, 2216, 1355,  167,\n",
      "          27,   21,   26,   14,   26,   27,  299,   89,    4,  493,  110, 2739,\n",
      "          87,  209,   46,  848,   11,   14, 1071,  918,  139,  258,    4,  107,\n",
      "          42,   62,   15,  930,   46,   40,   38, 1260, 1489,   14,  243,   26,\n",
      "          27, 1898,   20,   24, 1635,  304,  258,   14]))\n",
      "[92m 25s (29000 57.99999999999999%) 5.0514]\n",
      "i used to be with a couple shit \n",
      " and you may get a real nigga \n",
      " it 's better than the money every chance to live what i 'm about \n",
      " and fed ya doors the track on the edge \n",
      " \n",
      "\n",
      "Error:  (tensor([  13,  145,   62,  414,  580,   87, 1720, 2247,    8,   24,  221,  156,\n",
      "           4,  435,   24,  752,   12,   26,   27,   70,  643, 3112, 2907,  899,\n",
      "          14, 1479,  651,    4,  493,  494,   70,  535,   14,   70, 1521,  695,\n",
      "           4,  493,  494, 2780,  304,  450,   24,   14, 3628,  949,   26,   70,\n",
      "         781,   13,  106,   36,  159,   42,   43,  114, 2513,  460,   53,   37,\n",
      "          24, 1585,  629]), tensor([ 145,   62,  414,  580,   87, 1720, 2247,    8,   24,  221,  156,    4,\n",
      "         435,   24,  752,   12,   26,   27,   70,  643, 3112, 2907,  899,   14,\n",
      "        1479,  651,    4,  493,  494,   70,  535,   14,   70, 1521,  695,    4,\n",
      "         493,  494, 2780,  304,  450,   24,   14, 3628,  949,   26,   70,  781,\n",
      "          13,  106,   36,  159,   42,   43,  114, 2513,  460,   53,   37,   24,\n",
      "        1585,  629,   14]))\n",
      "Error:  (tensor([1384, 1384, 1384, 1384, 1384,   14,   26,   27, 1641, 3628, 1544, 3467,\n",
      "          14,  322,   14,  227,   24,  498,  202]), tensor([1384, 1384, 1384, 1384,   14,   26,   27, 1641, 3628, 1544, 3467,   14,\n",
      "         322,   14,  227,   24,  498,  202,   14]))\n",
      "Error:  (tensor([ 302,   35,   36, 3030,  223,  497,   14,   13,  105,   38,   71,   11,\n",
      "          14,   24, 3628,  223,  144,   14,   70,   20,   21,   49]), tensor([  35,   36, 3030,  223,  497,   14,   13,  105,   38,   71,   11,   14,\n",
      "          24, 3628,  223,  144,   14,   70,   20,   21,   49,   14]))\n",
      "Error:  (tensor([ 139,    4,   51,   46,   87,  447,   23,    4,  433,   26,  464,   14,\n",
      "         911,  149,   24,  153,  608,   15, 1354,   14,  667,  433,   24, 2559,\n",
      "          14,   89,   13,  170,  139, 3628,   51,   26]), tensor([   4,   51,   46,   87,  447,   23,    4,  433,   26,  464,   14,  911,\n",
      "         149,   24,  153,  608,   15, 1354,   14,  667,  433,   24, 2559,   14,\n",
      "          89,   13,  170,  139, 3628,   51,   26,   14]))\n",
      "[95m 48s (30000 60.0%) 3.3020]\n",
      "i get some \n",
      " when the since you go around high \n",
      " you do n't know \n",
      " you ca n't make it fast \n",
      " \n",
      "\n",
      "Error:  (tensor([  13,  145,   62,  414,  580,   87, 1720, 2247,    8,   24,  221,  156,\n",
      "           4,  435,   24,  752,   12,   26,   27,   70,  643, 3112, 2907,  899,\n",
      "          14, 1479,  651,    4,  493,  494,   70,  535,   14,   70, 1521,  695,\n",
      "           4,  493,  494, 2780,  304,  450,   24,   14, 3628,  949,   26,   70,\n",
      "         781,   13,  106,   36,  159,   42,   43,  114, 2513,  460,   53,   37,\n",
      "          24, 1585,  629]), tensor([ 145,   62,  414,  580,   87, 1720, 2247,    8,   24,  221,  156,    4,\n",
      "         435,   24,  752,   12,   26,   27,   70,  643, 3112, 2907,  899,   14,\n",
      "        1479,  651,    4,  493,  494,   70,  535,   14,   70, 1521,  695,    4,\n",
      "         493,  494, 2780,  304,  450,   24,   14, 3628,  949,   26,   70,  781,\n",
      "          13,  106,   36,  159,   42,   43,  114, 2513,  460,   53,   37,   24,\n",
      "        1585,  629,   14]))\n",
      "Error:  (tensor([  70,  360,   30,   13,  480, 1439,  202,   29,    4,  426,   77, 1439,\n",
      "         202,   13,   14,    4,  170,   13,    7,   34,  105,   26,   14,   70,\n",
      "        1304,   66,   42, 3628,  223,    4,   60, 1642,   24,  204,   72,   92,\n",
      "         170,   29,   42,    7,   14,   70,   13,  145,  287,  149,   26]), tensor([ 360,   30,   13,  480, 1439,  202,   29,    4,  426,   77, 1439,  202,\n",
      "          13,   14,    4,  170,   13,    7,   34,  105,   26,   14,   70, 1304,\n",
      "          66,   42, 3628,  223,    4,   60, 1642,   24,  204,   72,   92,  170,\n",
      "          29,   42,    7,   14,   70,   13,  145,  287,  149,   26,   14]))\n",
      "Error:  (tensor([ 322,  585, 1641, 3628,   92,   68,   34,  462,   29,   14,   40,   68,\n",
      "          34,  775,   24,   40,   68,   34,  775,   24,   40,   68,   34,  775,\n",
      "          24, 2308,   14,    4,  108,   79,  725,   37,  109,  209,   79,  578,\n",
      "         725,   14,   40,   68,   34,  775,   24,   40,   68,   34,  775,   24,\n",
      "          40,   68,   34,  775,   24, 2308]), tensor([ 585, 1641, 3628,   92,   68,   34,  462,   29,   14,   40,   68,   34,\n",
      "         775,   24,   40,   68,   34,  775,   24,   40,   68,   34,  775,   24,\n",
      "        2308,   14,    4,  108,   79,  725,   37,  109,  209,   79,  578,  725,\n",
      "          14,   40,   68,   34,  775,   24,   40,   68,   34,  775,   24,   40,\n",
      "          68,   34,  775,   24, 2308,   14]))\n",
      "[99m 10s (31000 62.0%) 5.3064]\n",
      "i 'm just a ass on \n",
      " new shit \n",
      " and that 's for you one \n",
      " just tryna make that ass \n",
      " \n",
      "\n",
      "[102m 33s (32000 64.0%) 5.0481]\n",
      "i will see him i ca n't sleep \n",
      " nxtsng \n",
      " i got them girls \n",
      " to hate the low \n",
      " \n",
      "\n",
      "[106m 1s (33000 66.0%) 4.6331]\n",
      "i really wan na love you \n",
      " now i 'm workin ' and get your ass \n",
      " and the government but i 'm all my feet \n",
      " cause i 'm me on my mind while you 're just a do it \n",
      " \n",
      "\n",
      "[109m 24s (34000 68.0%) 4.4851]\n",
      "i let you get to it \n",
      " oh you 're shining good to the new \n",
      " got ta fuck ! \n",
      " singing i have my blow \n",
      " \n",
      "\n",
      "Error:  (tensor([  70, 1521,  695,    4,  493,  494, 2780,  304,  450,   24,   14, 3628,\n",
      "         949,   26,   70,  781,   13,  106,   36,  159,   42,   43,  114, 2513,\n",
      "         460,   53,   37,   24, 1585,  629,   14,    4,   60,   24,  156,   92,\n",
      "         100,  310, 1821,   92, 1220,   14,  110,  155,   26,  104, 1814,  147,\n",
      "           4,  169,   37,   92, 1792]), tensor([1521,  695,    4,  493,  494, 2780,  304,  450,   24,   14, 3628,  949,\n",
      "          26,   70,  781,   13,  106,   36,  159,   42,   43,  114, 2513,  460,\n",
      "          53,   37,   24, 1585,  629,   14,    4,   60,   24,  156,   92,  100,\n",
      "         310, 1821,   92, 1220,   14,  110,  155,   26,  104, 1814,  147,    4,\n",
      "         169,   37,   92, 1792,   14]))\n",
      "[112m 49s (35000 70.0%) 4.7276]\n",
      "i 'm gon na be there 's time what you see \n",
      " might get out of the streets \n",
      " cause forget a bell everywhere she 's going \n",
      " do what you do \n",
      " \n",
      "\n",
      "[116m 16s (36000 72.0%) 2.6381]\n",
      "i said i want it to the road \n",
      " yeah yeah \n",
      " i dont know \n",
      " ice and when a game \n",
      " \n",
      "\n",
      "Error:  (tensor([   4,  170,   13,    7,   34,  105,   26,   14,   70, 1304,   66,   42,\n",
      "        3628,  223,    4,   60, 1642,   24,  204,   72,   92,  170,   29,   42,\n",
      "           7,   14,   70,   13,  145,  287,  149,   26,   14,    1]), tensor([ 170,   13,    7,   34,  105,   26,   14,   70, 1304,   66,   42, 3628,\n",
      "         223,    4,   60, 1642,   24,  204,   72,   92,  170,   29,   42,    7,\n",
      "          14,   70,   13,  145,  287,  149,   26,   14,    1,   14]))\n",
      "Error:  (tensor([  13,  105,   38,   71,   11,   14,   24, 3628,  223,  144,   14,   70,\n",
      "          20,   21,   49,   14, 1411,  362, 2706]), tensor([ 105,   38,   71,   11,   14,   24, 3628,  223,  144,   14,   70,   20,\n",
      "          21,   49,   14, 1411,  362, 2706,   14]))\n",
      "[119m 51s (37000 74.0%) 3.7613]\n",
      "i be to no one other ' \n",
      " i ai n't going \n",
      " cause i 'm on clap \n",
      " dirty hoes \n",
      " \n",
      "\n",
      "Error:  (tensor([ 750,   27,  446,   36,  450,   87, 3318,   14, 3628,    8,   38, 2308,\n",
      "          14,   15,    4,    7,   87,  449,   14,    4,    7,   34,   96,  161,\n",
      "         617,  149,   13,  155]), tensor([  27,  446,   36,  450,   87, 3318,   14, 3628,    8,   38, 2308,   14,\n",
      "          15,    4,    7,   87,  449,   14,    4,    7,   34,   96,  161,  617,\n",
      "         149,   13,  155,   14]))\n",
      "[123m 26s (38000 76.0%) 6.8863]\n",
      "i i got ta go and you \n",
      " but she 's do n't make it like you know \n",
      " i 'm confused to go in a nigga \n",
      " i 'll do this \n",
      " \n",
      "\n",
      "[127m 5s (39000 78.0%) 3.8497]\n",
      "i want your money and it rock me out \n",
      " if i do n't know what the fuck \n",
      " back up in your blood real \n",
      " nigga a house here when he knew a family \n",
      " \n",
      "\n",
      "[130m 42s (40000 80.0%) 4.4681]\n",
      "i 've been the keys that 's the bed \n",
      " you aint not that i be working \n",
      " nigga baby girl \n",
      " i ai n't even scream \n",
      " \n",
      "\n",
      "Error:  (tensor([  13,  105,   38,   71,   11,   14,   24, 3628,  223,  144,   14,   70,\n",
      "          20,   21,   49,   14, 1411,  362, 2706]), tensor([ 105,   38,   71,   11,   14,   24, 3628,  223,  144,   14,   70,   20,\n",
      "          21,   49,   14, 1411,  362, 2706,   14]))\n",
      "Error:  (tensor([ 750,   27,  446,   36,  450,   87, 3318,   14, 3628,    8,   38, 2308,\n",
      "          14,   15,    4,    7,   87,  449,   14,    4,    7,   34,   96,  161,\n",
      "         617,  149,   13,  155]), tensor([  27,  446,   36,  450,   87, 3318,   14, 3628,    8,   38, 2308,   14,\n",
      "          15,    4,    7,   87,  449,   14,    4,    7,   34,   96,  161,  617,\n",
      "         149,   13,  155,   14]))\n",
      "[134m 20s (41000 82.0%) 4.5700]\n",
      "i got ta have do it \n",
      " i do n't really care you \n",
      " until the sun 's down you 're bad \n",
      " i just do that look do n't got what it do \n",
      " \n",
      "\n",
      "Error:  (tensor([  24, 3628,  223,  144,   14,   70,   20,   21,   49,   14, 1411,  362,\n",
      "        2706,   14, 2191,   20,  443,   36,  175,  258]), tensor([3628,  223,  144,   14,   70,   20,   21,   49,   14, 1411,  362, 2706,\n",
      "          14, 2191,   20,  443,   36,  175,  258,   14]))\n",
      "[138m 2s (42000 84.0%) 5.4474]\n",
      "i 'll take you you the way of me \n",
      " you 're like a long bitch \n",
      " dead steps lady \n",
      " they want me after me \n",
      " \n",
      "\n",
      "[141m 47s (43000 86.0%) 4.1448]\n",
      "i be fuckin ' i 'm never gon na get caught they know \n",
      " i know i 'm tryin ' to be the babe \n",
      " that 's a king of real \n",
      " it 's all and it 's the sky \n",
      " \n",
      "\n",
      "Error:  (tensor([  20,   24, 1391,   20,   24,  321,  139,   13,  380,  326,   53,   31,\n",
      "          14,   98, 3628,  109,  209,   27,   72,   38, 2366,   15, 1335, 2216,\n",
      "        1355,  167,   27,   21,   26,   14,   26,   27,  299,   89,    4,  493,\n",
      "         110, 2739,   87,  209,   46,  848,   11,   14, 1071,  918,  139,  258,\n",
      "           4,  107,   42,   62,   15,  930,   46,   40,   38, 1260, 1489]), tensor([  24, 1391,   20,   24,  321,  139,   13,  380,  326,   53,   31,   14,\n",
      "          98, 3628,  109,  209,   27,   72,   38, 2366,   15, 1335, 2216, 1355,\n",
      "         167,   27,   21,   26,   14,   26,   27,  299,   89,    4,  493,  110,\n",
      "        2739,   87,  209,   46,  848,   11,   14, 1071,  918,  139,  258,    4,\n",
      "         107,   42,   62,   15,  930,   46,   40,   38, 1260, 1489,   14]))\n",
      "[145m 36s (44000 88.0%) 4.0970]\n",
      "i 'm tired of be gon ' work to sleep i wo n't be \n",
      " i hit the bills takin be and my sister \n",
      " where the tears they preach without me \n",
      " it 's the struggle of me \n",
      " \n",
      "\n",
      "[149m 27s (45000 90.0%) 2.9519]\n",
      "i let you get through oh oh oh oh oh oh oh oh oh oh oh oh oh oh oh oh oh oh oh oh oh oh \n",
      " i 'm just keep it real yeah but the mic is with it \n",
      " my go on my mind \n",
      " i got ta be no way \n",
      " \n",
      "\n",
      "Error:  (tensor([  13,  105,   38,   71,   11,   14,   24, 3628,  223,  144,   14,   70,\n",
      "          20,   21,   49,   14, 1411,  362, 2706]), tensor([ 105,   38,   71,   11,   14,   24, 3628,  223,  144,   14,   70,   20,\n",
      "          21,   49,   14, 1411,  362, 2706,   14]))\n",
      "[153m 18s (46000 92.0%) 4.2842]\n",
      "i i 'm just a stone with my heat \n",
      " i 'm dog \n",
      " i pray a good to it for you \n",
      " i 'm a motherfucker \n",
      " \n",
      "\n",
      "Error:  (tensor([ 302,   35,   36, 3030,  223,  497,   14,   13,  105,   38,   71,   11,\n",
      "          14,   24, 3628,  223,  144,   14,   70,   20,   21,   49]), tensor([  35,   36, 3030,  223,  497,   14,   13,  105,   38,   71,   11,   14,\n",
      "          24, 3628,  223,  144,   14,   70,   20,   21,   49,   14]))\n",
      "Error:  (tensor([ 319,  259,  633,   14,    4,   75,   34,  133,   51,   57,  224,  316,\n",
      "         240,   14,    4,   40,  111,    4,   60, 3628,   14,   13,  222,  170,\n",
      "          29,  223,  139, 1494,  276]), tensor([ 259,  633,   14,    4,   75,   34,  133,   51,   57,  224,  316,  240,\n",
      "          14,    4,   40,  111,    4,   60, 3628,   14,   13,  222,  170,   29,\n",
      "         223,  139, 1494,  276,   14]))\n",
      "[157m 12s (47000 94.0%) 2.9715]\n",
      "i i 'm selfish \n",
      " i 'm sorry than i like this \n",
      " can we keep it real \n",
      " well i 'll yell that \n",
      " \n",
      "\n",
      "[161m 10s (48000 96.0%) 4.3186]\n",
      "i pop your niggaz just hate that they do \n",
      " i 'm gon ' take you home \n",
      " i do n't want \n",
      " i 'll shoot the rhythm i say \n",
      " \n",
      "\n",
      "Error:  (tensor([ 513,   46,   24, 3193,   15,  161,  113,   14,   13,  232,  168,   29,\n",
      "          38,  740,   14,   56,  531,  561, 2705,   29, 1641, 3628,   14,  340,\n",
      "         976,  313]), tensor([  46,   24, 3193,   15,  161,  113,   14,   13,  232,  168,   29,   38,\n",
      "         740,   14,   56,  531,  561, 2705,   29, 1641, 3628,   14,  340,  976,\n",
      "         313,   14]))\n",
      "Error:  (tensor([  15,    4,   60, 2589,   36,   37, 1128,   14,  394,   15,  531,   19,\n",
      "         160,   14,   26,   27,   87,  558,   14,   70,    4,   60,   38,  116,\n",
      "         421,  944,  240, 3628,   27]), tensor([   4,   60, 2589,   36,   37, 1128,   14,  394,   15,  531,   19,  160,\n",
      "          14,   26,   27,   87,  558,   14,   70,    4,   60,   38,  116,  421,\n",
      "         944,  240, 3628,   27,   14]))\n",
      "[165m 10s (49000 98.0%) 5.3515]\n",
      "i like were your best job to tell you i did it \n",
      " do n't do is i do n't even know what i say \n",
      " so let my gold high \n",
      " why you 're all around \n",
      " \n",
      "\n",
      "Error:  (tensor([ 750,   27,  446,   36,  450,   87, 3318,   14, 3628,    8,   38, 2308,\n",
      "          14,   15,    4,    7,   87,  449,   14,    4,    7,   34,   96,  161,\n",
      "         617,  149,   13,  155]), tensor([  27,  446,   36,  450,   87, 3318,   14, 3628,    8,   38, 2308,   14,\n",
      "          15,    4,    7,   87,  449,   14,    4,    7,   34,   96,  161,  617,\n",
      "         149,   13,  155,   14]))\n",
      "[169m 13s (50000 100.0%) 4.8181]\n",
      "i 'm out \n",
      " i used to relax \n",
      " i just want my style \n",
      " i 'm going gon ' make you on \n",
      " \n",
      "\n"
     ]
    }
   ],
   "source": [
    "loss_array = loss_array +train(smallvocab2_LSTM_model, optimizer, criterion, 50000, 1000, 10, train_set, return_loss_array=True)"
   ]
  },
  {
   "cell_type": "code",
   "execution_count": null,
   "metadata": {
    "id": "ZhNhM0mGccBM"
   },
   "outputs": [],
   "source": [
    "pickle.dump(smallvocab2_LSTM_model,open(\"../resources/smallvocab2.p\",\"wb\"))\n",
    "pickle.dump(loss_array,open(\"../resources/smallvocabloss2.p\",\"wb\"))\n",
    "pickle.dump(shuffled,open(\"../resources/datasplit2.p\",\"wb\"))\n",
    "pickle.dump(optimizer,open(\"../resources/optimizer2.p\",\"wb\"))"
   ]
  },
  {
   "cell_type": "markdown",
   "metadata": {
    "id": "wJ6fAg2rceQZ"
   },
   "source": [
    "**Generate from different models**\n",
    "Here we use different pickled models that we previously trained to generate lists of four line phrases that can be used as data for classification and evaluation."
   ]
  },
  {
   "cell_type": "code",
   "execution_count": null,
   "metadata": {
    "id": "3uW9igh1cjkB"
   },
   "outputs": [],
   "source": [
    "twolyr = pickle.load(open(\"../resources/2lyr_word_level_LSTM(2).p\",\"rb\"))"
   ]
  },
  {
   "cell_type": "code",
   "execution_count": null,
   "metadata": {
    "id": "EXgMWS-TczyZ"
   },
   "outputs": [],
   "source": [
    "onelyr = pickle.load(open(\"../resources/biglyr_word_level_LSTM(1).p\",\"rb\"))"
   ]
  },
  {
   "cell_type": "code",
   "execution_count": null,
   "metadata": {
    "id": "vzGBtFvlc5K5"
   },
   "outputs": [],
   "source": [
    "onlyr_list= []\n",
    "for x in range(100):\n",
    "  beginning= random_valid_phrase(valid_phrases)[0][0:1]\n",
    "  onlyr_list.append(nice_format(generate(onelyr, beginning)))"
   ]
  },
  {
   "cell_type": "code",
   "execution_count": null,
   "metadata": {
    "id": "sajQxoAhdUBs"
   },
   "outputs": [],
   "source": [
    "pickle.dump(onlyr_list, open(\"../resources/onelyr_list.p\",\"wb\"))"
   ]
  },
  {
   "cell_type": "code",
   "execution_count": null,
   "metadata": {
    "id": "9UEdkf0jdnrU"
   },
   "outputs": [],
   "source": [
    "twolyr_list= []\n",
    "for x in range(100):\n",
    "  beginning= random_valid_phrase(valid_phrases)[0][0:1]\n",
    "  twolyr_list.append(nice_format(generate(twolyr, beginning)))"
   ]
  },
  {
   "cell_type": "code",
   "execution_count": null,
   "metadata": {
    "id": "FVg3-wOSeQ42"
   },
   "outputs": [],
   "source": [
    "pickle.dump(twolyr_list, open(\"../resources/twolyr_list.p\",\"wb\"))"
   ]
  },
  {
   "cell_type": "code",
   "execution_count": null,
   "metadata": {
    "id": "palyix2oelyW"
   },
   "outputs": [],
   "source": [
    "#generate a list of 100 random outputs for evaluation.\n",
    "random_list= []\n",
    "dist = nltk.DictionaryProbDist(freq_dict,normalize=True)\n",
    "for x in range(100):\n",
    "  length= random.choice(range(40,100))\n",
    "  output= []\n",
    "  for y in range(length):\n",
    "    output.append(dist.generate())\n",
    "  random_list.append(nice_format(output, ['nxstsng','nxtvrse']))"
   ]
  },
  {
   "cell_type": "code",
   "execution_count": null,
   "metadata": {
    "id": "ORKBrGP1fJPB"
   },
   "outputs": [],
   "source": [
    "pickle.dump(random_list, open(\"../resources/random_list.p\",\"wb\"))"
   ]
  }
 ],
 "metadata": {
  "colab": {
   "collapsed_sections": [],
   "include_colab_link": true,
   "name": "LSTM generation.ipynb",
   "provenance": []
  },
  "kernelspec": {
   "display_name": "Python 3",
   "language": "python",
   "name": "python3"
  },
  "language_info": {
   "codemirror_mode": {
    "name": "ipython",
    "version": 3
   },
   "file_extension": ".py",
   "mimetype": "text/x-python",
   "name": "python",
   "nbconvert_exporter": "python",
   "pygments_lexer": "ipython3",
   "version": "3.7.9"
  }
 },
 "nbformat": 4,
 "nbformat_minor": 1
}
